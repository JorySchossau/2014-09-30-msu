{
 "metadata": {
  "name": "",
  "signature": "sha256:e0c755441738a69c0d63e8a69d867de9982464768a666cae25370c69f95ad8f7"
 },
 "nbformat": 3,
 "nbformat_minor": 0,
 "worksheets": [
  {
   "cells": [
    {
     "cell_type": "code",
     "collapsed": false,
     "input": [
      "!head mosquito/mosquito_data_A1.csv"
     ],
     "language": "python",
     "metadata": {},
     "outputs": [
      {
       "output_type": "stream",
       "stream": "stdout",
       "text": [
        "year,temperature,rainfall,mosquitos\r\n",
        "2001,87,222,198\r\n",
        "2002,72,103,105\r\n",
        "2003,77,176,166\r\n",
        "2004,89,236,210\r\n",
        "2005,88,283,242\r\n",
        "2006,89,151,147\r\n",
        "2007,71,121,117\r\n",
        "2008,88,267,232\r\n",
        "2009,85,211,191\r\n"
       ]
      }
     ],
     "prompt_number": 1
    },
    {
     "cell_type": "code",
     "collapsed": false,
     "input": [
      "import pandas"
     ],
     "language": "python",
     "metadata": {},
     "outputs": [],
     "prompt_number": 3
    },
    {
     "cell_type": "code",
     "collapsed": false,
     "input": [
      "data = pandas.read_csv('mosquito/mosquito_data_A1.csv') "
     ],
     "language": "python",
     "metadata": {},
     "outputs": [],
     "prompt_number": 5
    },
    {
     "cell_type": "code",
     "collapsed": false,
     "input": [
      "temp = data['temperature']   "
     ],
     "language": "python",
     "metadata": {},
     "outputs": [],
     "prompt_number": 20
    },
    {
     "cell_type": "code",
     "collapsed": false,
     "input": [
      "print temp.mean()\n",
      "print temp.std() "
     ],
     "language": "python",
     "metadata": {},
     "outputs": [
      {
       "output_type": "stream",
       "stream": "stdout",
       "text": [
        "82.1\n",
        "7.44535649471\n"
       ]
      }
     ],
     "prompt_number": 22
    },
    {
     "cell_type": "code",
     "collapsed": false,
     "input": [
      "def fahr_to_celsius(temp_in_fahr):\n",
      "    return (temp_in_fahr - 32) * 5 / 9.0"
     ],
     "language": "python",
     "metadata": {},
     "outputs": [],
     "prompt_number": 23
    },
    {
     "cell_type": "code",
     "collapsed": false,
     "input": [
      "print fahr_to_celsius(data['temperature'][0])  "
     ],
     "language": "python",
     "metadata": {},
     "outputs": [
      {
       "output_type": "stream",
       "stream": "stdout",
       "text": [
        "30.5555555556\n"
       ]
      }
     ],
     "prompt_number": 28
    },
    {
     "cell_type": "code",
     "collapsed": false,
     "input": [
      "for t in data['temperature']:\n",
      "    if t > 80:\n",
      "        print str(t) + \": \" + str(fahr_to_celsius(t))\n",
      "    else:\n",
      "        print str(t) + ': smaller than 80'"
     ],
     "language": "python",
     "metadata": {},
     "outputs": []
    },
    {
     "cell_type": "markdown",
     "metadata": {},
     "source": [
      "Take the mean of temperatures,\n",
      "and if the temperature is bigger than the mean \n",
      "print the temperature and 'bigger than mean'\n",
      "\n",
      "if it is equals to the mean,\n",
      "print the temperature and 'equals to mean'\n",
      "\n",
      "if it is smaller than the mean,\n",
      "print the temperature and 'smaller than mean'"
     ]
    },
    {
     "cell_type": "code",
     "collapsed": false,
     "input": [
      "mean = data['temperature'].mean()\n",
      "\n",
      "for t in data['temperature']:\n",
      "    if t > mean:\n",
      "        print str(t) + ' bigger than mean'\n",
      "    elif t < mean:\n",
      "        print str(t) + ' smaller than mean'\n",
      "    elif t == mean:\n",
      "        print str(t) + ' equal to mean'"
     ],
     "language": "python",
     "metadata": {},
     "outputs": [
      {
       "output_type": "stream",
       "stream": "stdout",
       "text": [
        "87 bigger than mean\n",
        "72 smaller than mean\n",
        "77 smaller than mean\n",
        "89 bigger than mean\n",
        "88 bigger than mean\n",
        "89 bigger than mean\n",
        "71 smaller than mean\n",
        "88 bigger than mean\n",
        "85 bigger than mean\n",
        "75 smaller than mean\n"
       ]
      }
     ],
     "prompt_number": 46
    },
    {
     "cell_type": "code",
     "collapsed": false,
     "input": [
      "fahr_to_celsius(32) "
     ],
     "language": "python",
     "metadata": {},
     "outputs": [
      {
       "metadata": {},
       "output_type": "pyout",
       "prompt_number": 51,
       "text": [
        "0.0"
       ]
      }
     ],
     "prompt_number": 51
    },
    {
     "cell_type": "code",
     "collapsed": false,
     "input": [
      "temp_in_celsius = data['temperature'].apply(fahr_to_celsius)  "
     ],
     "language": "python",
     "metadata": {},
     "outputs": [],
     "prompt_number": 54
    },
    {
     "cell_type": "code",
     "collapsed": false,
     "input": [
      "temp_in_celsius"
     ],
     "language": "python",
     "metadata": {},
     "outputs": [
      {
       "metadata": {},
       "output_type": "pyout",
       "prompt_number": 55,
       "text": [
        "0    30.555556\n",
        "1    22.222222\n",
        "2    25.000000\n",
        "3    31.666667\n",
        "4    31.111111\n",
        "5    31.666667\n",
        "6    21.666667\n",
        "7    31.111111\n",
        "8    29.444444\n",
        "9    23.888889\n",
        "Name: temperature, dtype: float64"
       ]
      }
     ],
     "prompt_number": 55
    },
    {
     "cell_type": "code",
     "collapsed": false,
     "input": [
      "data['temperature C'] = temp_in_celsius"
     ],
     "language": "python",
     "metadata": {},
     "outputs": [],
     "prompt_number": 57
    },
    {
     "cell_type": "code",
     "collapsed": false,
     "input": [
      "data"
     ],
     "language": "python",
     "metadata": {},
     "outputs": [
      {
       "html": [
        "<div style=\"max-height:1000px;max-width:1500px;overflow:auto;\">\n",
        "<table border=\"1\" class=\"dataframe\">\n",
        "  <thead>\n",
        "    <tr style=\"text-align: right;\">\n",
        "      <th></th>\n",
        "      <th>year</th>\n",
        "      <th>temperature</th>\n",
        "      <th>rainfall</th>\n",
        "      <th>mosquitos</th>\n",
        "      <th>temperature C</th>\n",
        "    </tr>\n",
        "  </thead>\n",
        "  <tbody>\n",
        "    <tr>\n",
        "      <th>0</th>\n",
        "      <td> 2001</td>\n",
        "      <td> 87</td>\n",
        "      <td> 222</td>\n",
        "      <td> 198</td>\n",
        "      <td> 30.555556</td>\n",
        "    </tr>\n",
        "    <tr>\n",
        "      <th>1</th>\n",
        "      <td> 2002</td>\n",
        "      <td> 72</td>\n",
        "      <td> 103</td>\n",
        "      <td> 105</td>\n",
        "      <td> 22.222222</td>\n",
        "    </tr>\n",
        "    <tr>\n",
        "      <th>2</th>\n",
        "      <td> 2003</td>\n",
        "      <td> 77</td>\n",
        "      <td> 176</td>\n",
        "      <td> 166</td>\n",
        "      <td> 25.000000</td>\n",
        "    </tr>\n",
        "    <tr>\n",
        "      <th>3</th>\n",
        "      <td> 2004</td>\n",
        "      <td> 89</td>\n",
        "      <td> 236</td>\n",
        "      <td> 210</td>\n",
        "      <td> 31.666667</td>\n",
        "    </tr>\n",
        "    <tr>\n",
        "      <th>4</th>\n",
        "      <td> 2005</td>\n",
        "      <td> 88</td>\n",
        "      <td> 283</td>\n",
        "      <td> 242</td>\n",
        "      <td> 31.111111</td>\n",
        "    </tr>\n",
        "    <tr>\n",
        "      <th>5</th>\n",
        "      <td> 2006</td>\n",
        "      <td> 89</td>\n",
        "      <td> 151</td>\n",
        "      <td> 147</td>\n",
        "      <td> 31.666667</td>\n",
        "    </tr>\n",
        "    <tr>\n",
        "      <th>6</th>\n",
        "      <td> 2007</td>\n",
        "      <td> 71</td>\n",
        "      <td> 121</td>\n",
        "      <td> 117</td>\n",
        "      <td> 21.666667</td>\n",
        "    </tr>\n",
        "    <tr>\n",
        "      <th>7</th>\n",
        "      <td> 2008</td>\n",
        "      <td> 88</td>\n",
        "      <td> 267</td>\n",
        "      <td> 232</td>\n",
        "      <td> 31.111111</td>\n",
        "    </tr>\n",
        "    <tr>\n",
        "      <th>8</th>\n",
        "      <td> 2009</td>\n",
        "      <td> 85</td>\n",
        "      <td> 211</td>\n",
        "      <td> 191</td>\n",
        "      <td> 29.444444</td>\n",
        "    </tr>\n",
        "    <tr>\n",
        "      <th>9</th>\n",
        "      <td> 2010</td>\n",
        "      <td> 75</td>\n",
        "      <td> 101</td>\n",
        "      <td> 106</td>\n",
        "      <td> 23.888889</td>\n",
        "    </tr>\n",
        "  </tbody>\n",
        "</table>\n",
        "</div>"
       ],
       "metadata": {},
       "output_type": "pyout",
       "prompt_number": 58,
       "text": [
        "   year  temperature  rainfall  mosquitos  temperature C\n",
        "0  2001           87       222        198      30.555556\n",
        "1  2002           72       103        105      22.222222\n",
        "2  2003           77       176        166      25.000000\n",
        "3  2004           89       236        210      31.666667\n",
        "4  2005           88       283        242      31.111111\n",
        "5  2006           89       151        147      31.666667\n",
        "6  2007           71       121        117      21.666667\n",
        "7  2008           88       267        232      31.111111\n",
        "8  2009           85       211        191      29.444444\n",
        "9  2010           75       101        106      23.888889"
       ]
      }
     ],
     "prompt_number": 58
    },
    {
     "cell_type": "code",
     "collapsed": false,
     "input": [
      "%matplotlib inline"
     ],
     "language": "python",
     "metadata": {},
     "outputs": [],
     "prompt_number": 61
    },
    {
     "cell_type": "code",
     "collapsed": false,
     "input": [
      "import matplotlib.pyplot as plt"
     ],
     "language": "python",
     "metadata": {},
     "outputs": [],
     "prompt_number": 62
    },
    {
     "cell_type": "code",
     "collapsed": false,
     "input": [
      "plt.plot(data['year'], data['mosquitos'])\n",
      "plt.plot(data['year'], data['rainfall'])\n",
      "plt.savefig('mosquitos.pdf') "
     ],
     "language": "python",
     "metadata": {},
     "outputs": [
      {
       "metadata": {},
       "output_type": "display_data",
       "png": "[encoded data removed]",
       "text": [
        "<matplotlib.figure.Figure at 0x7f0ab5dd8a10>"
       ]
      }
     ],
     "prompt_number": 70
    },
    {
     "cell_type": "code",
     "collapsed": false,
     "input": [],
     "language": "python",
     "metadata": {},
     "outputs": []
    }
   ],
   "metadata": {}
  }
 ]
}