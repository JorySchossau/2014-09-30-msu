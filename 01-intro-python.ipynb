



<!DOCTYPE html>
<html lang="en" class="">
  <head prefix="og: http://ogp.me/ns# fb: http://ogp.me/ns/fb# object: http://ogp.me/ns/object# article: http://ogp.me/ns/article# profile: http://ogp.me/ns/profile#">
    <meta charset='utf-8'>
    <meta http-equiv="X-UA-Compatible" content="IE=edge">
    <meta http-equiv="Content-Language" content="en">
    
    
    <title>2014-09-30-msu/01-intro-python.ipynb at master · JorySchossau/2014-09-30-msu · GitHub</title>
    <link rel="search" type="application/opensearchdescription+xml" href="/opensearch.xml" title="GitHub">
    <link rel="fluid-icon" href="https://github.com/fluidicon.png" title="GitHub">
    <link rel="apple-touch-icon" sizes="57x57" href="/apple-touch-icon-114.png">
    <link rel="apple-touch-icon" sizes="114x114" href="/apple-touch-icon-114.png">
    <link rel="apple-touch-icon" sizes="72x72" href="/apple-touch-icon-144.png">
    <link rel="apple-touch-icon" sizes="144x144" href="/apple-touch-icon-144.png">
    <meta property="fb:app_id" content="1401488693436528">

      <meta content="@github" name="twitter:site" /><meta content="summary" name="twitter:card" /><meta content="JorySchossau/2014-09-30-msu" name="twitter:title" /><meta content="2014-09-30-msu - Software Carpentry Workshop @ Michigan State University" name="twitter:description" /><meta content="https://avatars2.githubusercontent.com/u/2677625?v=2&amp;s=400" name="twitter:image:src" />
<meta content="GitHub" property="og:site_name" /><meta content="object" property="og:type" /><meta content="https://avatars2.githubusercontent.com/u/2677625?v=2&amp;s=400" property="og:image" /><meta content="JorySchossau/2014-09-30-msu" property="og:title" /><meta content="https://github.com/JorySchossau/2014-09-30-msu" property="og:url" /><meta content="2014-09-30-msu - Software Carpentry Workshop @ Michigan State University" property="og:description" />

      <meta name="browser-stats-url" content="/_stats">
    <link rel="assets" href="https://assets-cdn.github.com/">
    <link rel="conduit-xhr" href="https://ghconduit.com:25035">
    
    <meta name="pjax-timeout" content="1000">

    <meta name="msapplication-TileImage" content="/windows-tile.png">
    <meta name="msapplication-TileColor" content="#ffffff">
    <meta name="selected-link" value="repo_source" data-pjax-transient>
      <meta name="google-analytics" content="UA-3769691-2">

    <meta content="collector.githubapp.com" name="octolytics-host" /><meta content="collector-cdn.github.com" name="octolytics-script-host" /><meta content="github" name="octolytics-app-id" /><meta content="230ADC7E:76F7:B474011:542AD106" name="octolytics-dimension-request_id" />
    <meta content="Rails, view, blob#show" name="analytics-event" />

    
    
    <link rel="icon" type="image/x-icon" href="https://assets-cdn.github.com/favicon.ico">


    <meta content="authenticity_token" name="csrf-param" />
<meta content="X19wwHmI16VcpaDprGQWFvD5kzWyO62friHWHnnwzjoEAZQD6yX4Wr/O6Fem3ladQDy4E8hFCJY+R3+0Wy+2yg==" name="csrf-token" />

    <link href="https://assets-cdn.github.com/assets/github-94a13969a6e6827bc20c27e16695126678250dbc.css" media="all" rel="stylesheet" type="text/css" />
    <link href="https://assets-cdn.github.com/assets/github2-6ab3d01697bab91a4426cb8cdc5f1d799c8eb636.css" media="all" rel="stylesheet" type="text/css" />
    


    <meta http-equiv="x-pjax-version" content="bec87dbcf8c43e4f27ba28e2ced69310">

      
  <meta name="description" content="2014-09-30-msu - Software Carpentry Workshop @ Michigan State University">
  <meta name="go-import" content="github.com/JorySchossau/2014-09-30-msu git https://github.com/JorySchossau/2014-09-30-msu.git">

  <meta content="2677625" name="octolytics-dimension-user_id" /><meta content="JorySchossau" name="octolytics-dimension-user_login" /><meta content="24113546" name="octolytics-dimension-repository_id" /><meta content="JorySchossau/2014-09-30-msu" name="octolytics-dimension-repository_nwo" /><meta content="true" name="octolytics-dimension-repository_public" /><meta content="false" name="octolytics-dimension-repository_is_fork" /><meta content="24113546" name="octolytics-dimension-repository_network_root_id" /><meta content="JorySchossau/2014-09-30-msu" name="octolytics-dimension-repository_network_root_nwo" />
  <link href="https://github.com/JorySchossau/2014-09-30-msu/commits/master.atom" rel="alternate" title="Recent Commits to 2014-09-30-msu:master" type="application/atom+xml">

  </head>


  <body class="logged_out  env-production  vis-public page-blob">
    <a href="#start-of-content" tabindex="1" class="accessibility-aid js-skip-to-content">Skip to content</a>
    <div class="wrapper">
      
      
      
      


      
      <div class="header header-logged-out" role="banner">
  <div class="container clearfix">

    <a class="header-logo-wordmark" href="https://github.com/" ga-data-click="(Logged out) Header, go to homepage, icon:logo-wordmark">
      <span class="mega-octicon octicon-logo-github"></span>
    </a>

    <div class="header-actions" role="navigation">
        <a class="button primary" href="/join" data-ga-click="(Logged out) Header, clicked Sign up, text:sign-up">Sign up</a>
      <a class="button signin" href="/login?return_to=%2FJorySchossau%2F2014-09-30-msu%2Fblob%2Fmaster%2Fintermediate%2Fpython%2F01-intro-python.ipynb" data-ga-click="(Logged out) Header, clicked Sign in, text:sign-in">Sign in</a>
    </div>

    <div class="site-search repo-scope js-site-search" role="search">
      <form accept-charset="UTF-8" action="/JorySchossau/2014-09-30-msu/search" class="js-site-search-form" data-global-search-url="/search" data-repo-search-url="/JorySchossau/2014-09-30-msu/search" method="get"><div style="margin:0;padding:0;display:inline"><input name="utf8" type="hidden" value="&#x2713;" /></div>
  <input type="text"
    class="js-site-search-field is-clearable"
    data-hotkey="s"
    name="q"
    placeholder="Search"
    data-global-scope-placeholder="Search GitHub"
    data-repo-scope-placeholder="Search"
    tabindex="1"
    autocapitalize="off">
  <div class="scope-badge">This repository</div>
</form>
    </div>

      <ul class="header-nav left" role="navigation">
          <li class="header-nav-item">
            <a class="header-nav-link" href="/explore" data-ga-click="(Logged out) Header, go to explore, text:explore">Explore</a>
          </li>
          <li class="header-nav-item">
            <a class="header-nav-link" href="/features" data-ga-click="(Logged out) Header, go to features, text:features">Features</a>
          </li>
          <li class="header-nav-item">
            <a class="header-nav-link" href="https://enterprise.github.com/" data-ga-click="(Logged out) Header, go to enterprise, text:enterprise">Enterprise</a>
          </li>
          <li class="header-nav-item">
            <a class="header-nav-link" href="/blog" data-ga-click="(Logged out) Header, go to blog, text:blog">Blog</a>
          </li>
      </ul>

  </div>
</div>



      <div id="start-of-content" class="accessibility-aid"></div>
          <div class="site" itemscope itemtype="http://schema.org/WebPage">
    <div id="js-flash-container">
      
    </div>
    <div class="pagehead repohead instapaper_ignore readability-menu">
      <div class="container">
        
<ul class="pagehead-actions">


  <li>
      <a href="/login?return_to=%2FJorySchossau%2F2014-09-30-msu"
    class="minibutton with-count star-button tooltipped tooltipped-n"
    aria-label="You must be signed in to star a repository" rel="nofollow">
    <span class="octicon octicon-star"></span>
    Star
  </a>

    <a class="social-count js-social-count" href="/JorySchossau/2014-09-30-msu/stargazers">
      0
    </a>

  </li>

    <li>
      <a href="/login?return_to=%2FJorySchossau%2F2014-09-30-msu"
        class="minibutton with-count js-toggler-target fork-button tooltipped tooltipped-n"
        aria-label="You must be signed in to fork a repository" rel="nofollow">
        <span class="octicon octicon-repo-forked"></span>
        Fork
      </a>
      <a href="/JorySchossau/2014-09-30-msu/network" class="social-count">
        1
      </a>
    </li>
</ul>

        <h1 itemscope itemtype="http://data-vocabulary.org/Breadcrumb" class="entry-title public">
          <span class="mega-octicon octicon-repo"></span>
          <span class="author"><a href="/JorySchossau" class="url fn" itemprop="url" rel="author"><span itemprop="title">JorySchossau</span></a></span><!--
       --><span class="path-divider">/</span><!--
       --><strong><a href="/JorySchossau/2014-09-30-msu" class="js-current-repository js-repo-home-link">2014-09-30-msu</a></strong>

          <span class="page-context-loader">
            <img alt="" height="16" src="https://assets-cdn.github.com/images/spinners/octocat-spinner-32.gif" width="16" />
          </span>

        </h1>
      </div><!-- /.container -->
    </div><!-- /.repohead -->

    <div class="container">
      <div class="repository-with-sidebar repo-container new-discussion-timeline  ">
        <div class="repository-sidebar clearfix">
            
<div class="sunken-menu vertical-right repo-nav js-repo-nav js-repository-container-pjax js-octicon-loaders" role="navigation" data-issue-count-url="/JorySchossau/2014-09-30-msu/issues/counts">
  <div class="sunken-menu-contents">
    <ul class="sunken-menu-group">
      <li class="tooltipped tooltipped-w" aria-label="Code">
        <a href="/JorySchossau/2014-09-30-msu" aria-label="Code" class="selected js-selected-navigation-item sunken-menu-item" data-hotkey="g c" data-pjax="true" data-selected-links="repo_source repo_downloads repo_commits repo_releases repo_tags repo_branches /JorySchossau/2014-09-30-msu">
          <span class="octicon octicon-code"></span> <span class="full-word">Code</span>
          <img alt="" class="mini-loader" height="16" src="https://assets-cdn.github.com/images/spinners/octocat-spinner-32.gif" width="16" />
</a>      </li>

        <li class="tooltipped tooltipped-w" aria-label="Issues">
          <a href="/JorySchossau/2014-09-30-msu/issues" aria-label="Issues" class="js-selected-navigation-item sunken-menu-item js-disable-pjax" data-hotkey="g i" data-selected-links="repo_issues repo_labels repo_milestones /JorySchossau/2014-09-30-msu/issues">
            <span class="octicon octicon-issue-opened"></span> <span class="full-word">Issues</span>
            <span class="js-issue-replace-counter"></span>
            <img alt="" class="mini-loader" height="16" src="https://assets-cdn.github.com/images/spinners/octocat-spinner-32.gif" width="16" />
</a>        </li>

      <li class="tooltipped tooltipped-w" aria-label="Pull Requests">
        <a href="/JorySchossau/2014-09-30-msu/pulls" aria-label="Pull Requests" class="js-selected-navigation-item sunken-menu-item js-disable-pjax" data-hotkey="g p" data-selected-links="repo_pulls /JorySchossau/2014-09-30-msu/pulls">
            <span class="octicon octicon-git-pull-request"></span> <span class="full-word">Pull Requests</span>
            <span class="js-pull-replace-counter"></span>
            <img alt="" class="mini-loader" height="16" src="https://assets-cdn.github.com/images/spinners/octocat-spinner-32.gif" width="16" />
</a>      </li>


    </ul>
    <div class="sunken-menu-separator"></div>
    <ul class="sunken-menu-group">

      <li class="tooltipped tooltipped-w" aria-label="Pulse">
        <a href="/JorySchossau/2014-09-30-msu/pulse/weekly" aria-label="Pulse" class="js-selected-navigation-item sunken-menu-item" data-pjax="true" data-selected-links="pulse /JorySchossau/2014-09-30-msu/pulse/weekly">
          <span class="octicon octicon-pulse"></span> <span class="full-word">Pulse</span>
          <img alt="" class="mini-loader" height="16" src="https://assets-cdn.github.com/images/spinners/octocat-spinner-32.gif" width="16" />
</a>      </li>

      <li class="tooltipped tooltipped-w" aria-label="Graphs">
        <a href="/JorySchossau/2014-09-30-msu/graphs" aria-label="Graphs" class="js-selected-navigation-item sunken-menu-item" data-pjax="true" data-selected-links="repo_graphs repo_contributors /JorySchossau/2014-09-30-msu/graphs">
          <span class="octicon octicon-graph"></span> <span class="full-word">Graphs</span>
          <img alt="" class="mini-loader" height="16" src="https://assets-cdn.github.com/images/spinners/octocat-spinner-32.gif" width="16" />
</a>      </li>
    </ul>


  </div>
</div>

              <div class="only-with-full-nav">
                
  
<div class="clone-url open"
  data-protocol-type="http"
  data-url="/users/set_protocol?protocol_selector=http&amp;protocol_type=clone">
  <h3><span class="text-emphasized">HTTPS</span> clone URL</h3>
  <div class="input-group">
    <input type="text" class="input-mini input-monospace js-url-field"
           value="https://github.com/JorySchossau/2014-09-30-msu.git" readonly="readonly">
    <span class="input-group-button">
      <button aria-label="Copy to clipboard" class="js-zeroclipboard minibutton zeroclipboard-button" data-clipboard-text="https://github.com/JorySchossau/2014-09-30-msu.git" data-copied-hint="Copied!" type="button"><span class="octicon octicon-clippy"></span></button>
    </span>
  </div>
</div>

  
<div class="clone-url "
  data-protocol-type="subversion"
  data-url="/users/set_protocol?protocol_selector=subversion&amp;protocol_type=clone">
  <h3><span class="text-emphasized">Subversion</span> checkout URL</h3>
  <div class="input-group">
    <input type="text" class="input-mini input-monospace js-url-field"
           value="https://github.com/JorySchossau/2014-09-30-msu" readonly="readonly">
    <span class="input-group-button">
      <button aria-label="Copy to clipboard" class="js-zeroclipboard minibutton zeroclipboard-button" data-clipboard-text="https://github.com/JorySchossau/2014-09-30-msu" data-copied-hint="Copied!" type="button"><span class="octicon octicon-clippy"></span></button>
    </span>
  </div>
</div>


<p class="clone-options">You can clone with
      <a href="#" class="js-clone-selector" data-protocol="http">HTTPS</a>
      or <a href="#" class="js-clone-selector" data-protocol="subversion">Subversion</a>.
  <a href="https://help.github.com/articles/which-remote-url-should-i-use" class="help tooltipped tooltipped-n" aria-label="Get help on which URL is right for you.">
    <span class="octicon octicon-question"></span>
  </a>
</p>



                <a href="/JorySchossau/2014-09-30-msu/archive/master.zip"
                   class="minibutton sidebar-button"
                   aria-label="Download the contents of JorySchossau/2014-09-30-msu as a zip file"
                   title="Download the contents of JorySchossau/2014-09-30-msu as a zip file"
                   rel="nofollow">
                  <span class="octicon octicon-cloud-download"></span>
                  Download ZIP
                </a>
              </div>
        </div><!-- /.repository-sidebar -->

        <div id="js-repo-pjax-container" class="repository-content context-loader-container" data-pjax-container>
          

<a href="/JorySchossau/2014-09-30-msu/blob/05e70f49ed2d65a2ec89962d8c6b5c842970baf9/intermediate/python/01-intro-python.ipynb" class="hidden js-permalink-shortcut" data-hotkey="y">Permalink</a>

<!-- blob contrib key: blob_contributors:v21:e8238829840c2f09995fbe55a5b2bb73 -->

<div class="file-navigation">
  
<div class="select-menu js-menu-container js-select-menu left">
  <span class="minibutton select-menu-button js-menu-target css-truncate" data-hotkey="w"
    data-master-branch="master"
    data-ref="master"
    title="master"
    role="button" aria-label="Switch branches or tags" tabindex="0" aria-haspopup="true">
    <span class="octicon octicon-git-branch"></span>
    <i>branch:</i>
    <span class="js-select-button css-truncate-target">master</span>
  </span>

  <div class="select-menu-modal-holder js-menu-content js-navigation-container" data-pjax aria-hidden="true">

    <div class="select-menu-modal">
      <div class="select-menu-header">
        <span class="select-menu-title">Switch branches/tags</span>
        <span class="octicon octicon-x js-menu-close" role="button" aria-label="Close"></span>
      </div> <!-- /.select-menu-header -->

      <div class="select-menu-filters">
        <div class="select-menu-text-filter">
          <input type="text" aria-label="Filter branches/tags" id="context-commitish-filter-field" class="js-filterable-field js-navigation-enable" placeholder="Filter branches/tags">
        </div>
        <div class="select-menu-tabs">
          <ul>
            <li class="select-menu-tab">
              <a href="#" data-tab-filter="branches" class="js-select-menu-tab">Branches</a>
            </li>
            <li class="select-menu-tab">
              <a href="#" data-tab-filter="tags" class="js-select-menu-tab">Tags</a>
            </li>
          </ul>
        </div><!-- /.select-menu-tabs -->
      </div><!-- /.select-menu-filters -->

      <div class="select-menu-list select-menu-tab-bucket js-select-menu-tab-bucket" data-tab-filter="branches">

        <div data-filterable-for="context-commitish-filter-field" data-filterable-type="substring">


            <div class="select-menu-item js-navigation-item ">
              <span class="select-menu-item-icon octicon octicon-check"></span>
              <a href="/JorySchossau/2014-09-30-msu/blob/Leigh/intermediate/python/01-intro-python.ipynb"
                 data-name="Leigh"
                 data-skip-pjax="true"
                 rel="nofollow"
                 class="js-navigation-open select-menu-item-text css-truncate-target"
                 title="Leigh">Leigh</a>
            </div> <!-- /.select-menu-item -->
            <div class="select-menu-item js-navigation-item ">
              <span class="select-menu-item-icon octicon octicon-check"></span>
              <a href="/JorySchossau/2014-09-30-msu/blob/gh-pages/intermediate/python/01-intro-python.ipynb"
                 data-name="gh-pages"
                 data-skip-pjax="true"
                 rel="nofollow"
                 class="js-navigation-open select-menu-item-text css-truncate-target"
                 title="gh-pages">gh-pages</a>
            </div> <!-- /.select-menu-item -->
            <div class="select-menu-item js-navigation-item selected">
              <span class="select-menu-item-icon octicon octicon-check"></span>
              <a href="/JorySchossau/2014-09-30-msu/blob/master/intermediate/python/01-intro-python.ipynb"
                 data-name="master"
                 data-skip-pjax="true"
                 rel="nofollow"
                 class="js-navigation-open select-menu-item-text css-truncate-target"
                 title="master">master</a>
            </div> <!-- /.select-menu-item -->
        </div>

          <div class="select-menu-no-results">Nothing to show</div>
      </div> <!-- /.select-menu-list -->

      <div class="select-menu-list select-menu-tab-bucket js-select-menu-tab-bucket" data-tab-filter="tags">
        <div data-filterable-for="context-commitish-filter-field" data-filterable-type="substring">


        </div>

        <div class="select-menu-no-results">Nothing to show</div>
      </div> <!-- /.select-menu-list -->

    </div> <!-- /.select-menu-modal -->
  </div> <!-- /.select-menu-modal-holder -->
</div> <!-- /.select-menu -->

  <div class="button-group right">
    <a href="/JorySchossau/2014-09-30-msu/find/master"
          class="js-show-file-finder minibutton empty-icon tooltipped tooltipped-s"
          data-pjax
          data-hotkey="t"
          aria-label="Quickly jump between files">
      <span class="octicon octicon-list-unordered"></span>
    </a>
    <button class="js-zeroclipboard minibutton zeroclipboard-button"
          data-clipboard-text="intermediate/python/01-intro-python.ipynb"
          aria-label="Copy to clipboard"
          data-copied-hint="Copied!">
      <span class="octicon octicon-clippy"></span>
    </button>
  </div>

  <div class="breadcrumb">
    <span class='repo-root js-repo-root'><span itemscope="" itemtype="http://data-vocabulary.org/Breadcrumb"><a href="/JorySchossau/2014-09-30-msu" class="" data-branch="master" data-direction="back" data-pjax="true" itemscope="url"><span itemprop="title">2014-09-30-msu</span></a></span></span><span class="separator"> / </span><span itemscope="" itemtype="http://data-vocabulary.org/Breadcrumb"><a href="/JorySchossau/2014-09-30-msu/tree/master/intermediate" class="" data-branch="master" data-direction="back" data-pjax="true" itemscope="url"><span itemprop="title">intermediate</span></a></span><span class="separator"> / </span><span itemscope="" itemtype="http://data-vocabulary.org/Breadcrumb"><a href="/JorySchossau/2014-09-30-msu/tree/master/intermediate/python" class="" data-branch="master" data-direction="back" data-pjax="true" itemscope="url"><span itemprop="title">python</span></a></span><span class="separator"> / </span><strong class="final-path">01-intro-python.ipynb</strong>
  </div>
</div>


  <div class="commit file-history-tease">
    <div class="file-history-tease-header">
        <img alt="Greg Wilson" class="avatar" data-user="911566" height="24" src="https://avatars3.githubusercontent.com/u/911566?v=2&amp;s=48" width="24" />
        <span class="author"><a href="/gvwilson" rel="contributor">gvwilson</a></span>
        <time datetime="2014-02-16T13:17:08Z" is="relative-time">Feb 16, 2014</time>
        <div class="commit-title">
            <a href="/JorySchossau/2014-09-30-msu/commit/b8c7dc3b75002b898f26df551a2c646d78e3aaca" class="message" data-pjax="true" title="Reorganizing material to put novice + intermediate at top level">Reorganizing material to put novice + intermediate at top level</a>
        </div>
    </div>

    <div class="participation">
      <p class="quickstat">
        <a href="#blob_contributors_box" rel="facebox">
          <strong>1</strong>
           contributor
        </a>
      </p>
      
    </div>
    <div id="blob_contributors_box" style="display:none">
      <h2 class="facebox-header">Users who have contributed to this file</h2>
      <ul class="facebox-user-list">
          <li class="facebox-user-list-item">
            <img alt="Greg Wilson" data-user="911566" height="24" src="https://avatars3.githubusercontent.com/u/911566?v=2&amp;s=48" width="24" />
            <a href="/gvwilson">gvwilson</a>
          </li>
      </ul>
    </div>
  </div>

<div class="file-box">
  <div class="file">
    <div class="meta clearfix">
      <div class="info file-name">
          <span>1190 lines (1190 sloc)</span>
          <span class="meta-divider"></span>
        <span>110.846 kb</span>
      </div>
      <div class="actions">
        <div class="button-group">
          <a href="/JorySchossau/2014-09-30-msu/raw/master/intermediate/python/01-intro-python.ipynb" class="minibutton " id="raw-url">Raw</a>
            <a href="/JorySchossau/2014-09-30-msu/blame/master/intermediate/python/01-intro-python.ipynb" class="minibutton js-update-url-with-hash">Blame</a>
          <a href="/JorySchossau/2014-09-30-msu/commits/master/intermediate/python/01-intro-python.ipynb" class="minibutton " rel="nofollow">History</a>
        </div><!-- /.button-group -->


            <a class="octicon-button disabled tooltipped tooltipped-w" href="#"
               aria-label="You must be signed in to make or propose changes"><span class="octicon octicon-pencil"></span></a>

          <a class="octicon-button danger disabled tooltipped tooltipped-w" href="#"
             aria-label="You must be signed in to make or propose changes">
          <span class="octicon octicon-trashcan"></span>
        </a>
      </div><!-- /.actions -->
    </div>
    
  <div class="blob-wrapper data type-text">
      <table class="highlight tab-size-8 js-file-line-container">
      <tr>
        <td id="L1" class="blob-num js-line-number" data-line-number="1"></td>
        <td id="LC1" class="blob-code js-file-line">{</td>
      </tr>
      <tr>
        <td id="L2" class="blob-num js-line-number" data-line-number="2"></td>
        <td id="LC2" class="blob-code js-file-line"> &quot;metadata&quot;: {</td>
      </tr>
      <tr>
        <td id="L3" class="blob-num js-line-number" data-line-number="3"></td>
        <td id="LC3" class="blob-code js-file-line">  &quot;name&quot;: &quot;&quot;</td>
      </tr>
      <tr>
        <td id="L4" class="blob-num js-line-number" data-line-number="4"></td>
        <td id="LC4" class="blob-code js-file-line"> },</td>
      </tr>
      <tr>
        <td id="L5" class="blob-num js-line-number" data-line-number="5"></td>
        <td id="LC5" class="blob-code js-file-line"> &quot;nbformat&quot;: 3,</td>
      </tr>
      <tr>
        <td id="L6" class="blob-num js-line-number" data-line-number="6"></td>
        <td id="LC6" class="blob-code js-file-line"> &quot;nbformat_minor&quot;: 0,</td>
      </tr>
      <tr>
        <td id="L7" class="blob-num js-line-number" data-line-number="7"></td>
        <td id="LC7" class="blob-code js-file-line"> &quot;worksheets&quot;: [</td>
      </tr>
      <tr>
        <td id="L8" class="blob-num js-line-number" data-line-number="8"></td>
        <td id="LC8" class="blob-code js-file-line">  {</td>
      </tr>
      <tr>
        <td id="L9" class="blob-num js-line-number" data-line-number="9"></td>
        <td id="LC9" class="blob-code js-file-line">   &quot;cells&quot;: [</td>
      </tr>
      <tr>
        <td id="L10" class="blob-num js-line-number" data-line-number="10"></td>
        <td id="LC10" class="blob-code js-file-line">    {</td>
      </tr>
      <tr>
        <td id="L11" class="blob-num js-line-number" data-line-number="11"></td>
        <td id="LC11" class="blob-code js-file-line">     &quot;cell_type&quot;: &quot;heading&quot;,</td>
      </tr>
      <tr>
        <td id="L12" class="blob-num js-line-number" data-line-number="12"></td>
        <td id="LC12" class="blob-code js-file-line">     &quot;level&quot;: 1,</td>
      </tr>
      <tr>
        <td id="L13" class="blob-num js-line-number" data-line-number="13"></td>
        <td id="LC13" class="blob-code js-file-line">     &quot;metadata&quot;: {},</td>
      </tr>
      <tr>
        <td id="L14" class="blob-num js-line-number" data-line-number="14"></td>
        <td id="LC14" class="blob-code js-file-line">     &quot;source&quot;: [</td>
      </tr>
      <tr>
        <td id="L15" class="blob-num js-line-number" data-line-number="15"></td>
        <td id="LC15" class="blob-code js-file-line">      &quot;Introduction&quot;</td>
      </tr>
      <tr>
        <td id="L16" class="blob-num js-line-number" data-line-number="16"></td>
        <td id="LC16" class="blob-code js-file-line">     ]</td>
      </tr>
      <tr>
        <td id="L17" class="blob-num js-line-number" data-line-number="17"></td>
        <td id="LC17" class="blob-code js-file-line">    },</td>
      </tr>
      <tr>
        <td id="L18" class="blob-num js-line-number" data-line-number="18"></td>
        <td id="LC18" class="blob-code js-file-line">    {</td>
      </tr>
      <tr>
        <td id="L19" class="blob-num js-line-number" data-line-number="19"></td>
        <td id="LC19" class="blob-code js-file-line">     &quot;cell_type&quot;: &quot;markdown&quot;,</td>
      </tr>
      <tr>
        <td id="L20" class="blob-num js-line-number" data-line-number="20"></td>
        <td id="LC20" class="blob-code js-file-line">     &quot;metadata&quot;: {},</td>
      </tr>
      <tr>
        <td id="L21" class="blob-num js-line-number" data-line-number="21"></td>
        <td id="LC21" class="blob-code js-file-line">     &quot;source&quot;: [</td>
      </tr>
      <tr>
        <td id="L22" class="blob-num js-line-number" data-line-number="22"></td>
        <td id="LC22" class="blob-code js-file-line">      &quot;This material assumes that you have programmed before. This first lecture provides a quick introduction to programming in Python for those who either haven&#39;t used Python before or need a quick refresher.\n&quot;,</td>
      </tr>
      <tr>
        <td id="L23" class="blob-num js-line-number" data-line-number="23"></td>
        <td id="LC23" class="blob-code js-file-line">      &quot;\n&quot;,</td>
      </tr>
      <tr>
        <td id="L24" class="blob-num js-line-number" data-line-number="24"></td>
        <td id="LC24" class="blob-code js-file-line">      &quot;Let&#39;s start with a hypothetical problem we want to solve. We are interested in understanding the relationship between the weather and the number of mosquitos occuring in a particular year so that we can plan mosquito control measures accordingly. Since we want to apply these mosquito control measures at a number of different sites we need to understand both the relationship at a particular site and whether or not it is consistent across sites. The data we have to address this problem comes from the local government and are stored in tables in comma-separated values (CSV) files. Each file holds the data for a single location, each row holds the information for a single year at that location, and the columns hold the data on both mosquito numbers and the average temperature and rainfall from the beginning of mosquito breeding season. The first few rows of our first file look like:\n&quot;,</td>
      </tr>
      <tr>
        <td id="L25" class="blob-num js-line-number" data-line-number="25"></td>
        <td id="LC25" class="blob-code js-file-line">      &quot;\n&quot;,</td>
      </tr>
      <tr>
        <td id="L26" class="blob-num js-line-number" data-line-number="26"></td>
        <td id="LC26" class="blob-code js-file-line">      &quot;~~~\n&quot;,</td>
      </tr>
      <tr>
        <td id="L27" class="blob-num js-line-number" data-line-number="27"></td>
        <td id="LC27" class="blob-code js-file-line">      &quot;year,temperature,rainfall,mosquitos\n&quot;,</td>
      </tr>
      <tr>
        <td id="L28" class="blob-num js-line-number" data-line-number="28"></td>
        <td id="LC28" class="blob-code js-file-line">      &quot;2001,87,222,198\n&quot;,</td>
      </tr>
      <tr>
        <td id="L29" class="blob-num js-line-number" data-line-number="29"></td>
        <td id="LC29" class="blob-code js-file-line">      &quot;2002,72,103,105\n&quot;,</td>
      </tr>
      <tr>
        <td id="L30" class="blob-num js-line-number" data-line-number="30"></td>
        <td id="LC30" class="blob-code js-file-line">      &quot;2003,77,176,166\n&quot;,</td>
      </tr>
      <tr>
        <td id="L31" class="blob-num js-line-number" data-line-number="31"></td>
        <td id="LC31" class="blob-code js-file-line">      &quot;~~~&quot;</td>
      </tr>
      <tr>
        <td id="L32" class="blob-num js-line-number" data-line-number="32"></td>
        <td id="LC32" class="blob-code js-file-line">     ]</td>
      </tr>
      <tr>
        <td id="L33" class="blob-num js-line-number" data-line-number="33"></td>
        <td id="LC33" class="blob-code js-file-line">    },</td>
      </tr>
      <tr>
        <td id="L34" class="blob-num js-line-number" data-line-number="34"></td>
        <td id="LC34" class="blob-code js-file-line">    {</td>
      </tr>
      <tr>
        <td id="L35" class="blob-num js-line-number" data-line-number="35"></td>
        <td id="LC35" class="blob-code js-file-line">     &quot;cell_type&quot;: &quot;heading&quot;,</td>
      </tr>
      <tr>
        <td id="L36" class="blob-num js-line-number" data-line-number="36"></td>
        <td id="LC36" class="blob-code js-file-line">     &quot;level&quot;: 2,</td>
      </tr>
      <tr>
        <td id="L37" class="blob-num js-line-number" data-line-number="37"></td>
        <td id="LC37" class="blob-code js-file-line">     &quot;metadata&quot;: {},</td>
      </tr>
      <tr>
        <td id="L38" class="blob-num js-line-number" data-line-number="38"></td>
        <td id="LC38" class="blob-code js-file-line">     &quot;source&quot;: [</td>
      </tr>
      <tr>
        <td id="L39" class="blob-num js-line-number" data-line-number="39"></td>
        <td id="LC39" class="blob-code js-file-line">      &quot;Objectives&quot;</td>
      </tr>
      <tr>
        <td id="L40" class="blob-num js-line-number" data-line-number="40"></td>
        <td id="LC40" class="blob-code js-file-line">     ]</td>
      </tr>
      <tr>
        <td id="L41" class="blob-num js-line-number" data-line-number="41"></td>
        <td id="LC41" class="blob-code js-file-line">    },</td>
      </tr>
      <tr>
        <td id="L42" class="blob-num js-line-number" data-line-number="42"></td>
        <td id="LC42" class="blob-code js-file-line">    {</td>
      </tr>
      <tr>
        <td id="L43" class="blob-num js-line-number" data-line-number="43"></td>
        <td id="LC43" class="blob-code js-file-line">     &quot;cell_type&quot;: &quot;markdown&quot;,</td>
      </tr>
      <tr>
        <td id="L44" class="blob-num js-line-number" data-line-number="44"></td>
        <td id="LC44" class="blob-code js-file-line">     &quot;metadata&quot;: {},</td>
      </tr>
      <tr>
        <td id="L45" class="blob-num js-line-number" data-line-number="45"></td>
        <td id="LC45" class="blob-code js-file-line">     &quot;source&quot;: [</td>
      </tr>
      <tr>
        <td id="L46" class="blob-num js-line-number" data-line-number="46"></td>
        <td id="LC46" class="blob-code js-file-line">      &quot;* Conduct variable assignment, looping, and conditionals in Python\n&quot;,</td>
      </tr>
      <tr>
        <td id="L47" class="blob-num js-line-number" data-line-number="47"></td>
        <td id="LC47" class="blob-code js-file-line">      &quot;* Use an external Python library\n&quot;,</td>
      </tr>
      <tr>
        <td id="L48" class="blob-num js-line-number" data-line-number="48"></td>
        <td id="LC48" class="blob-code js-file-line">      &quot;* Read tabular data from a file\n&quot;,</td>
      </tr>
      <tr>
        <td id="L49" class="blob-num js-line-number" data-line-number="49"></td>
        <td id="LC49" class="blob-code js-file-line">      &quot;* Subset and perform analysis on data\n&quot;,</td>
      </tr>
      <tr>
        <td id="L50" class="blob-num js-line-number" data-line-number="50"></td>
        <td id="LC50" class="blob-code js-file-line">      &quot;* Display simple graphs&quot;</td>
      </tr>
      <tr>
        <td id="L51" class="blob-num js-line-number" data-line-number="51"></td>
        <td id="LC51" class="blob-code js-file-line">     ]</td>
      </tr>
      <tr>
        <td id="L52" class="blob-num js-line-number" data-line-number="52"></td>
        <td id="LC52" class="blob-code js-file-line">    },</td>
      </tr>
      <tr>
        <td id="L53" class="blob-num js-line-number" data-line-number="53"></td>
        <td id="LC53" class="blob-code js-file-line">    {</td>
      </tr>
      <tr>
        <td id="L54" class="blob-num js-line-number" data-line-number="54"></td>
        <td id="LC54" class="blob-code js-file-line">     &quot;cell_type&quot;: &quot;heading&quot;,</td>
      </tr>
      <tr>
        <td id="L55" class="blob-num js-line-number" data-line-number="55"></td>
        <td id="LC55" class="blob-code js-file-line">     &quot;level&quot;: 2,</td>
      </tr>
      <tr>
        <td id="L56" class="blob-num js-line-number" data-line-number="56"></td>
        <td id="LC56" class="blob-code js-file-line">     &quot;metadata&quot;: {},</td>
      </tr>
      <tr>
        <td id="L57" class="blob-num js-line-number" data-line-number="57"></td>
        <td id="LC57" class="blob-code js-file-line">     &quot;source&quot;: [</td>
      </tr>
      <tr>
        <td id="L58" class="blob-num js-line-number" data-line-number="58"></td>
        <td id="LC58" class="blob-code js-file-line">      &quot;Loading Data&quot;</td>
      </tr>
      <tr>
        <td id="L59" class="blob-num js-line-number" data-line-number="59"></td>
        <td id="LC59" class="blob-code js-file-line">     ]</td>
      </tr>
      <tr>
        <td id="L60" class="blob-num js-line-number" data-line-number="60"></td>
        <td id="LC60" class="blob-code js-file-line">    },</td>
      </tr>
      <tr>
        <td id="L61" class="blob-num js-line-number" data-line-number="61"></td>
        <td id="LC61" class="blob-code js-file-line">    {</td>
      </tr>
      <tr>
        <td id="L62" class="blob-num js-line-number" data-line-number="62"></td>
        <td id="LC62" class="blob-code js-file-line">     &quot;cell_type&quot;: &quot;markdown&quot;,</td>
      </tr>
      <tr>
        <td id="L63" class="blob-num js-line-number" data-line-number="63"></td>
        <td id="LC63" class="blob-code js-file-line">     &quot;metadata&quot;: {},</td>
      </tr>
      <tr>
        <td id="L64" class="blob-num js-line-number" data-line-number="64"></td>
        <td id="LC64" class="blob-code js-file-line">     &quot;source&quot;: [</td>
      </tr>
      <tr>
        <td id="L65" class="blob-num js-line-number" data-line-number="65"></td>
        <td id="LC65" class="blob-code js-file-line">      &quot;In order to load the data, we need to import a library called Pandas that knows\n&quot;,</td>
      </tr>
      <tr>
        <td id="L66" class="blob-num js-line-number" data-line-number="66"></td>
        <td id="LC66" class="blob-code js-file-line">      &quot;how to operate on tables of data.&quot;</td>
      </tr>
      <tr>
        <td id="L67" class="blob-num js-line-number" data-line-number="67"></td>
        <td id="LC67" class="blob-code js-file-line">     ]</td>
      </tr>
      <tr>
        <td id="L68" class="blob-num js-line-number" data-line-number="68"></td>
        <td id="LC68" class="blob-code js-file-line">    },</td>
      </tr>
      <tr>
        <td id="L69" class="blob-num js-line-number" data-line-number="69"></td>
        <td id="LC69" class="blob-code js-file-line">    {</td>
      </tr>
      <tr>
        <td id="L70" class="blob-num js-line-number" data-line-number="70"></td>
        <td id="LC70" class="blob-code js-file-line">     &quot;cell_type&quot;: &quot;code&quot;,</td>
      </tr>
      <tr>
        <td id="L71" class="blob-num js-line-number" data-line-number="71"></td>
        <td id="LC71" class="blob-code js-file-line">     &quot;collapsed&quot;: false,</td>
      </tr>
      <tr>
        <td id="L72" class="blob-num js-line-number" data-line-number="72"></td>
        <td id="LC72" class="blob-code js-file-line">     &quot;input&quot;: [</td>
      </tr>
      <tr>
        <td id="L73" class="blob-num js-line-number" data-line-number="73"></td>
        <td id="LC73" class="blob-code js-file-line">      &quot;import pandas&quot;</td>
      </tr>
      <tr>
        <td id="L74" class="blob-num js-line-number" data-line-number="74"></td>
        <td id="LC74" class="blob-code js-file-line">     ],</td>
      </tr>
      <tr>
        <td id="L75" class="blob-num js-line-number" data-line-number="75"></td>
        <td id="LC75" class="blob-code js-file-line">     &quot;language&quot;: &quot;python&quot;,</td>
      </tr>
      <tr>
        <td id="L76" class="blob-num js-line-number" data-line-number="76"></td>
        <td id="LC76" class="blob-code js-file-line">     &quot;metadata&quot;: {},</td>
      </tr>
      <tr>
        <td id="L77" class="blob-num js-line-number" data-line-number="77"></td>
        <td id="LC77" class="blob-code js-file-line">     &quot;outputs&quot;: [],</td>
      </tr>
      <tr>
        <td id="L78" class="blob-num js-line-number" data-line-number="78"></td>
        <td id="LC78" class="blob-code js-file-line">     &quot;prompt_number&quot;: 1</td>
      </tr>
      <tr>
        <td id="L79" class="blob-num js-line-number" data-line-number="79"></td>
        <td id="LC79" class="blob-code js-file-line">    },</td>
      </tr>
      <tr>
        <td id="L80" class="blob-num js-line-number" data-line-number="80"></td>
        <td id="LC80" class="blob-code js-file-line">    {</td>
      </tr>
      <tr>
        <td id="L81" class="blob-num js-line-number" data-line-number="81"></td>
        <td id="LC81" class="blob-code js-file-line">     &quot;cell_type&quot;: &quot;markdown&quot;,</td>
      </tr>
      <tr>
        <td id="L82" class="blob-num js-line-number" data-line-number="82"></td>
        <td id="LC82" class="blob-code js-file-line">     &quot;metadata&quot;: {},</td>
      </tr>
      <tr>
        <td id="L83" class="blob-num js-line-number" data-line-number="83"></td>
        <td id="LC83" class="blob-code js-file-line">     &quot;source&quot;: [</td>
      </tr>
      <tr>
        <td id="L84" class="blob-num js-line-number" data-line-number="84"></td>
        <td id="LC84" class="blob-code js-file-line">      &quot;We can now use Pandas to read our data file.&quot;</td>
      </tr>
      <tr>
        <td id="L85" class="blob-num js-line-number" data-line-number="85"></td>
        <td id="LC85" class="blob-code js-file-line">     ]</td>
      </tr>
      <tr>
        <td id="L86" class="blob-num js-line-number" data-line-number="86"></td>
        <td id="LC86" class="blob-code js-file-line">    },</td>
      </tr>
      <tr>
        <td id="L87" class="blob-num js-line-number" data-line-number="87"></td>
        <td id="LC87" class="blob-code js-file-line">    {</td>
      </tr>
      <tr>
        <td id="L88" class="blob-num js-line-number" data-line-number="88"></td>
        <td id="LC88" class="blob-code js-file-line">     &quot;cell_type&quot;: &quot;code&quot;,</td>
      </tr>
      <tr>
        <td id="L89" class="blob-num js-line-number" data-line-number="89"></td>
        <td id="LC89" class="blob-code js-file-line">     &quot;collapsed&quot;: false,</td>
      </tr>
      <tr>
        <td id="L90" class="blob-num js-line-number" data-line-number="90"></td>
        <td id="LC90" class="blob-code js-file-line">     &quot;input&quot;: [</td>
      </tr>
      <tr>
        <td id="L91" class="blob-num js-line-number" data-line-number="91"></td>
        <td id="LC91" class="blob-code js-file-line">      &quot;pandas.read_csv(&#39;mosquito_data_A1.csv&#39;)&quot;</td>
      </tr>
      <tr>
        <td id="L92" class="blob-num js-line-number" data-line-number="92"></td>
        <td id="LC92" class="blob-code js-file-line">     ],</td>
      </tr>
      <tr>
        <td id="L93" class="blob-num js-line-number" data-line-number="93"></td>
        <td id="LC93" class="blob-code js-file-line">     &quot;language&quot;: &quot;python&quot;,</td>
      </tr>
      <tr>
        <td id="L94" class="blob-num js-line-number" data-line-number="94"></td>
        <td id="LC94" class="blob-code js-file-line">     &quot;metadata&quot;: {},</td>
      </tr>
      <tr>
        <td id="L95" class="blob-num js-line-number" data-line-number="95"></td>
        <td id="LC95" class="blob-code js-file-line">     &quot;outputs&quot;: [</td>
      </tr>
      <tr>
        <td id="L96" class="blob-num js-line-number" data-line-number="96"></td>
        <td id="LC96" class="blob-code js-file-line">      {</td>
      </tr>
      <tr>
        <td id="L97" class="blob-num js-line-number" data-line-number="97"></td>
        <td id="LC97" class="blob-code js-file-line">       &quot;html&quot;: [</td>
      </tr>
      <tr>
        <td id="L98" class="blob-num js-line-number" data-line-number="98"></td>
        <td id="LC98" class="blob-code js-file-line">        &quot;&lt;div style=\&quot;max-height:1000px;max-width:1500px;overflow:auto;\&quot;&gt;\n&quot;,</td>
      </tr>
      <tr>
        <td id="L99" class="blob-num js-line-number" data-line-number="99"></td>
        <td id="LC99" class="blob-code js-file-line">        &quot;&lt;table border=\&quot;1\&quot; class=\&quot;dataframe\&quot;&gt;\n&quot;,</td>
      </tr>
      <tr>
        <td id="L100" class="blob-num js-line-number" data-line-number="100"></td>
        <td id="LC100" class="blob-code js-file-line">        &quot;  &lt;thead&gt;\n&quot;,</td>
      </tr>
      <tr>
        <td id="L101" class="blob-num js-line-number" data-line-number="101"></td>
        <td id="LC101" class="blob-code js-file-line">        &quot;    &lt;tr style=\&quot;text-align: right;\&quot;&gt;\n&quot;,</td>
      </tr>
      <tr>
        <td id="L102" class="blob-num js-line-number" data-line-number="102"></td>
        <td id="LC102" class="blob-code js-file-line">        &quot;      &lt;th&gt;&lt;/th&gt;\n&quot;,</td>
      </tr>
      <tr>
        <td id="L103" class="blob-num js-line-number" data-line-number="103"></td>
        <td id="LC103" class="blob-code js-file-line">        &quot;      &lt;th&gt;year&lt;/th&gt;\n&quot;,</td>
      </tr>
      <tr>
        <td id="L104" class="blob-num js-line-number" data-line-number="104"></td>
        <td id="LC104" class="blob-code js-file-line">        &quot;      &lt;th&gt;temperature&lt;/th&gt;\n&quot;,</td>
      </tr>
      <tr>
        <td id="L105" class="blob-num js-line-number" data-line-number="105"></td>
        <td id="LC105" class="blob-code js-file-line">        &quot;      &lt;th&gt;rainfall&lt;/th&gt;\n&quot;,</td>
      </tr>
      <tr>
        <td id="L106" class="blob-num js-line-number" data-line-number="106"></td>
        <td id="LC106" class="blob-code js-file-line">        &quot;      &lt;th&gt;mosquitos&lt;/th&gt;\n&quot;,</td>
      </tr>
      <tr>
        <td id="L107" class="blob-num js-line-number" data-line-number="107"></td>
        <td id="LC107" class="blob-code js-file-line">        &quot;    &lt;/tr&gt;\n&quot;,</td>
      </tr>
      <tr>
        <td id="L108" class="blob-num js-line-number" data-line-number="108"></td>
        <td id="LC108" class="blob-code js-file-line">        &quot;  &lt;/thead&gt;\n&quot;,</td>
      </tr>
      <tr>
        <td id="L109" class="blob-num js-line-number" data-line-number="109"></td>
        <td id="LC109" class="blob-code js-file-line">        &quot;  &lt;tbody&gt;\n&quot;,</td>
      </tr>
      <tr>
        <td id="L110" class="blob-num js-line-number" data-line-number="110"></td>
        <td id="LC110" class="blob-code js-file-line">        &quot;    &lt;tr&gt;\n&quot;,</td>
      </tr>
      <tr>
        <td id="L111" class="blob-num js-line-number" data-line-number="111"></td>
        <td id="LC111" class="blob-code js-file-line">        &quot;      &lt;th&gt;0&lt;/th&gt;\n&quot;,</td>
      </tr>
      <tr>
        <td id="L112" class="blob-num js-line-number" data-line-number="112"></td>
        <td id="LC112" class="blob-code js-file-line">        &quot;      &lt;td&gt; 2001&lt;/td&gt;\n&quot;,</td>
      </tr>
      <tr>
        <td id="L113" class="blob-num js-line-number" data-line-number="113"></td>
        <td id="LC113" class="blob-code js-file-line">        &quot;      &lt;td&gt; 87&lt;/td&gt;\n&quot;,</td>
      </tr>
      <tr>
        <td id="L114" class="blob-num js-line-number" data-line-number="114"></td>
        <td id="LC114" class="blob-code js-file-line">        &quot;      &lt;td&gt; 222&lt;/td&gt;\n&quot;,</td>
      </tr>
      <tr>
        <td id="L115" class="blob-num js-line-number" data-line-number="115"></td>
        <td id="LC115" class="blob-code js-file-line">        &quot;      &lt;td&gt; 198&lt;/td&gt;\n&quot;,</td>
      </tr>
      <tr>
        <td id="L116" class="blob-num js-line-number" data-line-number="116"></td>
        <td id="LC116" class="blob-code js-file-line">        &quot;    &lt;/tr&gt;\n&quot;,</td>
      </tr>
      <tr>
        <td id="L117" class="blob-num js-line-number" data-line-number="117"></td>
        <td id="LC117" class="blob-code js-file-line">        &quot;    &lt;tr&gt;\n&quot;,</td>
      </tr>
      <tr>
        <td id="L118" class="blob-num js-line-number" data-line-number="118"></td>
        <td id="LC118" class="blob-code js-file-line">        &quot;      &lt;th&gt;1&lt;/th&gt;\n&quot;,</td>
      </tr>
      <tr>
        <td id="L119" class="blob-num js-line-number" data-line-number="119"></td>
        <td id="LC119" class="blob-code js-file-line">        &quot;      &lt;td&gt; 2002&lt;/td&gt;\n&quot;,</td>
      </tr>
      <tr>
        <td id="L120" class="blob-num js-line-number" data-line-number="120"></td>
        <td id="LC120" class="blob-code js-file-line">        &quot;      &lt;td&gt; 72&lt;/td&gt;\n&quot;,</td>
      </tr>
      <tr>
        <td id="L121" class="blob-num js-line-number" data-line-number="121"></td>
        <td id="LC121" class="blob-code js-file-line">        &quot;      &lt;td&gt; 103&lt;/td&gt;\n&quot;,</td>
      </tr>
      <tr>
        <td id="L122" class="blob-num js-line-number" data-line-number="122"></td>
        <td id="LC122" class="blob-code js-file-line">        &quot;      &lt;td&gt; 105&lt;/td&gt;\n&quot;,</td>
      </tr>
      <tr>
        <td id="L123" class="blob-num js-line-number" data-line-number="123"></td>
        <td id="LC123" class="blob-code js-file-line">        &quot;    &lt;/tr&gt;\n&quot;,</td>
      </tr>
      <tr>
        <td id="L124" class="blob-num js-line-number" data-line-number="124"></td>
        <td id="LC124" class="blob-code js-file-line">        &quot;    &lt;tr&gt;\n&quot;,</td>
      </tr>
      <tr>
        <td id="L125" class="blob-num js-line-number" data-line-number="125"></td>
        <td id="LC125" class="blob-code js-file-line">        &quot;      &lt;th&gt;2&lt;/th&gt;\n&quot;,</td>
      </tr>
      <tr>
        <td id="L126" class="blob-num js-line-number" data-line-number="126"></td>
        <td id="LC126" class="blob-code js-file-line">        &quot;      &lt;td&gt; 2003&lt;/td&gt;\n&quot;,</td>
      </tr>
      <tr>
        <td id="L127" class="blob-num js-line-number" data-line-number="127"></td>
        <td id="LC127" class="blob-code js-file-line">        &quot;      &lt;td&gt; 77&lt;/td&gt;\n&quot;,</td>
      </tr>
      <tr>
        <td id="L128" class="blob-num js-line-number" data-line-number="128"></td>
        <td id="LC128" class="blob-code js-file-line">        &quot;      &lt;td&gt; 176&lt;/td&gt;\n&quot;,</td>
      </tr>
      <tr>
        <td id="L129" class="blob-num js-line-number" data-line-number="129"></td>
        <td id="LC129" class="blob-code js-file-line">        &quot;      &lt;td&gt; 166&lt;/td&gt;\n&quot;,</td>
      </tr>
      <tr>
        <td id="L130" class="blob-num js-line-number" data-line-number="130"></td>
        <td id="LC130" class="blob-code js-file-line">        &quot;    &lt;/tr&gt;\n&quot;,</td>
      </tr>
      <tr>
        <td id="L131" class="blob-num js-line-number" data-line-number="131"></td>
        <td id="LC131" class="blob-code js-file-line">        &quot;    &lt;tr&gt;\n&quot;,</td>
      </tr>
      <tr>
        <td id="L132" class="blob-num js-line-number" data-line-number="132"></td>
        <td id="LC132" class="blob-code js-file-line">        &quot;      &lt;th&gt;3&lt;/th&gt;\n&quot;,</td>
      </tr>
      <tr>
        <td id="L133" class="blob-num js-line-number" data-line-number="133"></td>
        <td id="LC133" class="blob-code js-file-line">        &quot;      &lt;td&gt; 2004&lt;/td&gt;\n&quot;,</td>
      </tr>
      <tr>
        <td id="L134" class="blob-num js-line-number" data-line-number="134"></td>
        <td id="LC134" class="blob-code js-file-line">        &quot;      &lt;td&gt; 89&lt;/td&gt;\n&quot;,</td>
      </tr>
      <tr>
        <td id="L135" class="blob-num js-line-number" data-line-number="135"></td>
        <td id="LC135" class="blob-code js-file-line">        &quot;      &lt;td&gt; 236&lt;/td&gt;\n&quot;,</td>
      </tr>
      <tr>
        <td id="L136" class="blob-num js-line-number" data-line-number="136"></td>
        <td id="LC136" class="blob-code js-file-line">        &quot;      &lt;td&gt; 210&lt;/td&gt;\n&quot;,</td>
      </tr>
      <tr>
        <td id="L137" class="blob-num js-line-number" data-line-number="137"></td>
        <td id="LC137" class="blob-code js-file-line">        &quot;    &lt;/tr&gt;\n&quot;,</td>
      </tr>
      <tr>
        <td id="L138" class="blob-num js-line-number" data-line-number="138"></td>
        <td id="LC138" class="blob-code js-file-line">        &quot;    &lt;tr&gt;\n&quot;,</td>
      </tr>
      <tr>
        <td id="L139" class="blob-num js-line-number" data-line-number="139"></td>
        <td id="LC139" class="blob-code js-file-line">        &quot;      &lt;th&gt;4&lt;/th&gt;\n&quot;,</td>
      </tr>
      <tr>
        <td id="L140" class="blob-num js-line-number" data-line-number="140"></td>
        <td id="LC140" class="blob-code js-file-line">        &quot;      &lt;td&gt; 2005&lt;/td&gt;\n&quot;,</td>
      </tr>
      <tr>
        <td id="L141" class="blob-num js-line-number" data-line-number="141"></td>
        <td id="LC141" class="blob-code js-file-line">        &quot;      &lt;td&gt; 88&lt;/td&gt;\n&quot;,</td>
      </tr>
      <tr>
        <td id="L142" class="blob-num js-line-number" data-line-number="142"></td>
        <td id="LC142" class="blob-code js-file-line">        &quot;      &lt;td&gt; 283&lt;/td&gt;\n&quot;,</td>
      </tr>
      <tr>
        <td id="L143" class="blob-num js-line-number" data-line-number="143"></td>
        <td id="LC143" class="blob-code js-file-line">        &quot;      &lt;td&gt; 242&lt;/td&gt;\n&quot;,</td>
      </tr>
      <tr>
        <td id="L144" class="blob-num js-line-number" data-line-number="144"></td>
        <td id="LC144" class="blob-code js-file-line">        &quot;    &lt;/tr&gt;\n&quot;,</td>
      </tr>
      <tr>
        <td id="L145" class="blob-num js-line-number" data-line-number="145"></td>
        <td id="LC145" class="blob-code js-file-line">        &quot;    &lt;tr&gt;\n&quot;,</td>
      </tr>
      <tr>
        <td id="L146" class="blob-num js-line-number" data-line-number="146"></td>
        <td id="LC146" class="blob-code js-file-line">        &quot;      &lt;th&gt;5&lt;/th&gt;\n&quot;,</td>
      </tr>
      <tr>
        <td id="L147" class="blob-num js-line-number" data-line-number="147"></td>
        <td id="LC147" class="blob-code js-file-line">        &quot;      &lt;td&gt; 2006&lt;/td&gt;\n&quot;,</td>
      </tr>
      <tr>
        <td id="L148" class="blob-num js-line-number" data-line-number="148"></td>
        <td id="LC148" class="blob-code js-file-line">        &quot;      &lt;td&gt; 89&lt;/td&gt;\n&quot;,</td>
      </tr>
      <tr>
        <td id="L149" class="blob-num js-line-number" data-line-number="149"></td>
        <td id="LC149" class="blob-code js-file-line">        &quot;      &lt;td&gt; 151&lt;/td&gt;\n&quot;,</td>
      </tr>
      <tr>
        <td id="L150" class="blob-num js-line-number" data-line-number="150"></td>
        <td id="LC150" class="blob-code js-file-line">        &quot;      &lt;td&gt; 147&lt;/td&gt;\n&quot;,</td>
      </tr>
      <tr>
        <td id="L151" class="blob-num js-line-number" data-line-number="151"></td>
        <td id="LC151" class="blob-code js-file-line">        &quot;    &lt;/tr&gt;\n&quot;,</td>
      </tr>
      <tr>
        <td id="L152" class="blob-num js-line-number" data-line-number="152"></td>
        <td id="LC152" class="blob-code js-file-line">        &quot;    &lt;tr&gt;\n&quot;,</td>
      </tr>
      <tr>
        <td id="L153" class="blob-num js-line-number" data-line-number="153"></td>
        <td id="LC153" class="blob-code js-file-line">        &quot;      &lt;th&gt;6&lt;/th&gt;\n&quot;,</td>
      </tr>
      <tr>
        <td id="L154" class="blob-num js-line-number" data-line-number="154"></td>
        <td id="LC154" class="blob-code js-file-line">        &quot;      &lt;td&gt; 2007&lt;/td&gt;\n&quot;,</td>
      </tr>
      <tr>
        <td id="L155" class="blob-num js-line-number" data-line-number="155"></td>
        <td id="LC155" class="blob-code js-file-line">        &quot;      &lt;td&gt; 71&lt;/td&gt;\n&quot;,</td>
      </tr>
      <tr>
        <td id="L156" class="blob-num js-line-number" data-line-number="156"></td>
        <td id="LC156" class="blob-code js-file-line">        &quot;      &lt;td&gt; 121&lt;/td&gt;\n&quot;,</td>
      </tr>
      <tr>
        <td id="L157" class="blob-num js-line-number" data-line-number="157"></td>
        <td id="LC157" class="blob-code js-file-line">        &quot;      &lt;td&gt; 117&lt;/td&gt;\n&quot;,</td>
      </tr>
      <tr>
        <td id="L158" class="blob-num js-line-number" data-line-number="158"></td>
        <td id="LC158" class="blob-code js-file-line">        &quot;    &lt;/tr&gt;\n&quot;,</td>
      </tr>
      <tr>
        <td id="L159" class="blob-num js-line-number" data-line-number="159"></td>
        <td id="LC159" class="blob-code js-file-line">        &quot;    &lt;tr&gt;\n&quot;,</td>
      </tr>
      <tr>
        <td id="L160" class="blob-num js-line-number" data-line-number="160"></td>
        <td id="LC160" class="blob-code js-file-line">        &quot;      &lt;th&gt;7&lt;/th&gt;\n&quot;,</td>
      </tr>
      <tr>
        <td id="L161" class="blob-num js-line-number" data-line-number="161"></td>
        <td id="LC161" class="blob-code js-file-line">        &quot;      &lt;td&gt; 2008&lt;/td&gt;\n&quot;,</td>
      </tr>
      <tr>
        <td id="L162" class="blob-num js-line-number" data-line-number="162"></td>
        <td id="LC162" class="blob-code js-file-line">        &quot;      &lt;td&gt; 88&lt;/td&gt;\n&quot;,</td>
      </tr>
      <tr>
        <td id="L163" class="blob-num js-line-number" data-line-number="163"></td>
        <td id="LC163" class="blob-code js-file-line">        &quot;      &lt;td&gt; 267&lt;/td&gt;\n&quot;,</td>
      </tr>
      <tr>
        <td id="L164" class="blob-num js-line-number" data-line-number="164"></td>
        <td id="LC164" class="blob-code js-file-line">        &quot;      &lt;td&gt; 232&lt;/td&gt;\n&quot;,</td>
      </tr>
      <tr>
        <td id="L165" class="blob-num js-line-number" data-line-number="165"></td>
        <td id="LC165" class="blob-code js-file-line">        &quot;    &lt;/tr&gt;\n&quot;,</td>
      </tr>
      <tr>
        <td id="L166" class="blob-num js-line-number" data-line-number="166"></td>
        <td id="LC166" class="blob-code js-file-line">        &quot;    &lt;tr&gt;\n&quot;,</td>
      </tr>
      <tr>
        <td id="L167" class="blob-num js-line-number" data-line-number="167"></td>
        <td id="LC167" class="blob-code js-file-line">        &quot;      &lt;th&gt;8&lt;/th&gt;\n&quot;,</td>
      </tr>
      <tr>
        <td id="L168" class="blob-num js-line-number" data-line-number="168"></td>
        <td id="LC168" class="blob-code js-file-line">        &quot;      &lt;td&gt; 2009&lt;/td&gt;\n&quot;,</td>
      </tr>
      <tr>
        <td id="L169" class="blob-num js-line-number" data-line-number="169"></td>
        <td id="LC169" class="blob-code js-file-line">        &quot;      &lt;td&gt; 85&lt;/td&gt;\n&quot;,</td>
      </tr>
      <tr>
        <td id="L170" class="blob-num js-line-number" data-line-number="170"></td>
        <td id="LC170" class="blob-code js-file-line">        &quot;      &lt;td&gt; 211&lt;/td&gt;\n&quot;,</td>
      </tr>
      <tr>
        <td id="L171" class="blob-num js-line-number" data-line-number="171"></td>
        <td id="LC171" class="blob-code js-file-line">        &quot;      &lt;td&gt; 191&lt;/td&gt;\n&quot;,</td>
      </tr>
      <tr>
        <td id="L172" class="blob-num js-line-number" data-line-number="172"></td>
        <td id="LC172" class="blob-code js-file-line">        &quot;    &lt;/tr&gt;\n&quot;,</td>
      </tr>
      <tr>
        <td id="L173" class="blob-num js-line-number" data-line-number="173"></td>
        <td id="LC173" class="blob-code js-file-line">        &quot;    &lt;tr&gt;\n&quot;,</td>
      </tr>
      <tr>
        <td id="L174" class="blob-num js-line-number" data-line-number="174"></td>
        <td id="LC174" class="blob-code js-file-line">        &quot;      &lt;th&gt;9&lt;/th&gt;\n&quot;,</td>
      </tr>
      <tr>
        <td id="L175" class="blob-num js-line-number" data-line-number="175"></td>
        <td id="LC175" class="blob-code js-file-line">        &quot;      &lt;td&gt; 2010&lt;/td&gt;\n&quot;,</td>
      </tr>
      <tr>
        <td id="L176" class="blob-num js-line-number" data-line-number="176"></td>
        <td id="LC176" class="blob-code js-file-line">        &quot;      &lt;td&gt; 75&lt;/td&gt;\n&quot;,</td>
      </tr>
      <tr>
        <td id="L177" class="blob-num js-line-number" data-line-number="177"></td>
        <td id="LC177" class="blob-code js-file-line">        &quot;      &lt;td&gt; 101&lt;/td&gt;\n&quot;,</td>
      </tr>
      <tr>
        <td id="L178" class="blob-num js-line-number" data-line-number="178"></td>
        <td id="LC178" class="blob-code js-file-line">        &quot;      &lt;td&gt; 106&lt;/td&gt;\n&quot;,</td>
      </tr>
      <tr>
        <td id="L179" class="blob-num js-line-number" data-line-number="179"></td>
        <td id="LC179" class="blob-code js-file-line">        &quot;    &lt;/tr&gt;\n&quot;,</td>
      </tr>
      <tr>
        <td id="L180" class="blob-num js-line-number" data-line-number="180"></td>
        <td id="LC180" class="blob-code js-file-line">        &quot;  &lt;/tbody&gt;\n&quot;,</td>
      </tr>
      <tr>
        <td id="L181" class="blob-num js-line-number" data-line-number="181"></td>
        <td id="LC181" class="blob-code js-file-line">        &quot;&lt;/table&gt;\n&quot;,</td>
      </tr>
      <tr>
        <td id="L182" class="blob-num js-line-number" data-line-number="182"></td>
        <td id="LC182" class="blob-code js-file-line">        &quot;&lt;/div&gt;&quot;</td>
      </tr>
      <tr>
        <td id="L183" class="blob-num js-line-number" data-line-number="183"></td>
        <td id="LC183" class="blob-code js-file-line">       ],</td>
      </tr>
      <tr>
        <td id="L184" class="blob-num js-line-number" data-line-number="184"></td>
        <td id="LC184" class="blob-code js-file-line">       &quot;metadata&quot;: {},</td>
      </tr>
      <tr>
        <td id="L185" class="blob-num js-line-number" data-line-number="185"></td>
        <td id="LC185" class="blob-code js-file-line">       &quot;output_type&quot;: &quot;pyout&quot;,</td>
      </tr>
      <tr>
        <td id="L186" class="blob-num js-line-number" data-line-number="186"></td>
        <td id="LC186" class="blob-code js-file-line">       &quot;prompt_number&quot;: 2,</td>
      </tr>
      <tr>
        <td id="L187" class="blob-num js-line-number" data-line-number="187"></td>
        <td id="LC187" class="blob-code js-file-line">       &quot;text&quot;: [</td>
      </tr>
      <tr>
        <td id="L188" class="blob-num js-line-number" data-line-number="188"></td>
        <td id="LC188" class="blob-code js-file-line">        &quot;   year  temperature  rainfall  mosquitos\n&quot;,</td>
      </tr>
      <tr>
        <td id="L189" class="blob-num js-line-number" data-line-number="189"></td>
        <td id="LC189" class="blob-code js-file-line">        &quot;0  2001           87       222        198\n&quot;,</td>
      </tr>
      <tr>
        <td id="L190" class="blob-num js-line-number" data-line-number="190"></td>
        <td id="LC190" class="blob-code js-file-line">        &quot;1  2002           72       103        105\n&quot;,</td>
      </tr>
      <tr>
        <td id="L191" class="blob-num js-line-number" data-line-number="191"></td>
        <td id="LC191" class="blob-code js-file-line">        &quot;2  2003           77       176        166\n&quot;,</td>
      </tr>
      <tr>
        <td id="L192" class="blob-num js-line-number" data-line-number="192"></td>
        <td id="LC192" class="blob-code js-file-line">        &quot;3  2004           89       236        210\n&quot;,</td>
      </tr>
      <tr>
        <td id="L193" class="blob-num js-line-number" data-line-number="193"></td>
        <td id="LC193" class="blob-code js-file-line">        &quot;4  2005           88       283        242\n&quot;,</td>
      </tr>
      <tr>
        <td id="L194" class="blob-num js-line-number" data-line-number="194"></td>
        <td id="LC194" class="blob-code js-file-line">        &quot;5  2006           89       151        147\n&quot;,</td>
      </tr>
      <tr>
        <td id="L195" class="blob-num js-line-number" data-line-number="195"></td>
        <td id="LC195" class="blob-code js-file-line">        &quot;6  2007           71       121        117\n&quot;,</td>
      </tr>
      <tr>
        <td id="L196" class="blob-num js-line-number" data-line-number="196"></td>
        <td id="LC196" class="blob-code js-file-line">        &quot;7  2008           88       267        232\n&quot;,</td>
      </tr>
      <tr>
        <td id="L197" class="blob-num js-line-number" data-line-number="197"></td>
        <td id="LC197" class="blob-code js-file-line">        &quot;8  2009           85       211        191\n&quot;,</td>
      </tr>
      <tr>
        <td id="L198" class="blob-num js-line-number" data-line-number="198"></td>
        <td id="LC198" class="blob-code js-file-line">        &quot;9  2010           75       101        106&quot;</td>
      </tr>
      <tr>
        <td id="L199" class="blob-num js-line-number" data-line-number="199"></td>
        <td id="LC199" class="blob-code js-file-line">       ]</td>
      </tr>
      <tr>
        <td id="L200" class="blob-num js-line-number" data-line-number="200"></td>
        <td id="LC200" class="blob-code js-file-line">      }</td>
      </tr>
      <tr>
        <td id="L201" class="blob-num js-line-number" data-line-number="201"></td>
        <td id="LC201" class="blob-code js-file-line">     ],</td>
      </tr>
      <tr>
        <td id="L202" class="blob-num js-line-number" data-line-number="202"></td>
        <td id="LC202" class="blob-code js-file-line">     &quot;prompt_number&quot;: 2</td>
      </tr>
      <tr>
        <td id="L203" class="blob-num js-line-number" data-line-number="203"></td>
        <td id="LC203" class="blob-code js-file-line">    },</td>
      </tr>
      <tr>
        <td id="L204" class="blob-num js-line-number" data-line-number="204"></td>
        <td id="LC204" class="blob-code js-file-line">    {</td>
      </tr>
      <tr>
        <td id="L205" class="blob-num js-line-number" data-line-number="205"></td>
        <td id="LC205" class="blob-code js-file-line">     &quot;cell_type&quot;: &quot;markdown&quot;,</td>
      </tr>
      <tr>
        <td id="L206" class="blob-num js-line-number" data-line-number="206"></td>
        <td id="LC206" class="blob-code js-file-line">     &quot;metadata&quot;: {},</td>
      </tr>
      <tr>
        <td id="L207" class="blob-num js-line-number" data-line-number="207"></td>
        <td id="LC207" class="blob-code js-file-line">     &quot;source&quot;: [</td>
      </tr>
      <tr>
        <td id="L208" class="blob-num js-line-number" data-line-number="208"></td>
        <td id="LC208" class="blob-code js-file-line">      &quot;The `read_csv()` function belongs to the `pandas` library. In order to run it we need to tell Python that it is part of `pandas` and we do this using the dot notation, which is used everywhere in Python to refer to parts of larger things.\n&quot;,</td>
      </tr>
      <tr>
        <td id="L209" class="blob-num js-line-number" data-line-number="209"></td>
        <td id="LC209" class="blob-code js-file-line">      &quot;\n&quot;,</td>
      </tr>
      <tr>
        <td id="L210" class="blob-num js-line-number" data-line-number="210"></td>
        <td id="LC210" class="blob-code js-file-line">      &quot;When we are finished typing and press Shift+Enter, the notebook runs our command and shows us its output. In this case, the output is the data we just loaded.\n&quot;,</td>
      </tr>
      <tr>
        <td id="L211" class="blob-num js-line-number" data-line-number="211"></td>
        <td id="LC211" class="blob-code js-file-line">      &quot;\n&quot;,</td>
      </tr>
      <tr>
        <td id="L212" class="blob-num js-line-number" data-line-number="212"></td>
        <td id="LC212" class="blob-code js-file-line">      &quot;Our call to `pandas.read_csv()` read data into memory, but didn&#39;t save it anywhere. To do that, we need to assign the array to a variable. In Python we use `=` to assign a new value to a variable like this:&quot;</td>
      </tr>
      <tr>
        <td id="L213" class="blob-num js-line-number" data-line-number="213"></td>
        <td id="LC213" class="blob-code js-file-line">     ]</td>
      </tr>
      <tr>
        <td id="L214" class="blob-num js-line-number" data-line-number="214"></td>
        <td id="LC214" class="blob-code js-file-line">    },</td>
      </tr>
      <tr>
        <td id="L215" class="blob-num js-line-number" data-line-number="215"></td>
        <td id="LC215" class="blob-code js-file-line">    {</td>
      </tr>
      <tr>
        <td id="L216" class="blob-num js-line-number" data-line-number="216"></td>
        <td id="LC216" class="blob-code js-file-line">     &quot;cell_type&quot;: &quot;code&quot;,</td>
      </tr>
      <tr>
        <td id="L217" class="blob-num js-line-number" data-line-number="217"></td>
        <td id="LC217" class="blob-code js-file-line">     &quot;collapsed&quot;: false,</td>
      </tr>
      <tr>
        <td id="L218" class="blob-num js-line-number" data-line-number="218"></td>
        <td id="LC218" class="blob-code js-file-line">     &quot;input&quot;: [</td>
      </tr>
      <tr>
        <td id="L219" class="blob-num js-line-number" data-line-number="219"></td>
        <td id="LC219" class="blob-code js-file-line">      &quot;data = pandas.read_csv(&#39;mosquito_data_A1.csv&#39;)&quot;</td>
      </tr>
      <tr>
        <td id="L220" class="blob-num js-line-number" data-line-number="220"></td>
        <td id="LC220" class="blob-code js-file-line">     ],</td>
      </tr>
      <tr>
        <td id="L221" class="blob-num js-line-number" data-line-number="221"></td>
        <td id="LC221" class="blob-code js-file-line">     &quot;language&quot;: &quot;python&quot;,</td>
      </tr>
      <tr>
        <td id="L222" class="blob-num js-line-number" data-line-number="222"></td>
        <td id="LC222" class="blob-code js-file-line">     &quot;metadata&quot;: {},</td>
      </tr>
      <tr>
        <td id="L223" class="blob-num js-line-number" data-line-number="223"></td>
        <td id="LC223" class="blob-code js-file-line">     &quot;outputs&quot;: [],</td>
      </tr>
      <tr>
        <td id="L224" class="blob-num js-line-number" data-line-number="224"></td>
        <td id="LC224" class="blob-code js-file-line">     &quot;prompt_number&quot;: 3</td>
      </tr>
      <tr>
        <td id="L225" class="blob-num js-line-number" data-line-number="225"></td>
        <td id="LC225" class="blob-code js-file-line">    },</td>
      </tr>
      <tr>
        <td id="L226" class="blob-num js-line-number" data-line-number="226"></td>
        <td id="LC226" class="blob-code js-file-line">    {</td>
      </tr>
      <tr>
        <td id="L227" class="blob-num js-line-number" data-line-number="227"></td>
        <td id="LC227" class="blob-code js-file-line">     &quot;cell_type&quot;: &quot;markdown&quot;,</td>
      </tr>
      <tr>
        <td id="L228" class="blob-num js-line-number" data-line-number="228"></td>
        <td id="LC228" class="blob-code js-file-line">     &quot;metadata&quot;: {},</td>
      </tr>
      <tr>
        <td id="L229" class="blob-num js-line-number" data-line-number="229"></td>
        <td id="LC229" class="blob-code js-file-line">     &quot;source&quot;: [</td>
      </tr>
      <tr>
        <td id="L230" class="blob-num js-line-number" data-line-number="230"></td>
        <td id="LC230" class="blob-code js-file-line">      &quot;This statement doesn&#39;t produce any output because assignment doesn&#39;t display anything. If we want to check that our data has been loaded, we can print the variable&#39;s value:&quot;</td>
      </tr>
      <tr>
        <td id="L231" class="blob-num js-line-number" data-line-number="231"></td>
        <td id="LC231" class="blob-code js-file-line">     ]</td>
      </tr>
      <tr>
        <td id="L232" class="blob-num js-line-number" data-line-number="232"></td>
        <td id="LC232" class="blob-code js-file-line">    },</td>
      </tr>
      <tr>
        <td id="L233" class="blob-num js-line-number" data-line-number="233"></td>
        <td id="LC233" class="blob-code js-file-line">    {</td>
      </tr>
      <tr>
        <td id="L234" class="blob-num js-line-number" data-line-number="234"></td>
        <td id="LC234" class="blob-code js-file-line">     &quot;cell_type&quot;: &quot;code&quot;,</td>
      </tr>
      <tr>
        <td id="L235" class="blob-num js-line-number" data-line-number="235"></td>
        <td id="LC235" class="blob-code js-file-line">     &quot;collapsed&quot;: false,</td>
      </tr>
      <tr>
        <td id="L236" class="blob-num js-line-number" data-line-number="236"></td>
        <td id="LC236" class="blob-code js-file-line">     &quot;input&quot;: [</td>
      </tr>
      <tr>
        <td id="L237" class="blob-num js-line-number" data-line-number="237"></td>
        <td id="LC237" class="blob-code js-file-line">      &quot;print data&quot;</td>
      </tr>
      <tr>
        <td id="L238" class="blob-num js-line-number" data-line-number="238"></td>
        <td id="LC238" class="blob-code js-file-line">     ],</td>
      </tr>
      <tr>
        <td id="L239" class="blob-num js-line-number" data-line-number="239"></td>
        <td id="LC239" class="blob-code js-file-line">     &quot;language&quot;: &quot;python&quot;,</td>
      </tr>
      <tr>
        <td id="L240" class="blob-num js-line-number" data-line-number="240"></td>
        <td id="LC240" class="blob-code js-file-line">     &quot;metadata&quot;: {},</td>
      </tr>
      <tr>
        <td id="L241" class="blob-num js-line-number" data-line-number="241"></td>
        <td id="LC241" class="blob-code js-file-line">     &quot;outputs&quot;: [</td>
      </tr>
      <tr>
        <td id="L242" class="blob-num js-line-number" data-line-number="242"></td>
        <td id="LC242" class="blob-code js-file-line">      {</td>
      </tr>
      <tr>
        <td id="L243" class="blob-num js-line-number" data-line-number="243"></td>
        <td id="LC243" class="blob-code js-file-line">       &quot;output_type&quot;: &quot;stream&quot;,</td>
      </tr>
      <tr>
        <td id="L244" class="blob-num js-line-number" data-line-number="244"></td>
        <td id="LC244" class="blob-code js-file-line">       &quot;stream&quot;: &quot;stdout&quot;,</td>
      </tr>
      <tr>
        <td id="L245" class="blob-num js-line-number" data-line-number="245"></td>
        <td id="LC245" class="blob-code js-file-line">       &quot;text&quot;: [</td>
      </tr>
      <tr>
        <td id="L246" class="blob-num js-line-number" data-line-number="246"></td>
        <td id="LC246" class="blob-code js-file-line">        &quot;   year  temperature  rainfall  mosquitos\n&quot;,</td>
      </tr>
      <tr>
        <td id="L247" class="blob-num js-line-number" data-line-number="247"></td>
        <td id="LC247" class="blob-code js-file-line">        &quot;0  2001           87       222        198\n&quot;,</td>
      </tr>
      <tr>
        <td id="L248" class="blob-num js-line-number" data-line-number="248"></td>
        <td id="LC248" class="blob-code js-file-line">        &quot;1  2002           72       103        105\n&quot;,</td>
      </tr>
      <tr>
        <td id="L249" class="blob-num js-line-number" data-line-number="249"></td>
        <td id="LC249" class="blob-code js-file-line">        &quot;2  2003           77       176        166\n&quot;,</td>
      </tr>
      <tr>
        <td id="L250" class="blob-num js-line-number" data-line-number="250"></td>
        <td id="LC250" class="blob-code js-file-line">        &quot;3  2004           89       236        210\n&quot;,</td>
      </tr>
      <tr>
        <td id="L251" class="blob-num js-line-number" data-line-number="251"></td>
        <td id="LC251" class="blob-code js-file-line">        &quot;4  2005           88       283        242\n&quot;,</td>
      </tr>
      <tr>
        <td id="L252" class="blob-num js-line-number" data-line-number="252"></td>
        <td id="LC252" class="blob-code js-file-line">        &quot;5  2006           89       151        147\n&quot;,</td>
      </tr>
      <tr>
        <td id="L253" class="blob-num js-line-number" data-line-number="253"></td>
        <td id="LC253" class="blob-code js-file-line">        &quot;6  2007           71       121        117\n&quot;,</td>
      </tr>
      <tr>
        <td id="L254" class="blob-num js-line-number" data-line-number="254"></td>
        <td id="LC254" class="blob-code js-file-line">        &quot;7  2008           88       267        232\n&quot;,</td>
      </tr>
      <tr>
        <td id="L255" class="blob-num js-line-number" data-line-number="255"></td>
        <td id="LC255" class="blob-code js-file-line">        &quot;8  2009           85       211        191\n&quot;,</td>
      </tr>
      <tr>
        <td id="L256" class="blob-num js-line-number" data-line-number="256"></td>
        <td id="LC256" class="blob-code js-file-line">        &quot;9  2010           75       101        106\n&quot;</td>
      </tr>
      <tr>
        <td id="L257" class="blob-num js-line-number" data-line-number="257"></td>
        <td id="LC257" class="blob-code js-file-line">       ]</td>
      </tr>
      <tr>
        <td id="L258" class="blob-num js-line-number" data-line-number="258"></td>
        <td id="LC258" class="blob-code js-file-line">      }</td>
      </tr>
      <tr>
        <td id="L259" class="blob-num js-line-number" data-line-number="259"></td>
        <td id="LC259" class="blob-code js-file-line">     ],</td>
      </tr>
      <tr>
        <td id="L260" class="blob-num js-line-number" data-line-number="260"></td>
        <td id="LC260" class="blob-code js-file-line">     &quot;prompt_number&quot;: 4</td>
      </tr>
      <tr>
        <td id="L261" class="blob-num js-line-number" data-line-number="261"></td>
        <td id="LC261" class="blob-code js-file-line">    },</td>
      </tr>
      <tr>
        <td id="L262" class="blob-num js-line-number" data-line-number="262"></td>
        <td id="LC262" class="blob-code js-file-line">    {</td>
      </tr>
      <tr>
        <td id="L263" class="blob-num js-line-number" data-line-number="263"></td>
        <td id="LC263" class="blob-code js-file-line">     &quot;cell_type&quot;: &quot;markdown&quot;,</td>
      </tr>
      <tr>
        <td id="L264" class="blob-num js-line-number" data-line-number="264"></td>
        <td id="LC264" class="blob-code js-file-line">     &quot;metadata&quot;: {},</td>
      </tr>
      <tr>
        <td id="L265" class="blob-num js-line-number" data-line-number="265"></td>
        <td id="LC265" class="blob-code js-file-line">     &quot;source&quot;: [</td>
      </tr>
      <tr>
        <td id="L266" class="blob-num js-line-number" data-line-number="266"></td>
        <td id="LC266" class="blob-code js-file-line">      &quot;`print data` tells Python to display the text. Alternatively we could just include `data` as the last value in a code cell:&quot;</td>
      </tr>
      <tr>
        <td id="L267" class="blob-num js-line-number" data-line-number="267"></td>
        <td id="LC267" class="blob-code js-file-line">     ]</td>
      </tr>
      <tr>
        <td id="L268" class="blob-num js-line-number" data-line-number="268"></td>
        <td id="LC268" class="blob-code js-file-line">    },</td>
      </tr>
      <tr>
        <td id="L269" class="blob-num js-line-number" data-line-number="269"></td>
        <td id="LC269" class="blob-code js-file-line">    {</td>
      </tr>
      <tr>
        <td id="L270" class="blob-num js-line-number" data-line-number="270"></td>
        <td id="LC270" class="blob-code js-file-line">     &quot;cell_type&quot;: &quot;code&quot;,</td>
      </tr>
      <tr>
        <td id="L271" class="blob-num js-line-number" data-line-number="271"></td>
        <td id="LC271" class="blob-code js-file-line">     &quot;collapsed&quot;: false,</td>
      </tr>
      <tr>
        <td id="L272" class="blob-num js-line-number" data-line-number="272"></td>
        <td id="LC272" class="blob-code js-file-line">     &quot;input&quot;: [</td>
      </tr>
      <tr>
        <td id="L273" class="blob-num js-line-number" data-line-number="273"></td>
        <td id="LC273" class="blob-code js-file-line">      &quot;data&quot;</td>
      </tr>
      <tr>
        <td id="L274" class="blob-num js-line-number" data-line-number="274"></td>
        <td id="LC274" class="blob-code js-file-line">     ],</td>
      </tr>
      <tr>
        <td id="L275" class="blob-num js-line-number" data-line-number="275"></td>
        <td id="LC275" class="blob-code js-file-line">     &quot;language&quot;: &quot;python&quot;,</td>
      </tr>
      <tr>
        <td id="L276" class="blob-num js-line-number" data-line-number="276"></td>
        <td id="LC276" class="blob-code js-file-line">     &quot;metadata&quot;: {},</td>
      </tr>
      <tr>
        <td id="L277" class="blob-num js-line-number" data-line-number="277"></td>
        <td id="LC277" class="blob-code js-file-line">     &quot;outputs&quot;: [</td>
      </tr>
      <tr>
        <td id="L278" class="blob-num js-line-number" data-line-number="278"></td>
        <td id="LC278" class="blob-code js-file-line">      {</td>
      </tr>
      <tr>
        <td id="L279" class="blob-num js-line-number" data-line-number="279"></td>
        <td id="LC279" class="blob-code js-file-line">       &quot;html&quot;: [</td>
      </tr>
      <tr>
        <td id="L280" class="blob-num js-line-number" data-line-number="280"></td>
        <td id="LC280" class="blob-code js-file-line">        &quot;&lt;div style=\&quot;max-height:1000px;max-width:1500px;overflow:auto;\&quot;&gt;\n&quot;,</td>
      </tr>
      <tr>
        <td id="L281" class="blob-num js-line-number" data-line-number="281"></td>
        <td id="LC281" class="blob-code js-file-line">        &quot;&lt;table border=\&quot;1\&quot; class=\&quot;dataframe\&quot;&gt;\n&quot;,</td>
      </tr>
      <tr>
        <td id="L282" class="blob-num js-line-number" data-line-number="282"></td>
        <td id="LC282" class="blob-code js-file-line">        &quot;  &lt;thead&gt;\n&quot;,</td>
      </tr>
      <tr>
        <td id="L283" class="blob-num js-line-number" data-line-number="283"></td>
        <td id="LC283" class="blob-code js-file-line">        &quot;    &lt;tr style=\&quot;text-align: right;\&quot;&gt;\n&quot;,</td>
      </tr>
      <tr>
        <td id="L284" class="blob-num js-line-number" data-line-number="284"></td>
        <td id="LC284" class="blob-code js-file-line">        &quot;      &lt;th&gt;&lt;/th&gt;\n&quot;,</td>
      </tr>
      <tr>
        <td id="L285" class="blob-num js-line-number" data-line-number="285"></td>
        <td id="LC285" class="blob-code js-file-line">        &quot;      &lt;th&gt;year&lt;/th&gt;\n&quot;,</td>
      </tr>
      <tr>
        <td id="L286" class="blob-num js-line-number" data-line-number="286"></td>
        <td id="LC286" class="blob-code js-file-line">        &quot;      &lt;th&gt;temperature&lt;/th&gt;\n&quot;,</td>
      </tr>
      <tr>
        <td id="L287" class="blob-num js-line-number" data-line-number="287"></td>
        <td id="LC287" class="blob-code js-file-line">        &quot;      &lt;th&gt;rainfall&lt;/th&gt;\n&quot;,</td>
      </tr>
      <tr>
        <td id="L288" class="blob-num js-line-number" data-line-number="288"></td>
        <td id="LC288" class="blob-code js-file-line">        &quot;      &lt;th&gt;mosquitos&lt;/th&gt;\n&quot;,</td>
      </tr>
      <tr>
        <td id="L289" class="blob-num js-line-number" data-line-number="289"></td>
        <td id="LC289" class="blob-code js-file-line">        &quot;    &lt;/tr&gt;\n&quot;,</td>
      </tr>
      <tr>
        <td id="L290" class="blob-num js-line-number" data-line-number="290"></td>
        <td id="LC290" class="blob-code js-file-line">        &quot;  &lt;/thead&gt;\n&quot;,</td>
      </tr>
      <tr>
        <td id="L291" class="blob-num js-line-number" data-line-number="291"></td>
        <td id="LC291" class="blob-code js-file-line">        &quot;  &lt;tbody&gt;\n&quot;,</td>
      </tr>
      <tr>
        <td id="L292" class="blob-num js-line-number" data-line-number="292"></td>
        <td id="LC292" class="blob-code js-file-line">        &quot;    &lt;tr&gt;\n&quot;,</td>
      </tr>
      <tr>
        <td id="L293" class="blob-num js-line-number" data-line-number="293"></td>
        <td id="LC293" class="blob-code js-file-line">        &quot;      &lt;th&gt;0&lt;/th&gt;\n&quot;,</td>
      </tr>
      <tr>
        <td id="L294" class="blob-num js-line-number" data-line-number="294"></td>
        <td id="LC294" class="blob-code js-file-line">        &quot;      &lt;td&gt; 2001&lt;/td&gt;\n&quot;,</td>
      </tr>
      <tr>
        <td id="L295" class="blob-num js-line-number" data-line-number="295"></td>
        <td id="LC295" class="blob-code js-file-line">        &quot;      &lt;td&gt; 87&lt;/td&gt;\n&quot;,</td>
      </tr>
      <tr>
        <td id="L296" class="blob-num js-line-number" data-line-number="296"></td>
        <td id="LC296" class="blob-code js-file-line">        &quot;      &lt;td&gt; 222&lt;/td&gt;\n&quot;,</td>
      </tr>
      <tr>
        <td id="L297" class="blob-num js-line-number" data-line-number="297"></td>
        <td id="LC297" class="blob-code js-file-line">        &quot;      &lt;td&gt; 198&lt;/td&gt;\n&quot;,</td>
      </tr>
      <tr>
        <td id="L298" class="blob-num js-line-number" data-line-number="298"></td>
        <td id="LC298" class="blob-code js-file-line">        &quot;    &lt;/tr&gt;\n&quot;,</td>
      </tr>
      <tr>
        <td id="L299" class="blob-num js-line-number" data-line-number="299"></td>
        <td id="LC299" class="blob-code js-file-line">        &quot;    &lt;tr&gt;\n&quot;,</td>
      </tr>
      <tr>
        <td id="L300" class="blob-num js-line-number" data-line-number="300"></td>
        <td id="LC300" class="blob-code js-file-line">        &quot;      &lt;th&gt;1&lt;/th&gt;\n&quot;,</td>
      </tr>
      <tr>
        <td id="L301" class="blob-num js-line-number" data-line-number="301"></td>
        <td id="LC301" class="blob-code js-file-line">        &quot;      &lt;td&gt; 2002&lt;/td&gt;\n&quot;,</td>
      </tr>
      <tr>
        <td id="L302" class="blob-num js-line-number" data-line-number="302"></td>
        <td id="LC302" class="blob-code js-file-line">        &quot;      &lt;td&gt; 72&lt;/td&gt;\n&quot;,</td>
      </tr>
      <tr>
        <td id="L303" class="blob-num js-line-number" data-line-number="303"></td>
        <td id="LC303" class="blob-code js-file-line">        &quot;      &lt;td&gt; 103&lt;/td&gt;\n&quot;,</td>
      </tr>
      <tr>
        <td id="L304" class="blob-num js-line-number" data-line-number="304"></td>
        <td id="LC304" class="blob-code js-file-line">        &quot;      &lt;td&gt; 105&lt;/td&gt;\n&quot;,</td>
      </tr>
      <tr>
        <td id="L305" class="blob-num js-line-number" data-line-number="305"></td>
        <td id="LC305" class="blob-code js-file-line">        &quot;    &lt;/tr&gt;\n&quot;,</td>
      </tr>
      <tr>
        <td id="L306" class="blob-num js-line-number" data-line-number="306"></td>
        <td id="LC306" class="blob-code js-file-line">        &quot;    &lt;tr&gt;\n&quot;,</td>
      </tr>
      <tr>
        <td id="L307" class="blob-num js-line-number" data-line-number="307"></td>
        <td id="LC307" class="blob-code js-file-line">        &quot;      &lt;th&gt;2&lt;/th&gt;\n&quot;,</td>
      </tr>
      <tr>
        <td id="L308" class="blob-num js-line-number" data-line-number="308"></td>
        <td id="LC308" class="blob-code js-file-line">        &quot;      &lt;td&gt; 2003&lt;/td&gt;\n&quot;,</td>
      </tr>
      <tr>
        <td id="L309" class="blob-num js-line-number" data-line-number="309"></td>
        <td id="LC309" class="blob-code js-file-line">        &quot;      &lt;td&gt; 77&lt;/td&gt;\n&quot;,</td>
      </tr>
      <tr>
        <td id="L310" class="blob-num js-line-number" data-line-number="310"></td>
        <td id="LC310" class="blob-code js-file-line">        &quot;      &lt;td&gt; 176&lt;/td&gt;\n&quot;,</td>
      </tr>
      <tr>
        <td id="L311" class="blob-num js-line-number" data-line-number="311"></td>
        <td id="LC311" class="blob-code js-file-line">        &quot;      &lt;td&gt; 166&lt;/td&gt;\n&quot;,</td>
      </tr>
      <tr>
        <td id="L312" class="blob-num js-line-number" data-line-number="312"></td>
        <td id="LC312" class="blob-code js-file-line">        &quot;    &lt;/tr&gt;\n&quot;,</td>
      </tr>
      <tr>
        <td id="L313" class="blob-num js-line-number" data-line-number="313"></td>
        <td id="LC313" class="blob-code js-file-line">        &quot;    &lt;tr&gt;\n&quot;,</td>
      </tr>
      <tr>
        <td id="L314" class="blob-num js-line-number" data-line-number="314"></td>
        <td id="LC314" class="blob-code js-file-line">        &quot;      &lt;th&gt;3&lt;/th&gt;\n&quot;,</td>
      </tr>
      <tr>
        <td id="L315" class="blob-num js-line-number" data-line-number="315"></td>
        <td id="LC315" class="blob-code js-file-line">        &quot;      &lt;td&gt; 2004&lt;/td&gt;\n&quot;,</td>
      </tr>
      <tr>
        <td id="L316" class="blob-num js-line-number" data-line-number="316"></td>
        <td id="LC316" class="blob-code js-file-line">        &quot;      &lt;td&gt; 89&lt;/td&gt;\n&quot;,</td>
      </tr>
      <tr>
        <td id="L317" class="blob-num js-line-number" data-line-number="317"></td>
        <td id="LC317" class="blob-code js-file-line">        &quot;      &lt;td&gt; 236&lt;/td&gt;\n&quot;,</td>
      </tr>
      <tr>
        <td id="L318" class="blob-num js-line-number" data-line-number="318"></td>
        <td id="LC318" class="blob-code js-file-line">        &quot;      &lt;td&gt; 210&lt;/td&gt;\n&quot;,</td>
      </tr>
      <tr>
        <td id="L319" class="blob-num js-line-number" data-line-number="319"></td>
        <td id="LC319" class="blob-code js-file-line">        &quot;    &lt;/tr&gt;\n&quot;,</td>
      </tr>
      <tr>
        <td id="L320" class="blob-num js-line-number" data-line-number="320"></td>
        <td id="LC320" class="blob-code js-file-line">        &quot;    &lt;tr&gt;\n&quot;,</td>
      </tr>
      <tr>
        <td id="L321" class="blob-num js-line-number" data-line-number="321"></td>
        <td id="LC321" class="blob-code js-file-line">        &quot;      &lt;th&gt;4&lt;/th&gt;\n&quot;,</td>
      </tr>
      <tr>
        <td id="L322" class="blob-num js-line-number" data-line-number="322"></td>
        <td id="LC322" class="blob-code js-file-line">        &quot;      &lt;td&gt; 2005&lt;/td&gt;\n&quot;,</td>
      </tr>
      <tr>
        <td id="L323" class="blob-num js-line-number" data-line-number="323"></td>
        <td id="LC323" class="blob-code js-file-line">        &quot;      &lt;td&gt; 88&lt;/td&gt;\n&quot;,</td>
      </tr>
      <tr>
        <td id="L324" class="blob-num js-line-number" data-line-number="324"></td>
        <td id="LC324" class="blob-code js-file-line">        &quot;      &lt;td&gt; 283&lt;/td&gt;\n&quot;,</td>
      </tr>
      <tr>
        <td id="L325" class="blob-num js-line-number" data-line-number="325"></td>
        <td id="LC325" class="blob-code js-file-line">        &quot;      &lt;td&gt; 242&lt;/td&gt;\n&quot;,</td>
      </tr>
      <tr>
        <td id="L326" class="blob-num js-line-number" data-line-number="326"></td>
        <td id="LC326" class="blob-code js-file-line">        &quot;    &lt;/tr&gt;\n&quot;,</td>
      </tr>
      <tr>
        <td id="L327" class="blob-num js-line-number" data-line-number="327"></td>
        <td id="LC327" class="blob-code js-file-line">        &quot;    &lt;tr&gt;\n&quot;,</td>
      </tr>
      <tr>
        <td id="L328" class="blob-num js-line-number" data-line-number="328"></td>
        <td id="LC328" class="blob-code js-file-line">        &quot;      &lt;th&gt;5&lt;/th&gt;\n&quot;,</td>
      </tr>
      <tr>
        <td id="L329" class="blob-num js-line-number" data-line-number="329"></td>
        <td id="LC329" class="blob-code js-file-line">        &quot;      &lt;td&gt; 2006&lt;/td&gt;\n&quot;,</td>
      </tr>
      <tr>
        <td id="L330" class="blob-num js-line-number" data-line-number="330"></td>
        <td id="LC330" class="blob-code js-file-line">        &quot;      &lt;td&gt; 89&lt;/td&gt;\n&quot;,</td>
      </tr>
      <tr>
        <td id="L331" class="blob-num js-line-number" data-line-number="331"></td>
        <td id="LC331" class="blob-code js-file-line">        &quot;      &lt;td&gt; 151&lt;/td&gt;\n&quot;,</td>
      </tr>
      <tr>
        <td id="L332" class="blob-num js-line-number" data-line-number="332"></td>
        <td id="LC332" class="blob-code js-file-line">        &quot;      &lt;td&gt; 147&lt;/td&gt;\n&quot;,</td>
      </tr>
      <tr>
        <td id="L333" class="blob-num js-line-number" data-line-number="333"></td>
        <td id="LC333" class="blob-code js-file-line">        &quot;    &lt;/tr&gt;\n&quot;,</td>
      </tr>
      <tr>
        <td id="L334" class="blob-num js-line-number" data-line-number="334"></td>
        <td id="LC334" class="blob-code js-file-line">        &quot;    &lt;tr&gt;\n&quot;,</td>
      </tr>
      <tr>
        <td id="L335" class="blob-num js-line-number" data-line-number="335"></td>
        <td id="LC335" class="blob-code js-file-line">        &quot;      &lt;th&gt;6&lt;/th&gt;\n&quot;,</td>
      </tr>
      <tr>
        <td id="L336" class="blob-num js-line-number" data-line-number="336"></td>
        <td id="LC336" class="blob-code js-file-line">        &quot;      &lt;td&gt; 2007&lt;/td&gt;\n&quot;,</td>
      </tr>
      <tr>
        <td id="L337" class="blob-num js-line-number" data-line-number="337"></td>
        <td id="LC337" class="blob-code js-file-line">        &quot;      &lt;td&gt; 71&lt;/td&gt;\n&quot;,</td>
      </tr>
      <tr>
        <td id="L338" class="blob-num js-line-number" data-line-number="338"></td>
        <td id="LC338" class="blob-code js-file-line">        &quot;      &lt;td&gt; 121&lt;/td&gt;\n&quot;,</td>
      </tr>
      <tr>
        <td id="L339" class="blob-num js-line-number" data-line-number="339"></td>
        <td id="LC339" class="blob-code js-file-line">        &quot;      &lt;td&gt; 117&lt;/td&gt;\n&quot;,</td>
      </tr>
      <tr>
        <td id="L340" class="blob-num js-line-number" data-line-number="340"></td>
        <td id="LC340" class="blob-code js-file-line">        &quot;    &lt;/tr&gt;\n&quot;,</td>
      </tr>
      <tr>
        <td id="L341" class="blob-num js-line-number" data-line-number="341"></td>
        <td id="LC341" class="blob-code js-file-line">        &quot;    &lt;tr&gt;\n&quot;,</td>
      </tr>
      <tr>
        <td id="L342" class="blob-num js-line-number" data-line-number="342"></td>
        <td id="LC342" class="blob-code js-file-line">        &quot;      &lt;th&gt;7&lt;/th&gt;\n&quot;,</td>
      </tr>
      <tr>
        <td id="L343" class="blob-num js-line-number" data-line-number="343"></td>
        <td id="LC343" class="blob-code js-file-line">        &quot;      &lt;td&gt; 2008&lt;/td&gt;\n&quot;,</td>
      </tr>
      <tr>
        <td id="L344" class="blob-num js-line-number" data-line-number="344"></td>
        <td id="LC344" class="blob-code js-file-line">        &quot;      &lt;td&gt; 88&lt;/td&gt;\n&quot;,</td>
      </tr>
      <tr>
        <td id="L345" class="blob-num js-line-number" data-line-number="345"></td>
        <td id="LC345" class="blob-code js-file-line">        &quot;      &lt;td&gt; 267&lt;/td&gt;\n&quot;,</td>
      </tr>
      <tr>
        <td id="L346" class="blob-num js-line-number" data-line-number="346"></td>
        <td id="LC346" class="blob-code js-file-line">        &quot;      &lt;td&gt; 232&lt;/td&gt;\n&quot;,</td>
      </tr>
      <tr>
        <td id="L347" class="blob-num js-line-number" data-line-number="347"></td>
        <td id="LC347" class="blob-code js-file-line">        &quot;    &lt;/tr&gt;\n&quot;,</td>
      </tr>
      <tr>
        <td id="L348" class="blob-num js-line-number" data-line-number="348"></td>
        <td id="LC348" class="blob-code js-file-line">        &quot;    &lt;tr&gt;\n&quot;,</td>
      </tr>
      <tr>
        <td id="L349" class="blob-num js-line-number" data-line-number="349"></td>
        <td id="LC349" class="blob-code js-file-line">        &quot;      &lt;th&gt;8&lt;/th&gt;\n&quot;,</td>
      </tr>
      <tr>
        <td id="L350" class="blob-num js-line-number" data-line-number="350"></td>
        <td id="LC350" class="blob-code js-file-line">        &quot;      &lt;td&gt; 2009&lt;/td&gt;\n&quot;,</td>
      </tr>
      <tr>
        <td id="L351" class="blob-num js-line-number" data-line-number="351"></td>
        <td id="LC351" class="blob-code js-file-line">        &quot;      &lt;td&gt; 85&lt;/td&gt;\n&quot;,</td>
      </tr>
      <tr>
        <td id="L352" class="blob-num js-line-number" data-line-number="352"></td>
        <td id="LC352" class="blob-code js-file-line">        &quot;      &lt;td&gt; 211&lt;/td&gt;\n&quot;,</td>
      </tr>
      <tr>
        <td id="L353" class="blob-num js-line-number" data-line-number="353"></td>
        <td id="LC353" class="blob-code js-file-line">        &quot;      &lt;td&gt; 191&lt;/td&gt;\n&quot;,</td>
      </tr>
      <tr>
        <td id="L354" class="blob-num js-line-number" data-line-number="354"></td>
        <td id="LC354" class="blob-code js-file-line">        &quot;    &lt;/tr&gt;\n&quot;,</td>
      </tr>
      <tr>
        <td id="L355" class="blob-num js-line-number" data-line-number="355"></td>
        <td id="LC355" class="blob-code js-file-line">        &quot;    &lt;tr&gt;\n&quot;,</td>
      </tr>
      <tr>
        <td id="L356" class="blob-num js-line-number" data-line-number="356"></td>
        <td id="LC356" class="blob-code js-file-line">        &quot;      &lt;th&gt;9&lt;/th&gt;\n&quot;,</td>
      </tr>
      <tr>
        <td id="L357" class="blob-num js-line-number" data-line-number="357"></td>
        <td id="LC357" class="blob-code js-file-line">        &quot;      &lt;td&gt; 2010&lt;/td&gt;\n&quot;,</td>
      </tr>
      <tr>
        <td id="L358" class="blob-num js-line-number" data-line-number="358"></td>
        <td id="LC358" class="blob-code js-file-line">        &quot;      &lt;td&gt; 75&lt;/td&gt;\n&quot;,</td>
      </tr>
      <tr>
        <td id="L359" class="blob-num js-line-number" data-line-number="359"></td>
        <td id="LC359" class="blob-code js-file-line">        &quot;      &lt;td&gt; 101&lt;/td&gt;\n&quot;,</td>
      </tr>
      <tr>
        <td id="L360" class="blob-num js-line-number" data-line-number="360"></td>
        <td id="LC360" class="blob-code js-file-line">        &quot;      &lt;td&gt; 106&lt;/td&gt;\n&quot;,</td>
      </tr>
      <tr>
        <td id="L361" class="blob-num js-line-number" data-line-number="361"></td>
        <td id="LC361" class="blob-code js-file-line">        &quot;    &lt;/tr&gt;\n&quot;,</td>
      </tr>
      <tr>
        <td id="L362" class="blob-num js-line-number" data-line-number="362"></td>
        <td id="LC362" class="blob-code js-file-line">        &quot;  &lt;/tbody&gt;\n&quot;,</td>
      </tr>
      <tr>
        <td id="L363" class="blob-num js-line-number" data-line-number="363"></td>
        <td id="LC363" class="blob-code js-file-line">        &quot;&lt;/table&gt;\n&quot;,</td>
      </tr>
      <tr>
        <td id="L364" class="blob-num js-line-number" data-line-number="364"></td>
        <td id="LC364" class="blob-code js-file-line">        &quot;&lt;/div&gt;&quot;</td>
      </tr>
      <tr>
        <td id="L365" class="blob-num js-line-number" data-line-number="365"></td>
        <td id="LC365" class="blob-code js-file-line">       ],</td>
      </tr>
      <tr>
        <td id="L366" class="blob-num js-line-number" data-line-number="366"></td>
        <td id="LC366" class="blob-code js-file-line">       &quot;metadata&quot;: {},</td>
      </tr>
      <tr>
        <td id="L367" class="blob-num js-line-number" data-line-number="367"></td>
        <td id="LC367" class="blob-code js-file-line">       &quot;output_type&quot;: &quot;pyout&quot;,</td>
      </tr>
      <tr>
        <td id="L368" class="blob-num js-line-number" data-line-number="368"></td>
        <td id="LC368" class="blob-code js-file-line">       &quot;prompt_number&quot;: 5,</td>
      </tr>
      <tr>
        <td id="L369" class="blob-num js-line-number" data-line-number="369"></td>
        <td id="LC369" class="blob-code js-file-line">       &quot;text&quot;: [</td>
      </tr>
      <tr>
        <td id="L370" class="blob-num js-line-number" data-line-number="370"></td>
        <td id="LC370" class="blob-code js-file-line">        &quot;   year  temperature  rainfall  mosquitos\n&quot;,</td>
      </tr>
      <tr>
        <td id="L371" class="blob-num js-line-number" data-line-number="371"></td>
        <td id="LC371" class="blob-code js-file-line">        &quot;0  2001           87       222        198\n&quot;,</td>
      </tr>
      <tr>
        <td id="L372" class="blob-num js-line-number" data-line-number="372"></td>
        <td id="LC372" class="blob-code js-file-line">        &quot;1  2002           72       103        105\n&quot;,</td>
      </tr>
      <tr>
        <td id="L373" class="blob-num js-line-number" data-line-number="373"></td>
        <td id="LC373" class="blob-code js-file-line">        &quot;2  2003           77       176        166\n&quot;,</td>
      </tr>
      <tr>
        <td id="L374" class="blob-num js-line-number" data-line-number="374"></td>
        <td id="LC374" class="blob-code js-file-line">        &quot;3  2004           89       236        210\n&quot;,</td>
      </tr>
      <tr>
        <td id="L375" class="blob-num js-line-number" data-line-number="375"></td>
        <td id="LC375" class="blob-code js-file-line">        &quot;4  2005           88       283        242\n&quot;,</td>
      </tr>
      <tr>
        <td id="L376" class="blob-num js-line-number" data-line-number="376"></td>
        <td id="LC376" class="blob-code js-file-line">        &quot;5  2006           89       151        147\n&quot;,</td>
      </tr>
      <tr>
        <td id="L377" class="blob-num js-line-number" data-line-number="377"></td>
        <td id="LC377" class="blob-code js-file-line">        &quot;6  2007           71       121        117\n&quot;,</td>
      </tr>
      <tr>
        <td id="L378" class="blob-num js-line-number" data-line-number="378"></td>
        <td id="LC378" class="blob-code js-file-line">        &quot;7  2008           88       267        232\n&quot;,</td>
      </tr>
      <tr>
        <td id="L379" class="blob-num js-line-number" data-line-number="379"></td>
        <td id="LC379" class="blob-code js-file-line">        &quot;8  2009           85       211        191\n&quot;,</td>
      </tr>
      <tr>
        <td id="L380" class="blob-num js-line-number" data-line-number="380"></td>
        <td id="LC380" class="blob-code js-file-line">        &quot;9  2010           75       101        106&quot;</td>
      </tr>
      <tr>
        <td id="L381" class="blob-num js-line-number" data-line-number="381"></td>
        <td id="LC381" class="blob-code js-file-line">       ]</td>
      </tr>
      <tr>
        <td id="L382" class="blob-num js-line-number" data-line-number="382"></td>
        <td id="LC382" class="blob-code js-file-line">      }</td>
      </tr>
      <tr>
        <td id="L383" class="blob-num js-line-number" data-line-number="383"></td>
        <td id="LC383" class="blob-code js-file-line">     ],</td>
      </tr>
      <tr>
        <td id="L384" class="blob-num js-line-number" data-line-number="384"></td>
        <td id="LC384" class="blob-code js-file-line">     &quot;prompt_number&quot;: 5</td>
      </tr>
      <tr>
        <td id="L385" class="blob-num js-line-number" data-line-number="385"></td>
        <td id="LC385" class="blob-code js-file-line">    },</td>
      </tr>
      <tr>
        <td id="L386" class="blob-num js-line-number" data-line-number="386"></td>
        <td id="LC386" class="blob-code js-file-line">    {</td>
      </tr>
      <tr>
        <td id="L387" class="blob-num js-line-number" data-line-number="387"></td>
        <td id="LC387" class="blob-code js-file-line">     &quot;cell_type&quot;: &quot;markdown&quot;,</td>
      </tr>
      <tr>
        <td id="L388" class="blob-num js-line-number" data-line-number="388"></td>
        <td id="LC388" class="blob-code js-file-line">     &quot;metadata&quot;: {},</td>
      </tr>
      <tr>
        <td id="L389" class="blob-num js-line-number" data-line-number="389"></td>
        <td id="LC389" class="blob-code js-file-line">     &quot;source&quot;: [</td>
      </tr>
      <tr>
        <td id="L390" class="blob-num js-line-number" data-line-number="390"></td>
        <td id="LC390" class="blob-code js-file-line">      &quot;This tells the IPython Notebook to display the `data` object, which is why we see a pretty formated table.&quot;</td>
      </tr>
      <tr>
        <td id="L391" class="blob-num js-line-number" data-line-number="391"></td>
        <td id="LC391" class="blob-code js-file-line">     ]</td>
      </tr>
      <tr>
        <td id="L392" class="blob-num js-line-number" data-line-number="392"></td>
        <td id="LC392" class="blob-code js-file-line">    },</td>
      </tr>
      <tr>
        <td id="L393" class="blob-num js-line-number" data-line-number="393"></td>
        <td id="LC393" class="blob-code js-file-line">    {</td>
      </tr>
      <tr>
        <td id="L394" class="blob-num js-line-number" data-line-number="394"></td>
        <td id="LC394" class="blob-code js-file-line">     &quot;cell_type&quot;: &quot;heading&quot;,</td>
      </tr>
      <tr>
        <td id="L395" class="blob-num js-line-number" data-line-number="395"></td>
        <td id="LC395" class="blob-code js-file-line">     &quot;level&quot;: 2,</td>
      </tr>
      <tr>
        <td id="L396" class="blob-num js-line-number" data-line-number="396"></td>
        <td id="LC396" class="blob-code js-file-line">     &quot;metadata&quot;: {},</td>
      </tr>
      <tr>
        <td id="L397" class="blob-num js-line-number" data-line-number="397"></td>
        <td id="LC397" class="blob-code js-file-line">     &quot;source&quot;: [</td>
      </tr>
      <tr>
        <td id="L398" class="blob-num js-line-number" data-line-number="398"></td>
        <td id="LC398" class="blob-code js-file-line">      &quot;Manipulating data&quot;</td>
      </tr>
      <tr>
        <td id="L399" class="blob-num js-line-number" data-line-number="399"></td>
        <td id="LC399" class="blob-code js-file-line">     ]</td>
      </tr>
      <tr>
        <td id="L400" class="blob-num js-line-number" data-line-number="400"></td>
        <td id="LC400" class="blob-code js-file-line">    },</td>
      </tr>
      <tr>
        <td id="L401" class="blob-num js-line-number" data-line-number="401"></td>
        <td id="LC401" class="blob-code js-file-line">    {</td>
      </tr>
      <tr>
        <td id="L402" class="blob-num js-line-number" data-line-number="402"></td>
        <td id="LC402" class="blob-code js-file-line">     &quot;cell_type&quot;: &quot;markdown&quot;,</td>
      </tr>
      <tr>
        <td id="L403" class="blob-num js-line-number" data-line-number="403"></td>
        <td id="LC403" class="blob-code js-file-line">     &quot;metadata&quot;: {},</td>
      </tr>
      <tr>
        <td id="L404" class="blob-num js-line-number" data-line-number="404"></td>
        <td id="LC404" class="blob-code js-file-line">     &quot;source&quot;: [</td>
      </tr>
      <tr>
        <td id="L405" class="blob-num js-line-number" data-line-number="405"></td>
        <td id="LC405" class="blob-code js-file-line">      &quot;Once we have imported the data we can start doing things with it. First, let&#39;s ask what type of thing `data` refers to:&quot;</td>
      </tr>
      <tr>
        <td id="L406" class="blob-num js-line-number" data-line-number="406"></td>
        <td id="LC406" class="blob-code js-file-line">     ]</td>
      </tr>
      <tr>
        <td id="L407" class="blob-num js-line-number" data-line-number="407"></td>
        <td id="LC407" class="blob-code js-file-line">    },</td>
      </tr>
      <tr>
        <td id="L408" class="blob-num js-line-number" data-line-number="408"></td>
        <td id="LC408" class="blob-code js-file-line">    {</td>
      </tr>
      <tr>
        <td id="L409" class="blob-num js-line-number" data-line-number="409"></td>
        <td id="LC409" class="blob-code js-file-line">     &quot;cell_type&quot;: &quot;code&quot;,</td>
      </tr>
      <tr>
        <td id="L410" class="blob-num js-line-number" data-line-number="410"></td>
        <td id="LC410" class="blob-code js-file-line">     &quot;collapsed&quot;: false,</td>
      </tr>
      <tr>
        <td id="L411" class="blob-num js-line-number" data-line-number="411"></td>
        <td id="LC411" class="blob-code js-file-line">     &quot;input&quot;: [</td>
      </tr>
      <tr>
        <td id="L412" class="blob-num js-line-number" data-line-number="412"></td>
        <td id="LC412" class="blob-code js-file-line">      &quot;print type(data)&quot;</td>
      </tr>
      <tr>
        <td id="L413" class="blob-num js-line-number" data-line-number="413"></td>
        <td id="LC413" class="blob-code js-file-line">     ],</td>
      </tr>
      <tr>
        <td id="L414" class="blob-num js-line-number" data-line-number="414"></td>
        <td id="LC414" class="blob-code js-file-line">     &quot;language&quot;: &quot;python&quot;,</td>
      </tr>
      <tr>
        <td id="L415" class="blob-num js-line-number" data-line-number="415"></td>
        <td id="LC415" class="blob-code js-file-line">     &quot;metadata&quot;: {},</td>
      </tr>
      <tr>
        <td id="L416" class="blob-num js-line-number" data-line-number="416"></td>
        <td id="LC416" class="blob-code js-file-line">     &quot;outputs&quot;: [</td>
      </tr>
      <tr>
        <td id="L417" class="blob-num js-line-number" data-line-number="417"></td>
        <td id="LC417" class="blob-code js-file-line">      {</td>
      </tr>
      <tr>
        <td id="L418" class="blob-num js-line-number" data-line-number="418"></td>
        <td id="LC418" class="blob-code js-file-line">       &quot;output_type&quot;: &quot;stream&quot;,</td>
      </tr>
      <tr>
        <td id="L419" class="blob-num js-line-number" data-line-number="419"></td>
        <td id="LC419" class="blob-code js-file-line">       &quot;stream&quot;: &quot;stdout&quot;,</td>
      </tr>
      <tr>
        <td id="L420" class="blob-num js-line-number" data-line-number="420"></td>
        <td id="LC420" class="blob-code js-file-line">       &quot;text&quot;: [</td>
      </tr>
      <tr>
        <td id="L421" class="blob-num js-line-number" data-line-number="421"></td>
        <td id="LC421" class="blob-code js-file-line">        &quot;&lt;class &#39;pandas.core.frame.DataFrame&#39;&gt;\n&quot;</td>
      </tr>
      <tr>
        <td id="L422" class="blob-num js-line-number" data-line-number="422"></td>
        <td id="LC422" class="blob-code js-file-line">       ]</td>
      </tr>
      <tr>
        <td id="L423" class="blob-num js-line-number" data-line-number="423"></td>
        <td id="LC423" class="blob-code js-file-line">      }</td>
      </tr>
      <tr>
        <td id="L424" class="blob-num js-line-number" data-line-number="424"></td>
        <td id="LC424" class="blob-code js-file-line">     ],</td>
      </tr>
      <tr>
        <td id="L425" class="blob-num js-line-number" data-line-number="425"></td>
        <td id="LC425" class="blob-code js-file-line">     &quot;prompt_number&quot;: 6</td>
      </tr>
      <tr>
        <td id="L426" class="blob-num js-line-number" data-line-number="426"></td>
        <td id="LC426" class="blob-code js-file-line">    },</td>
      </tr>
      <tr>
        <td id="L427" class="blob-num js-line-number" data-line-number="427"></td>
        <td id="LC427" class="blob-code js-file-line">    {</td>
      </tr>
      <tr>
        <td id="L428" class="blob-num js-line-number" data-line-number="428"></td>
        <td id="LC428" class="blob-code js-file-line">     &quot;cell_type&quot;: &quot;markdown&quot;,</td>
      </tr>
      <tr>
        <td id="L429" class="blob-num js-line-number" data-line-number="429"></td>
        <td id="LC429" class="blob-code js-file-line">     &quot;metadata&quot;: {},</td>
      </tr>
      <tr>
        <td id="L430" class="blob-num js-line-number" data-line-number="430"></td>
        <td id="LC430" class="blob-code js-file-line">     &quot;source&quot;: [</td>
      </tr>
      <tr>
        <td id="L431" class="blob-num js-line-number" data-line-number="431"></td>
        <td id="LC431" class="blob-code js-file-line">      &quot;The data is stored in a data structure called a DataFrame. There are other kinds of data structures that are also commonly used in scientific computing including Numpy arrays, and Numpy matrices, which can be used for doing linear algebra.&quot;</td>
      </tr>
      <tr>
        <td id="L432" class="blob-num js-line-number" data-line-number="432"></td>
        <td id="LC432" class="blob-code js-file-line">     ]</td>
      </tr>
      <tr>
        <td id="L433" class="blob-num js-line-number" data-line-number="433"></td>
        <td id="LC433" class="blob-code js-file-line">    },</td>
      </tr>
      <tr>
        <td id="L434" class="blob-num js-line-number" data-line-number="434"></td>
        <td id="LC434" class="blob-code js-file-line">    {</td>
      </tr>
      <tr>
        <td id="L435" class="blob-num js-line-number" data-line-number="435"></td>
        <td id="LC435" class="blob-code js-file-line">     &quot;cell_type&quot;: &quot;markdown&quot;,</td>
      </tr>
      <tr>
        <td id="L436" class="blob-num js-line-number" data-line-number="436"></td>
        <td id="LC436" class="blob-code js-file-line">     &quot;metadata&quot;: {},</td>
      </tr>
      <tr>
        <td id="L437" class="blob-num js-line-number" data-line-number="437"></td>
        <td id="LC437" class="blob-code js-file-line">     &quot;source&quot;: [</td>
      </tr>
      <tr>
        <td id="L438" class="blob-num js-line-number" data-line-number="438"></td>
        <td id="LC438" class="blob-code js-file-line">      &quot;We can select an individual column of data using its name:&quot;</td>
      </tr>
      <tr>
        <td id="L439" class="blob-num js-line-number" data-line-number="439"></td>
        <td id="LC439" class="blob-code js-file-line">     ]</td>
      </tr>
      <tr>
        <td id="L440" class="blob-num js-line-number" data-line-number="440"></td>
        <td id="LC440" class="blob-code js-file-line">    },</td>
      </tr>
      <tr>
        <td id="L441" class="blob-num js-line-number" data-line-number="441"></td>
        <td id="LC441" class="blob-code js-file-line">    {</td>
      </tr>
      <tr>
        <td id="L442" class="blob-num js-line-number" data-line-number="442"></td>
        <td id="LC442" class="blob-code js-file-line">     &quot;cell_type&quot;: &quot;code&quot;,</td>
      </tr>
      <tr>
        <td id="L443" class="blob-num js-line-number" data-line-number="443"></td>
        <td id="LC443" class="blob-code js-file-line">     &quot;collapsed&quot;: false,</td>
      </tr>
      <tr>
        <td id="L444" class="blob-num js-line-number" data-line-number="444"></td>
        <td id="LC444" class="blob-code js-file-line">     &quot;input&quot;: [</td>
      </tr>
      <tr>
        <td id="L445" class="blob-num js-line-number" data-line-number="445"></td>
        <td id="LC445" class="blob-code js-file-line">      &quot;print data[&#39;year&#39;]&quot;</td>
      </tr>
      <tr>
        <td id="L446" class="blob-num js-line-number" data-line-number="446"></td>
        <td id="LC446" class="blob-code js-file-line">     ],</td>
      </tr>
      <tr>
        <td id="L447" class="blob-num js-line-number" data-line-number="447"></td>
        <td id="LC447" class="blob-code js-file-line">     &quot;language&quot;: &quot;python&quot;,</td>
      </tr>
      <tr>
        <td id="L448" class="blob-num js-line-number" data-line-number="448"></td>
        <td id="LC448" class="blob-code js-file-line">     &quot;metadata&quot;: {},</td>
      </tr>
      <tr>
        <td id="L449" class="blob-num js-line-number" data-line-number="449"></td>
        <td id="LC449" class="blob-code js-file-line">     &quot;outputs&quot;: [</td>
      </tr>
      <tr>
        <td id="L450" class="blob-num js-line-number" data-line-number="450"></td>
        <td id="LC450" class="blob-code js-file-line">      {</td>
      </tr>
      <tr>
        <td id="L451" class="blob-num js-line-number" data-line-number="451"></td>
        <td id="LC451" class="blob-code js-file-line">       &quot;output_type&quot;: &quot;stream&quot;,</td>
      </tr>
      <tr>
        <td id="L452" class="blob-num js-line-number" data-line-number="452"></td>
        <td id="LC452" class="blob-code js-file-line">       &quot;stream&quot;: &quot;stdout&quot;,</td>
      </tr>
      <tr>
        <td id="L453" class="blob-num js-line-number" data-line-number="453"></td>
        <td id="LC453" class="blob-code js-file-line">       &quot;text&quot;: [</td>
      </tr>
      <tr>
        <td id="L454" class="blob-num js-line-number" data-line-number="454"></td>
        <td id="LC454" class="blob-code js-file-line">        &quot;0    2001\n&quot;,</td>
      </tr>
      <tr>
        <td id="L455" class="blob-num js-line-number" data-line-number="455"></td>
        <td id="LC455" class="blob-code js-file-line">        &quot;1    2002\n&quot;,</td>
      </tr>
      <tr>
        <td id="L456" class="blob-num js-line-number" data-line-number="456"></td>
        <td id="LC456" class="blob-code js-file-line">        &quot;2    2003\n&quot;,</td>
      </tr>
      <tr>
        <td id="L457" class="blob-num js-line-number" data-line-number="457"></td>
        <td id="LC457" class="blob-code js-file-line">        &quot;3    2004\n&quot;,</td>
      </tr>
      <tr>
        <td id="L458" class="blob-num js-line-number" data-line-number="458"></td>
        <td id="LC458" class="blob-code js-file-line">        &quot;4    2005\n&quot;,</td>
      </tr>
      <tr>
        <td id="L459" class="blob-num js-line-number" data-line-number="459"></td>
        <td id="LC459" class="blob-code js-file-line">        &quot;5    2006\n&quot;,</td>
      </tr>
      <tr>
        <td id="L460" class="blob-num js-line-number" data-line-number="460"></td>
        <td id="LC460" class="blob-code js-file-line">        &quot;6    2007\n&quot;,</td>
      </tr>
      <tr>
        <td id="L461" class="blob-num js-line-number" data-line-number="461"></td>
        <td id="LC461" class="blob-code js-file-line">        &quot;7    2008\n&quot;,</td>
      </tr>
      <tr>
        <td id="L462" class="blob-num js-line-number" data-line-number="462"></td>
        <td id="LC462" class="blob-code js-file-line">        &quot;8    2009\n&quot;,</td>
      </tr>
      <tr>
        <td id="L463" class="blob-num js-line-number" data-line-number="463"></td>
        <td id="LC463" class="blob-code js-file-line">        &quot;9    2010\n&quot;,</td>
      </tr>
      <tr>
        <td id="L464" class="blob-num js-line-number" data-line-number="464"></td>
        <td id="LC464" class="blob-code js-file-line">        &quot;Name: year, dtype: int64\n&quot;</td>
      </tr>
      <tr>
        <td id="L465" class="blob-num js-line-number" data-line-number="465"></td>
        <td id="LC465" class="blob-code js-file-line">       ]</td>
      </tr>
      <tr>
        <td id="L466" class="blob-num js-line-number" data-line-number="466"></td>
        <td id="LC466" class="blob-code js-file-line">      }</td>
      </tr>
      <tr>
        <td id="L467" class="blob-num js-line-number" data-line-number="467"></td>
        <td id="LC467" class="blob-code js-file-line">     ],</td>
      </tr>
      <tr>
        <td id="L468" class="blob-num js-line-number" data-line-number="468"></td>
        <td id="LC468" class="blob-code js-file-line">     &quot;prompt_number&quot;: 7</td>
      </tr>
      <tr>
        <td id="L469" class="blob-num js-line-number" data-line-number="469"></td>
        <td id="LC469" class="blob-code js-file-line">    },</td>
      </tr>
      <tr>
        <td id="L470" class="blob-num js-line-number" data-line-number="470"></td>
        <td id="LC470" class="blob-code js-file-line">    {</td>
      </tr>
      <tr>
        <td id="L471" class="blob-num js-line-number" data-line-number="471"></td>
        <td id="LC471" class="blob-code js-file-line">     &quot;cell_type&quot;: &quot;markdown&quot;,</td>
      </tr>
      <tr>
        <td id="L472" class="blob-num js-line-number" data-line-number="472"></td>
        <td id="LC472" class="blob-code js-file-line">     &quot;metadata&quot;: {},</td>
      </tr>
      <tr>
        <td id="L473" class="blob-num js-line-number" data-line-number="473"></td>
        <td id="LC473" class="blob-code js-file-line">     &quot;source&quot;: [</td>
      </tr>
      <tr>
        <td id="L474" class="blob-num js-line-number" data-line-number="474"></td>
        <td id="LC474" class="blob-code js-file-line">      &quot;Or we can select several columns of data at once:&quot;</td>
      </tr>
      <tr>
        <td id="L475" class="blob-num js-line-number" data-line-number="475"></td>
        <td id="LC475" class="blob-code js-file-line">     ]</td>
      </tr>
      <tr>
        <td id="L476" class="blob-num js-line-number" data-line-number="476"></td>
        <td id="LC476" class="blob-code js-file-line">    },</td>
      </tr>
      <tr>
        <td id="L477" class="blob-num js-line-number" data-line-number="477"></td>
        <td id="LC477" class="blob-code js-file-line">    {</td>
      </tr>
      <tr>
        <td id="L478" class="blob-num js-line-number" data-line-number="478"></td>
        <td id="LC478" class="blob-code js-file-line">     &quot;cell_type&quot;: &quot;code&quot;,</td>
      </tr>
      <tr>
        <td id="L479" class="blob-num js-line-number" data-line-number="479"></td>
        <td id="LC479" class="blob-code js-file-line">     &quot;collapsed&quot;: false,</td>
      </tr>
      <tr>
        <td id="L480" class="blob-num js-line-number" data-line-number="480"></td>
        <td id="LC480" class="blob-code js-file-line">     &quot;input&quot;: [</td>
      </tr>
      <tr>
        <td id="L481" class="blob-num js-line-number" data-line-number="481"></td>
        <td id="LC481" class="blob-code js-file-line">      &quot;print data[[&#39;rainfall&#39;, &#39;temperature&#39;]]&quot;</td>
      </tr>
      <tr>
        <td id="L482" class="blob-num js-line-number" data-line-number="482"></td>
        <td id="LC482" class="blob-code js-file-line">     ],</td>
      </tr>
      <tr>
        <td id="L483" class="blob-num js-line-number" data-line-number="483"></td>
        <td id="LC483" class="blob-code js-file-line">     &quot;language&quot;: &quot;python&quot;,</td>
      </tr>
      <tr>
        <td id="L484" class="blob-num js-line-number" data-line-number="484"></td>
        <td id="LC484" class="blob-code js-file-line">     &quot;metadata&quot;: {},</td>
      </tr>
      <tr>
        <td id="L485" class="blob-num js-line-number" data-line-number="485"></td>
        <td id="LC485" class="blob-code js-file-line">     &quot;outputs&quot;: [</td>
      </tr>
      <tr>
        <td id="L486" class="blob-num js-line-number" data-line-number="486"></td>
        <td id="LC486" class="blob-code js-file-line">      {</td>
      </tr>
      <tr>
        <td id="L487" class="blob-num js-line-number" data-line-number="487"></td>
        <td id="LC487" class="blob-code js-file-line">       &quot;output_type&quot;: &quot;stream&quot;,</td>
      </tr>
      <tr>
        <td id="L488" class="blob-num js-line-number" data-line-number="488"></td>
        <td id="LC488" class="blob-code js-file-line">       &quot;stream&quot;: &quot;stdout&quot;,</td>
      </tr>
      <tr>
        <td id="L489" class="blob-num js-line-number" data-line-number="489"></td>
        <td id="LC489" class="blob-code js-file-line">       &quot;text&quot;: [</td>
      </tr>
      <tr>
        <td id="L490" class="blob-num js-line-number" data-line-number="490"></td>
        <td id="LC490" class="blob-code js-file-line">        &quot;   rainfall  temperature\n&quot;,</td>
      </tr>
      <tr>
        <td id="L491" class="blob-num js-line-number" data-line-number="491"></td>
        <td id="LC491" class="blob-code js-file-line">        &quot;0       222           87\n&quot;,</td>
      </tr>
      <tr>
        <td id="L492" class="blob-num js-line-number" data-line-number="492"></td>
        <td id="LC492" class="blob-code js-file-line">        &quot;1       103           72\n&quot;,</td>
      </tr>
      <tr>
        <td id="L493" class="blob-num js-line-number" data-line-number="493"></td>
        <td id="LC493" class="blob-code js-file-line">        &quot;2       176           77\n&quot;,</td>
      </tr>
      <tr>
        <td id="L494" class="blob-num js-line-number" data-line-number="494"></td>
        <td id="LC494" class="blob-code js-file-line">        &quot;3       236           89\n&quot;,</td>
      </tr>
      <tr>
        <td id="L495" class="blob-num js-line-number" data-line-number="495"></td>
        <td id="LC495" class="blob-code js-file-line">        &quot;4       283           88\n&quot;,</td>
      </tr>
      <tr>
        <td id="L496" class="blob-num js-line-number" data-line-number="496"></td>
        <td id="LC496" class="blob-code js-file-line">        &quot;5       151           89\n&quot;,</td>
      </tr>
      <tr>
        <td id="L497" class="blob-num js-line-number" data-line-number="497"></td>
        <td id="LC497" class="blob-code js-file-line">        &quot;6       121           71\n&quot;,</td>
      </tr>
      <tr>
        <td id="L498" class="blob-num js-line-number" data-line-number="498"></td>
        <td id="LC498" class="blob-code js-file-line">        &quot;7       267           88\n&quot;,</td>
      </tr>
      <tr>
        <td id="L499" class="blob-num js-line-number" data-line-number="499"></td>
        <td id="LC499" class="blob-code js-file-line">        &quot;8       211           85\n&quot;,</td>
      </tr>
      <tr>
        <td id="L500" class="blob-num js-line-number" data-line-number="500"></td>
        <td id="LC500" class="blob-code js-file-line">        &quot;9       101           75\n&quot;</td>
      </tr>
      <tr>
        <td id="L501" class="blob-num js-line-number" data-line-number="501"></td>
        <td id="LC501" class="blob-code js-file-line">       ]</td>
      </tr>
      <tr>
        <td id="L502" class="blob-num js-line-number" data-line-number="502"></td>
        <td id="LC502" class="blob-code js-file-line">      }</td>
      </tr>
      <tr>
        <td id="L503" class="blob-num js-line-number" data-line-number="503"></td>
        <td id="LC503" class="blob-code js-file-line">     ],</td>
      </tr>
      <tr>
        <td id="L504" class="blob-num js-line-number" data-line-number="504"></td>
        <td id="LC504" class="blob-code js-file-line">     &quot;prompt_number&quot;: 8</td>
      </tr>
      <tr>
        <td id="L505" class="blob-num js-line-number" data-line-number="505"></td>
        <td id="LC505" class="blob-code js-file-line">    },</td>
      </tr>
      <tr>
        <td id="L506" class="blob-num js-line-number" data-line-number="506"></td>
        <td id="LC506" class="blob-code js-file-line">    {</td>
      </tr>
      <tr>
        <td id="L507" class="blob-num js-line-number" data-line-number="507"></td>
        <td id="LC507" class="blob-code js-file-line">     &quot;cell_type&quot;: &quot;markdown&quot;,</td>
      </tr>
      <tr>
        <td id="L508" class="blob-num js-line-number" data-line-number="508"></td>
        <td id="LC508" class="blob-code js-file-line">     &quot;metadata&quot;: {},</td>
      </tr>
      <tr>
        <td id="L509" class="blob-num js-line-number" data-line-number="509"></td>
        <td id="LC509" class="blob-code js-file-line">     &quot;source&quot;: [</td>
      </tr>
      <tr>
        <td id="L510" class="blob-num js-line-number" data-line-number="510"></td>
        <td id="LC510" class="blob-code js-file-line">      &quot;We can also select subsets of rows using slicing. Say we just want the first two rows of data:&quot;</td>
      </tr>
      <tr>
        <td id="L511" class="blob-num js-line-number" data-line-number="511"></td>
        <td id="LC511" class="blob-code js-file-line">     ]</td>
      </tr>
      <tr>
        <td id="L512" class="blob-num js-line-number" data-line-number="512"></td>
        <td id="LC512" class="blob-code js-file-line">    },</td>
      </tr>
      <tr>
        <td id="L513" class="blob-num js-line-number" data-line-number="513"></td>
        <td id="LC513" class="blob-code js-file-line">    {</td>
      </tr>
      <tr>
        <td id="L514" class="blob-num js-line-number" data-line-number="514"></td>
        <td id="LC514" class="blob-code js-file-line">     &quot;cell_type&quot;: &quot;code&quot;,</td>
      </tr>
      <tr>
        <td id="L515" class="blob-num js-line-number" data-line-number="515"></td>
        <td id="LC515" class="blob-code js-file-line">     &quot;collapsed&quot;: false,</td>
      </tr>
      <tr>
        <td id="L516" class="blob-num js-line-number" data-line-number="516"></td>
        <td id="LC516" class="blob-code js-file-line">     &quot;input&quot;: [</td>
      </tr>
      <tr>
        <td id="L517" class="blob-num js-line-number" data-line-number="517"></td>
        <td id="LC517" class="blob-code js-file-line">      &quot;print data[0:2]&quot;</td>
      </tr>
      <tr>
        <td id="L518" class="blob-num js-line-number" data-line-number="518"></td>
        <td id="LC518" class="blob-code js-file-line">     ],</td>
      </tr>
      <tr>
        <td id="L519" class="blob-num js-line-number" data-line-number="519"></td>
        <td id="LC519" class="blob-code js-file-line">     &quot;language&quot;: &quot;python&quot;,</td>
      </tr>
      <tr>
        <td id="L520" class="blob-num js-line-number" data-line-number="520"></td>
        <td id="LC520" class="blob-code js-file-line">     &quot;metadata&quot;: {},</td>
      </tr>
      <tr>
        <td id="L521" class="blob-num js-line-number" data-line-number="521"></td>
        <td id="LC521" class="blob-code js-file-line">     &quot;outputs&quot;: [</td>
      </tr>
      <tr>
        <td id="L522" class="blob-num js-line-number" data-line-number="522"></td>
        <td id="LC522" class="blob-code js-file-line">      {</td>
      </tr>
      <tr>
        <td id="L523" class="blob-num js-line-number" data-line-number="523"></td>
        <td id="LC523" class="blob-code js-file-line">       &quot;output_type&quot;: &quot;stream&quot;,</td>
      </tr>
      <tr>
        <td id="L524" class="blob-num js-line-number" data-line-number="524"></td>
        <td id="LC524" class="blob-code js-file-line">       &quot;stream&quot;: &quot;stdout&quot;,</td>
      </tr>
      <tr>
        <td id="L525" class="blob-num js-line-number" data-line-number="525"></td>
        <td id="LC525" class="blob-code js-file-line">       &quot;text&quot;: [</td>
      </tr>
      <tr>
        <td id="L526" class="blob-num js-line-number" data-line-number="526"></td>
        <td id="LC526" class="blob-code js-file-line">        &quot;   year  temperature  rainfall  mosquitos\n&quot;,</td>
      </tr>
      <tr>
        <td id="L527" class="blob-num js-line-number" data-line-number="527"></td>
        <td id="LC527" class="blob-code js-file-line">        &quot;0  2001           87       222        198\n&quot;,</td>
      </tr>
      <tr>
        <td id="L528" class="blob-num js-line-number" data-line-number="528"></td>
        <td id="LC528" class="blob-code js-file-line">        &quot;1  2002           72       103        105\n&quot;</td>
      </tr>
      <tr>
        <td id="L529" class="blob-num js-line-number" data-line-number="529"></td>
        <td id="LC529" class="blob-code js-file-line">       ]</td>
      </tr>
      <tr>
        <td id="L530" class="blob-num js-line-number" data-line-number="530"></td>
        <td id="LC530" class="blob-code js-file-line">      }</td>
      </tr>
      <tr>
        <td id="L531" class="blob-num js-line-number" data-line-number="531"></td>
        <td id="LC531" class="blob-code js-file-line">     ],</td>
      </tr>
      <tr>
        <td id="L532" class="blob-num js-line-number" data-line-number="532"></td>
        <td id="LC532" class="blob-code js-file-line">     &quot;prompt_number&quot;: 9</td>
      </tr>
      <tr>
        <td id="L533" class="blob-num js-line-number" data-line-number="533"></td>
        <td id="LC533" class="blob-code js-file-line">    },</td>
      </tr>
      <tr>
        <td id="L534" class="blob-num js-line-number" data-line-number="534"></td>
        <td id="LC534" class="blob-code js-file-line">    {</td>
      </tr>
      <tr>
        <td id="L535" class="blob-num js-line-number" data-line-number="535"></td>
        <td id="LC535" class="blob-code js-file-line">     &quot;cell_type&quot;: &quot;markdown&quot;,</td>
      </tr>
      <tr>
        <td id="L536" class="blob-num js-line-number" data-line-number="536"></td>
        <td id="LC536" class="blob-code js-file-line">     &quot;metadata&quot;: {},</td>
      </tr>
      <tr>
        <td id="L537" class="blob-num js-line-number" data-line-number="537"></td>
        <td id="LC537" class="blob-code js-file-line">     &quot;source&quot;: [</td>
      </tr>
      <tr>
        <td id="L538" class="blob-num js-line-number" data-line-number="538"></td>
        <td id="LC538" class="blob-code js-file-line">      &quot;There are a couple of important things to note here. First, Python indexing starts at zero. In contrast, programming languages like R and MATLAB start counting at 1, because that&#39;s what human beings have done for thousands of years. Languages in the C family (including C++, Java, Perl, and Python) count from 0 because that&#39;s simpler for computers to do. This means that if we have 5 things in Python they are numbered 0, 1, 2, 3, 4, and the first row in a data frame is always row 0.\n&quot;,</td>
      </tr>
      <tr>
        <td id="L539" class="blob-num js-line-number" data-line-number="539"></td>
        <td id="LC539" class="blob-code js-file-line">      &quot;\n&quot;,</td>
      </tr>
      <tr>
        <td id="L540" class="blob-num js-line-number" data-line-number="540"></td>
        <td id="LC540" class="blob-code js-file-line">      &quot;The other thing to note is that the subset of rows starts at the first value and goes up to, but does not include, the second value. Again, the up-to-but-not-including takes a bit of getting used to, but the rule is that the difference between the upper and lower bounds is the number of values in the slice.&quot;</td>
      </tr>
      <tr>
        <td id="L541" class="blob-num js-line-number" data-line-number="541"></td>
        <td id="LC541" class="blob-code js-file-line">     ]</td>
      </tr>
      <tr>
        <td id="L542" class="blob-num js-line-number" data-line-number="542"></td>
        <td id="LC542" class="blob-code js-file-line">    },</td>
      </tr>
      <tr>
        <td id="L543" class="blob-num js-line-number" data-line-number="543"></td>
        <td id="LC543" class="blob-code js-file-line">    {</td>
      </tr>
      <tr>
        <td id="L544" class="blob-num js-line-number" data-line-number="544"></td>
        <td id="LC544" class="blob-code js-file-line">     &quot;cell_type&quot;: &quot;markdown&quot;,</td>
      </tr>
      <tr>
        <td id="L545" class="blob-num js-line-number" data-line-number="545"></td>
        <td id="LC545" class="blob-code js-file-line">     &quot;metadata&quot;: {},</td>
      </tr>
      <tr>
        <td id="L546" class="blob-num js-line-number" data-line-number="546"></td>
        <td id="LC546" class="blob-code js-file-line">     &quot;source&quot;: [</td>
      </tr>
      <tr>
        <td id="L547" class="blob-num js-line-number" data-line-number="547"></td>
        <td id="LC547" class="blob-code js-file-line">      &quot;One thing that we can&#39;t do with this syntax is directly ask for the data from a single row:&quot;</td>
      </tr>
      <tr>
        <td id="L548" class="blob-num js-line-number" data-line-number="548"></td>
        <td id="LC548" class="blob-code js-file-line">     ]</td>
      </tr>
      <tr>
        <td id="L549" class="blob-num js-line-number" data-line-number="549"></td>
        <td id="LC549" class="blob-code js-file-line">    },</td>
      </tr>
      <tr>
        <td id="L550" class="blob-num js-line-number" data-line-number="550"></td>
        <td id="LC550" class="blob-code js-file-line">    {</td>
      </tr>
      <tr>
        <td id="L551" class="blob-num js-line-number" data-line-number="551"></td>
        <td id="LC551" class="blob-code js-file-line">     &quot;cell_type&quot;: &quot;code&quot;,</td>
      </tr>
      <tr>
        <td id="L552" class="blob-num js-line-number" data-line-number="552"></td>
        <td id="LC552" class="blob-code js-file-line">     &quot;collapsed&quot;: false,</td>
      </tr>
      <tr>
        <td id="L553" class="blob-num js-line-number" data-line-number="553"></td>
        <td id="LC553" class="blob-code js-file-line">     &quot;input&quot;: [</td>
      </tr>
      <tr>
        <td id="L554" class="blob-num js-line-number" data-line-number="554"></td>
        <td id="LC554" class="blob-code js-file-line">      &quot;data[1]&quot;</td>
      </tr>
      <tr>
        <td id="L555" class="blob-num js-line-number" data-line-number="555"></td>
        <td id="LC555" class="blob-code js-file-line">     ],</td>
      </tr>
      <tr>
        <td id="L556" class="blob-num js-line-number" data-line-number="556"></td>
        <td id="LC556" class="blob-code js-file-line">     &quot;language&quot;: &quot;python&quot;,</td>
      </tr>
      <tr>
        <td id="L557" class="blob-num js-line-number" data-line-number="557"></td>
        <td id="LC557" class="blob-code js-file-line">     &quot;metadata&quot;: {},</td>
      </tr>
      <tr>
        <td id="L558" class="blob-num js-line-number" data-line-number="558"></td>
        <td id="LC558" class="blob-code js-file-line">     &quot;outputs&quot;: [</td>
      </tr>
      <tr>
        <td id="L559" class="blob-num js-line-number" data-line-number="559"></td>
        <td id="LC559" class="blob-code js-file-line">      {</td>
      </tr>
      <tr>
        <td id="L560" class="blob-num js-line-number" data-line-number="560"></td>
        <td id="LC560" class="blob-code js-file-line">       &quot;ename&quot;: &quot;KeyError&quot;,</td>
      </tr>
      <tr>
        <td id="L561" class="blob-num js-line-number" data-line-number="561"></td>
        <td id="LC561" class="blob-code js-file-line">       &quot;evalue&quot;: &quot;u&#39;no item named 1&#39;&quot;,</td>
      </tr>
      <tr>
        <td id="L562" class="blob-num js-line-number" data-line-number="562"></td>
        <td id="LC562" class="blob-code js-file-line">       &quot;output_type&quot;: &quot;pyerr&quot;,</td>
      </tr>
      <tr>
        <td id="L563" class="blob-num js-line-number" data-line-number="563"></td>
        <td id="LC563" class="blob-code js-file-line">       &quot;traceback&quot;: [</td>
      </tr>
      <tr>
        <td id="L564" class="blob-num js-line-number" data-line-number="564"></td>
        <td id="LC564" class="blob-code js-file-line">        &quot;\u001b[1;31m---------------------------------------------------------------------------\u001b[0m\n\u001b[1;31mKeyError\u001b[0m                                  Traceback (most recent call last)&quot;,</td>
      </tr>
      <tr>
        <td id="L565" class="blob-num js-line-number" data-line-number="565"></td>
        <td id="LC565" class="blob-code js-file-line">        &quot;\u001b[1;32m&lt;ipython-input-10-c805864c0d75&gt;\u001b[0m in \u001b[0;36m&lt;module&gt;\u001b[1;34m()\u001b[0m\n\u001b[1;32m----&gt; 1\u001b[1;33m \u001b[0mdata\u001b[0m\u001b[1;33m[\u001b[0m\u001b[1;36m1\u001b[0m\u001b[1;33m]\u001b[0m\u001b[1;33m\u001b[0m\u001b[0m\n\u001b[0m&quot;,</td>
      </tr>
      <tr>
        <td id="L566" class="blob-num js-line-number" data-line-number="566"></td>
        <td id="LC566" class="blob-code js-file-line">        &quot;\u001b[1;32m/usr/lib/python2.7/dist-packages/pandas/core/frame.pyc\u001b[0m in \u001b[0;36m__getitem__\u001b[1;34m(self, key)\u001b[0m\n\u001b[0;32m   2001\u001b[0m             \u001b[1;31m# get column\u001b[0m\u001b[1;33m\u001b[0m\u001b[1;33m\u001b[0m\u001b[0m\n\u001b[0;32m   2002\u001b[0m             \u001b[1;32mif\u001b[0m \u001b[0mself\u001b[0m\u001b[1;33m.\u001b[0m\u001b[0mcolumns\u001b[0m\u001b[1;33m.\u001b[0m\u001b[0mis_unique\u001b[0m\u001b[1;33m:\u001b[0m\u001b[1;33m\u001b[0m\u001b[0m\n\u001b[1;32m-&gt; 2003\u001b[1;33m                 \u001b[1;32mreturn\u001b[0m \u001b[0mself\u001b[0m\u001b[1;33m.\u001b[0m\u001b[0m_get_item_cache\u001b[0m\u001b[1;33m(\u001b[0m\u001b[0mkey\u001b[0m\u001b[1;33m)\u001b[0m\u001b[1;33m\u001b[0m\u001b[0m\n\u001b[0m\u001b[0;32m   2004\u001b[0m \u001b[1;33m\u001b[0m\u001b[0m\n\u001b[0;32m   2005\u001b[0m             \u001b[1;31m# duplicate columns\u001b[0m\u001b[1;33m\u001b[0m\u001b[1;33m\u001b[0m\u001b[0m\n&quot;,</td>
      </tr>
      <tr>
        <td id="L567" class="blob-num js-line-number" data-line-number="567"></td>
        <td id="LC567" class="blob-code js-file-line">        &quot;\u001b[1;32m/usr/lib/python2.7/dist-packages/pandas/core/generic.pyc\u001b[0m in \u001b[0;36m_get_item_cache\u001b[1;34m(self, item)\u001b[0m\n\u001b[0;32m    665\u001b[0m             \u001b[1;32mreturn\u001b[0m \u001b[0mcache\u001b[0m\u001b[1;33m[\u001b[0m\u001b[0mitem\u001b[0m\u001b[1;33m]\u001b[0m\u001b[1;33m\u001b[0m\u001b[0m\n\u001b[0;32m    666\u001b[0m         \u001b[1;32mexcept\u001b[0m \u001b[0mException\u001b[0m\u001b[1;33m:\u001b[0m\u001b[1;33m\u001b[0m\u001b[0m\n\u001b[1;32m--&gt; 667\u001b[1;33m             \u001b[0mvalues\u001b[0m \u001b[1;33m=\u001b[0m \u001b[0mself\u001b[0m\u001b[1;33m.\u001b[0m\u001b[0m_data\u001b[0m\u001b[1;33m.\u001b[0m\u001b[0mget\u001b[0m\u001b[1;33m(\u001b[0m\u001b[0mitem\u001b[0m\u001b[1;33m)\u001b[0m\u001b[1;33m\u001b[0m\u001b[0m\n\u001b[0m\u001b[0;32m    668\u001b[0m             \u001b[0mres\u001b[0m \u001b[1;33m=\u001b[0m \u001b[0mself\u001b[0m\u001b[1;33m.\u001b[0m\u001b[0m_box_item_values\u001b[0m\u001b[1;33m(\u001b[0m\u001b[0mitem\u001b[0m\u001b[1;33m,\u001b[0m \u001b[0mvalues\u001b[0m\u001b[1;33m)\u001b[0m\u001b[1;33m\u001b[0m\u001b[0m\n\u001b[0;32m    669\u001b[0m             \u001b[0mcache\u001b[0m\u001b[1;33m[\u001b[0m\u001b[0mitem\u001b[0m\u001b[1;33m]\u001b[0m \u001b[1;33m=\u001b[0m \u001b[0mres\u001b[0m\u001b[1;33m\u001b[0m\u001b[0m\n&quot;,</td>
      </tr>
      <tr>
        <td id="L568" class="blob-num js-line-number" data-line-number="568"></td>
        <td id="LC568" class="blob-code js-file-line">        &quot;\u001b[1;32m/usr/lib/python2.7/dist-packages/pandas/core/internals.pyc\u001b[0m in \u001b[0;36mget\u001b[1;34m(self, item)\u001b[0m\n\u001b[0;32m   1653\u001b[0m     \u001b[1;32mdef\u001b[0m \u001b[0mget\u001b[0m\u001b[1;33m(\u001b[0m\u001b[0mself\u001b[0m\u001b[1;33m,\u001b[0m \u001b[0mitem\u001b[0m\u001b[1;33m)\u001b[0m\u001b[1;33m:\u001b[0m\u001b[1;33m\u001b[0m\u001b[0m\n\u001b[0;32m   1654\u001b[0m         \u001b[1;32mif\u001b[0m \u001b[0mself\u001b[0m\u001b[1;33m.\u001b[0m\u001b[0mitems\u001b[0m\u001b[1;33m.\u001b[0m\u001b[0mis_unique\u001b[0m\u001b[1;33m:\u001b[0m\u001b[1;33m\u001b[0m\u001b[0m\n\u001b[1;32m-&gt; 1655\u001b[1;33m             \u001b[0m_\u001b[0m\u001b[1;33m,\u001b[0m \u001b[0mblock\u001b[0m \u001b[1;33m=\u001b[0m \u001b[0mself\u001b[0m\u001b[1;33m.\u001b[0m\u001b[0m_find_block\u001b[0m\u001b[1;33m(\u001b[0m\u001b[0mitem\u001b[0m\u001b[1;33m)\u001b[0m\u001b[1;33m\u001b[0m\u001b[0m\n\u001b[0m\u001b[0;32m   1656\u001b[0m             \u001b[1;32mreturn\u001b[0m \u001b[0mblock\u001b[0m\u001b[1;33m.\u001b[0m\u001b[0mget\u001b[0m\u001b[1;33m(\u001b[0m\u001b[0mitem\u001b[0m\u001b[1;33m)\u001b[0m\u001b[1;33m\u001b[0m\u001b[0m\n\u001b[0;32m   1657\u001b[0m         \u001b[1;32melse\u001b[0m\u001b[1;33m:\u001b[0m\u001b[1;33m\u001b[0m\u001b[0m\n&quot;,</td>
      </tr>
      <tr>
        <td id="L569" class="blob-num js-line-number" data-line-number="569"></td>
        <td id="LC569" class="blob-code js-file-line">        &quot;\u001b[1;32m/usr/lib/python2.7/dist-packages/pandas/core/internals.pyc\u001b[0m in \u001b[0;36m_find_block\u001b[1;34m(self, item)\u001b[0m\n\u001b[0;32m   1933\u001b[0m \u001b[1;33m\u001b[0m\u001b[0m\n\u001b[0;32m   1934\u001b[0m     \u001b[1;32mdef\u001b[0m \u001b[0m_find_block\u001b[0m\u001b[1;33m(\u001b[0m\u001b[0mself\u001b[0m\u001b[1;33m,\u001b[0m \u001b[0mitem\u001b[0m\u001b[1;33m)\u001b[0m\u001b[1;33m:\u001b[0m\u001b[1;33m\u001b[0m\u001b[0m\n\u001b[1;32m-&gt; 1935\u001b[1;33m         \u001b[0mself\u001b[0m\u001b[1;33m.\u001b[0m\u001b[0m_check_have\u001b[0m\u001b[1;33m(\u001b[0m\u001b[0mitem\u001b[0m\u001b[1;33m)\u001b[0m\u001b[1;33m\u001b[0m\u001b[0m\n\u001b[0m\u001b[0;32m   1936\u001b[0m         \u001b[1;32mfor\u001b[0m \u001b[0mi\u001b[0m\u001b[1;33m,\u001b[0m \u001b[0mblock\u001b[0m \u001b[1;32min\u001b[0m \u001b[0menumerate\u001b[0m\u001b[1;33m(\u001b[0m\u001b[0mself\u001b[0m\u001b[1;33m.\u001b[0m\u001b[0mblocks\u001b[0m\u001b[1;33m)\u001b[0m\u001b[1;33m:\u001b[0m\u001b[1;33m\u001b[0m\u001b[0m\n\u001b[0;32m   1937\u001b[0m             \u001b[1;32mif\u001b[0m \u001b[0mitem\u001b[0m \u001b[1;32min\u001b[0m \u001b[0mblock\u001b[0m\u001b[1;33m:\u001b[0m\u001b[1;33m\u001b[0m\u001b[0m\n&quot;,</td>
      </tr>
      <tr>
        <td id="L570" class="blob-num js-line-number" data-line-number="570"></td>
        <td id="LC570" class="blob-code js-file-line">        &quot;\u001b[1;32m/usr/lib/python2.7/dist-packages/pandas/core/internals.pyc\u001b[0m in \u001b[0;36m_check_have\u001b[1;34m(self, item)\u001b[0m\n\u001b[0;32m   1940\u001b[0m     \u001b[1;32mdef\u001b[0m \u001b[0m_check_have\u001b[0m\u001b[1;33m(\u001b[0m\u001b[0mself\u001b[0m\u001b[1;33m,\u001b[0m \u001b[0mitem\u001b[0m\u001b[1;33m)\u001b[0m\u001b[1;33m:\u001b[0m\u001b[1;33m\u001b[0m\u001b[0m\n\u001b[0;32m   1941\u001b[0m         \u001b[1;32mif\u001b[0m \u001b[0mitem\u001b[0m \u001b[1;32mnot\u001b[0m \u001b[1;32min\u001b[0m \u001b[0mself\u001b[0m\u001b[1;33m.\u001b[0m\u001b[0mitems\u001b[0m\u001b[1;33m:\u001b[0m\u001b[1;33m\u001b[0m\u001b[0m\n\u001b[1;32m-&gt; 1942\u001b[1;33m             \u001b[1;32mraise\u001b[0m \u001b[0mKeyError\u001b[0m\u001b[1;33m(\u001b[0m\u001b[1;34m&#39;no item named %s&#39;\u001b[0m \u001b[1;33m%\u001b[0m \u001b[0mcom\u001b[0m\u001b[1;33m.\u001b[0m\u001b[0mpprint_thing\u001b[0m\u001b[1;33m(\u001b[0m\u001b[0mitem\u001b[0m\u001b[1;33m)\u001b[0m\u001b[1;33m)\u001b[0m\u001b[1;33m\u001b[0m\u001b[0m\n\u001b[0m\u001b[0;32m   1943\u001b[0m \u001b[1;33m\u001b[0m\u001b[0m\n\u001b[0;32m   1944\u001b[0m     \u001b[1;32mdef\u001b[0m \u001b[0mreindex_axis\u001b[0m\u001b[1;33m(\u001b[0m\u001b[0mself\u001b[0m\u001b[1;33m,\u001b[0m \u001b[0mnew_axis\u001b[0m\u001b[1;33m,\u001b[0m \u001b[0mmethod\u001b[0m\u001b[1;33m=\u001b[0m\u001b[0mNone\u001b[0m\u001b[1;33m,\u001b[0m \u001b[0maxis\u001b[0m\u001b[1;33m=\u001b[0m\u001b[1;36m0\u001b[0m\u001b[1;33m,\u001b[0m \u001b[0mcopy\u001b[0m\u001b[1;33m=\u001b[0m\u001b[0mTrue\u001b[0m\u001b[1;33m)\u001b[0m\u001b[1;33m:\u001b[0m\u001b[1;33m\u001b[0m\u001b[0m\n&quot;,</td>
      </tr>
      <tr>
        <td id="L571" class="blob-num js-line-number" data-line-number="571"></td>
        <td id="LC571" class="blob-code js-file-line">        &quot;\u001b[1;31mKeyError\u001b[0m: u&#39;no item named 1&#39;&quot;</td>
      </tr>
      <tr>
        <td id="L572" class="blob-num js-line-number" data-line-number="572"></td>
        <td id="LC572" class="blob-code js-file-line">       ]</td>
      </tr>
      <tr>
        <td id="L573" class="blob-num js-line-number" data-line-number="573"></td>
        <td id="LC573" class="blob-code js-file-line">      }</td>
      </tr>
      <tr>
        <td id="L574" class="blob-num js-line-number" data-line-number="574"></td>
        <td id="LC574" class="blob-code js-file-line">     ],</td>
      </tr>
      <tr>
        <td id="L575" class="blob-num js-line-number" data-line-number="575"></td>
        <td id="LC575" class="blob-code js-file-line">     &quot;prompt_number&quot;: 10</td>
      </tr>
      <tr>
        <td id="L576" class="blob-num js-line-number" data-line-number="576"></td>
        <td id="LC576" class="blob-code js-file-line">    },</td>
      </tr>
      <tr>
        <td id="L577" class="blob-num js-line-number" data-line-number="577"></td>
        <td id="LC577" class="blob-code js-file-line">    {</td>
      </tr>
      <tr>
        <td id="L578" class="blob-num js-line-number" data-line-number="578"></td>
        <td id="LC578" class="blob-code js-file-line">     &quot;cell_type&quot;: &quot;markdown&quot;,</td>
      </tr>
      <tr>
        <td id="L579" class="blob-num js-line-number" data-line-number="579"></td>
        <td id="LC579" class="blob-code js-file-line">     &quot;metadata&quot;: {},</td>
      </tr>
      <tr>
        <td id="L580" class="blob-num js-line-number" data-line-number="580"></td>
        <td id="LC580" class="blob-code js-file-line">     &quot;source&quot;: [</td>
      </tr>
      <tr>
        <td id="L581" class="blob-num js-line-number" data-line-number="581"></td>
        <td id="LC581" class="blob-code js-file-line">      &quot;This is because there are several things that we could mean by `data[1]` so if we want a single row we can either take a slice that returns a single row:&quot;</td>
      </tr>
      <tr>
        <td id="L582" class="blob-num js-line-number" data-line-number="582"></td>
        <td id="LC582" class="blob-code js-file-line">     ]</td>
      </tr>
      <tr>
        <td id="L583" class="blob-num js-line-number" data-line-number="583"></td>
        <td id="LC583" class="blob-code js-file-line">    },</td>
      </tr>
      <tr>
        <td id="L584" class="blob-num js-line-number" data-line-number="584"></td>
        <td id="LC584" class="blob-code js-file-line">    {</td>
      </tr>
      <tr>
        <td id="L585" class="blob-num js-line-number" data-line-number="585"></td>
        <td id="LC585" class="blob-code js-file-line">     &quot;cell_type&quot;: &quot;code&quot;,</td>
      </tr>
      <tr>
        <td id="L586" class="blob-num js-line-number" data-line-number="586"></td>
        <td id="LC586" class="blob-code js-file-line">     &quot;collapsed&quot;: false,</td>
      </tr>
      <tr>
        <td id="L587" class="blob-num js-line-number" data-line-number="587"></td>
        <td id="LC587" class="blob-code js-file-line">     &quot;input&quot;: [</td>
      </tr>
      <tr>
        <td id="L588" class="blob-num js-line-number" data-line-number="588"></td>
        <td id="LC588" class="blob-code js-file-line">      &quot;print data[1:2]&quot;</td>
      </tr>
      <tr>
        <td id="L589" class="blob-num js-line-number" data-line-number="589"></td>
        <td id="LC589" class="blob-code js-file-line">     ],</td>
      </tr>
      <tr>
        <td id="L590" class="blob-num js-line-number" data-line-number="590"></td>
        <td id="LC590" class="blob-code js-file-line">     &quot;language&quot;: &quot;python&quot;,</td>
      </tr>
      <tr>
        <td id="L591" class="blob-num js-line-number" data-line-number="591"></td>
        <td id="LC591" class="blob-code js-file-line">     &quot;metadata&quot;: {},</td>
      </tr>
      <tr>
        <td id="L592" class="blob-num js-line-number" data-line-number="592"></td>
        <td id="LC592" class="blob-code js-file-line">     &quot;outputs&quot;: [</td>
      </tr>
      <tr>
        <td id="L593" class="blob-num js-line-number" data-line-number="593"></td>
        <td id="LC593" class="blob-code js-file-line">      {</td>
      </tr>
      <tr>
        <td id="L594" class="blob-num js-line-number" data-line-number="594"></td>
        <td id="LC594" class="blob-code js-file-line">       &quot;output_type&quot;: &quot;stream&quot;,</td>
      </tr>
      <tr>
        <td id="L595" class="blob-num js-line-number" data-line-number="595"></td>
        <td id="LC595" class="blob-code js-file-line">       &quot;stream&quot;: &quot;stdout&quot;,</td>
      </tr>
      <tr>
        <td id="L596" class="blob-num js-line-number" data-line-number="596"></td>
        <td id="LC596" class="blob-code js-file-line">       &quot;text&quot;: [</td>
      </tr>
      <tr>
        <td id="L597" class="blob-num js-line-number" data-line-number="597"></td>
        <td id="LC597" class="blob-code js-file-line">        &quot;   year  temperature  rainfall  mosquitos\n&quot;,</td>
      </tr>
      <tr>
        <td id="L598" class="blob-num js-line-number" data-line-number="598"></td>
        <td id="LC598" class="blob-code js-file-line">        &quot;1  2002           72       103        105\n&quot;</td>
      </tr>
      <tr>
        <td id="L599" class="blob-num js-line-number" data-line-number="599"></td>
        <td id="LC599" class="blob-code js-file-line">       ]</td>
      </tr>
      <tr>
        <td id="L600" class="blob-num js-line-number" data-line-number="600"></td>
        <td id="LC600" class="blob-code js-file-line">      }</td>
      </tr>
      <tr>
        <td id="L601" class="blob-num js-line-number" data-line-number="601"></td>
        <td id="LC601" class="blob-code js-file-line">     ],</td>
      </tr>
      <tr>
        <td id="L602" class="blob-num js-line-number" data-line-number="602"></td>
        <td id="LC602" class="blob-code js-file-line">     &quot;prompt_number&quot;: 11</td>
      </tr>
      <tr>
        <td id="L603" class="blob-num js-line-number" data-line-number="603"></td>
        <td id="LC603" class="blob-code js-file-line">    },</td>
      </tr>
      <tr>
        <td id="L604" class="blob-num js-line-number" data-line-number="604"></td>
        <td id="LC604" class="blob-code js-file-line">    {</td>
      </tr>
      <tr>
        <td id="L605" class="blob-num js-line-number" data-line-number="605"></td>
        <td id="LC605" class="blob-code js-file-line">     &quot;cell_type&quot;: &quot;markdown&quot;,</td>
      </tr>
      <tr>
        <td id="L606" class="blob-num js-line-number" data-line-number="606"></td>
        <td id="LC606" class="blob-code js-file-line">     &quot;metadata&quot;: {},</td>
      </tr>
      <tr>
        <td id="L607" class="blob-num js-line-number" data-line-number="607"></td>
        <td id="LC607" class="blob-code js-file-line">     &quot;source&quot;: [</td>
      </tr>
      <tr>
        <td id="L608" class="blob-num js-line-number" data-line-number="608"></td>
        <td id="LC608" class="blob-code js-file-line">      &quot;or use the `.iloc` method, which stands for \&quot;integer location\&quot; since we are looking up the row based on its integer index.&quot;</td>
      </tr>
      <tr>
        <td id="L609" class="blob-num js-line-number" data-line-number="609"></td>
        <td id="LC609" class="blob-code js-file-line">     ]</td>
      </tr>
      <tr>
        <td id="L610" class="blob-num js-line-number" data-line-number="610"></td>
        <td id="LC610" class="blob-code js-file-line">    },</td>
      </tr>
      <tr>
        <td id="L611" class="blob-num js-line-number" data-line-number="611"></td>
        <td id="LC611" class="blob-code js-file-line">    {</td>
      </tr>
      <tr>
        <td id="L612" class="blob-num js-line-number" data-line-number="612"></td>
        <td id="LC612" class="blob-code js-file-line">     &quot;cell_type&quot;: &quot;code&quot;,</td>
      </tr>
      <tr>
        <td id="L613" class="blob-num js-line-number" data-line-number="613"></td>
        <td id="LC613" class="blob-code js-file-line">     &quot;collapsed&quot;: false,</td>
      </tr>
      <tr>
        <td id="L614" class="blob-num js-line-number" data-line-number="614"></td>
        <td id="LC614" class="blob-code js-file-line">     &quot;input&quot;: [</td>
      </tr>
      <tr>
        <td id="L615" class="blob-num js-line-number" data-line-number="615"></td>
        <td id="LC615" class="blob-code js-file-line">      &quot;print data.iloc[1]&quot;</td>
      </tr>
      <tr>
        <td id="L616" class="blob-num js-line-number" data-line-number="616"></td>
        <td id="LC616" class="blob-code js-file-line">     ],</td>
      </tr>
      <tr>
        <td id="L617" class="blob-num js-line-number" data-line-number="617"></td>
        <td id="LC617" class="blob-code js-file-line">     &quot;language&quot;: &quot;python&quot;,</td>
      </tr>
      <tr>
        <td id="L618" class="blob-num js-line-number" data-line-number="618"></td>
        <td id="LC618" class="blob-code js-file-line">     &quot;metadata&quot;: {},</td>
      </tr>
      <tr>
        <td id="L619" class="blob-num js-line-number" data-line-number="619"></td>
        <td id="LC619" class="blob-code js-file-line">     &quot;outputs&quot;: [</td>
      </tr>
      <tr>
        <td id="L620" class="blob-num js-line-number" data-line-number="620"></td>
        <td id="LC620" class="blob-code js-file-line">      {</td>
      </tr>
      <tr>
        <td id="L621" class="blob-num js-line-number" data-line-number="621"></td>
        <td id="LC621" class="blob-code js-file-line">       &quot;output_type&quot;: &quot;stream&quot;,</td>
      </tr>
      <tr>
        <td id="L622" class="blob-num js-line-number" data-line-number="622"></td>
        <td id="LC622" class="blob-code js-file-line">       &quot;stream&quot;: &quot;stdout&quot;,</td>
      </tr>
      <tr>
        <td id="L623" class="blob-num js-line-number" data-line-number="623"></td>
        <td id="LC623" class="blob-code js-file-line">       &quot;text&quot;: [</td>
      </tr>
      <tr>
        <td id="L624" class="blob-num js-line-number" data-line-number="624"></td>
        <td id="LC624" class="blob-code js-file-line">        &quot;year           2002\n&quot;,</td>
      </tr>
      <tr>
        <td id="L625" class="blob-num js-line-number" data-line-number="625"></td>
        <td id="LC625" class="blob-code js-file-line">        &quot;temperature      72\n&quot;,</td>
      </tr>
      <tr>
        <td id="L626" class="blob-num js-line-number" data-line-number="626"></td>
        <td id="LC626" class="blob-code js-file-line">        &quot;rainfall        103\n&quot;,</td>
      </tr>
      <tr>
        <td id="L627" class="blob-num js-line-number" data-line-number="627"></td>
        <td id="LC627" class="blob-code js-file-line">        &quot;mosquitos       105\n&quot;,</td>
      </tr>
      <tr>
        <td id="L628" class="blob-num js-line-number" data-line-number="628"></td>
        <td id="LC628" class="blob-code js-file-line">        &quot;Name: 1, dtype: int64\n&quot;</td>
      </tr>
      <tr>
        <td id="L629" class="blob-num js-line-number" data-line-number="629"></td>
        <td id="LC629" class="blob-code js-file-line">       ]</td>
      </tr>
      <tr>
        <td id="L630" class="blob-num js-line-number" data-line-number="630"></td>
        <td id="LC630" class="blob-code js-file-line">      }</td>
      </tr>
      <tr>
        <td id="L631" class="blob-num js-line-number" data-line-number="631"></td>
        <td id="LC631" class="blob-code js-file-line">     ],</td>
      </tr>
      <tr>
        <td id="L632" class="blob-num js-line-number" data-line-number="632"></td>
        <td id="LC632" class="blob-code js-file-line">     &quot;prompt_number&quot;: 12</td>
      </tr>
      <tr>
        <td id="L633" class="blob-num js-line-number" data-line-number="633"></td>
        <td id="LC633" class="blob-code js-file-line">    },</td>
      </tr>
      <tr>
        <td id="L634" class="blob-num js-line-number" data-line-number="634"></td>
        <td id="LC634" class="blob-code js-file-line">    {</td>
      </tr>
      <tr>
        <td id="L635" class="blob-num js-line-number" data-line-number="635"></td>
        <td id="LC635" class="blob-code js-file-line">     &quot;cell_type&quot;: &quot;markdown&quot;,</td>
      </tr>
      <tr>
        <td id="L636" class="blob-num js-line-number" data-line-number="636"></td>
        <td id="LC636" class="blob-code js-file-line">     &quot;metadata&quot;: {},</td>
      </tr>
      <tr>
        <td id="L637" class="blob-num js-line-number" data-line-number="637"></td>
        <td id="LC637" class="blob-code js-file-line">     &quot;source&quot;: [</td>
      </tr>
      <tr>
        <td id="L638" class="blob-num js-line-number" data-line-number="638"></td>
        <td id="LC638" class="blob-code js-file-line">      &quot;We can also use this same syntax for getting larger subsets of rows:&quot;</td>
      </tr>
      <tr>
        <td id="L639" class="blob-num js-line-number" data-line-number="639"></td>
        <td id="LC639" class="blob-code js-file-line">     ]</td>
      </tr>
      <tr>
        <td id="L640" class="blob-num js-line-number" data-line-number="640"></td>
        <td id="LC640" class="blob-code js-file-line">    },</td>
      </tr>
      <tr>
        <td id="L641" class="blob-num js-line-number" data-line-number="641"></td>
        <td id="LC641" class="blob-code js-file-line">    {</td>
      </tr>
      <tr>
        <td id="L642" class="blob-num js-line-number" data-line-number="642"></td>
        <td id="LC642" class="blob-code js-file-line">     &quot;cell_type&quot;: &quot;code&quot;,</td>
      </tr>
      <tr>
        <td id="L643" class="blob-num js-line-number" data-line-number="643"></td>
        <td id="LC643" class="blob-code js-file-line">     &quot;collapsed&quot;: false,</td>
      </tr>
      <tr>
        <td id="L644" class="blob-num js-line-number" data-line-number="644"></td>
        <td id="LC644" class="blob-code js-file-line">     &quot;input&quot;: [</td>
      </tr>
      <tr>
        <td id="L645" class="blob-num js-line-number" data-line-number="645"></td>
        <td id="LC645" class="blob-code js-file-line">      &quot;print data.iloc[1:3]&quot;</td>
      </tr>
      <tr>
        <td id="L646" class="blob-num js-line-number" data-line-number="646"></td>
        <td id="LC646" class="blob-code js-file-line">     ],</td>
      </tr>
      <tr>
        <td id="L647" class="blob-num js-line-number" data-line-number="647"></td>
        <td id="LC647" class="blob-code js-file-line">     &quot;language&quot;: &quot;python&quot;,</td>
      </tr>
      <tr>
        <td id="L648" class="blob-num js-line-number" data-line-number="648"></td>
        <td id="LC648" class="blob-code js-file-line">     &quot;metadata&quot;: {},</td>
      </tr>
      <tr>
        <td id="L649" class="blob-num js-line-number" data-line-number="649"></td>
        <td id="LC649" class="blob-code js-file-line">     &quot;outputs&quot;: [</td>
      </tr>
      <tr>
        <td id="L650" class="blob-num js-line-number" data-line-number="650"></td>
        <td id="LC650" class="blob-code js-file-line">      {</td>
      </tr>
      <tr>
        <td id="L651" class="blob-num js-line-number" data-line-number="651"></td>
        <td id="LC651" class="blob-code js-file-line">       &quot;output_type&quot;: &quot;stream&quot;,</td>
      </tr>
      <tr>
        <td id="L652" class="blob-num js-line-number" data-line-number="652"></td>
        <td id="LC652" class="blob-code js-file-line">       &quot;stream&quot;: &quot;stdout&quot;,</td>
      </tr>
      <tr>
        <td id="L653" class="blob-num js-line-number" data-line-number="653"></td>
        <td id="LC653" class="blob-code js-file-line">       &quot;text&quot;: [</td>
      </tr>
      <tr>
        <td id="L654" class="blob-num js-line-number" data-line-number="654"></td>
        <td id="LC654" class="blob-code js-file-line">        &quot;   year  temperature  rainfall  mosquitos\n&quot;,</td>
      </tr>
      <tr>
        <td id="L655" class="blob-num js-line-number" data-line-number="655"></td>
        <td id="LC655" class="blob-code js-file-line">        &quot;1  2002           72       103        105\n&quot;,</td>
      </tr>
      <tr>
        <td id="L656" class="blob-num js-line-number" data-line-number="656"></td>
        <td id="LC656" class="blob-code js-file-line">        &quot;2  2003           77       176        166\n&quot;</td>
      </tr>
      <tr>
        <td id="L657" class="blob-num js-line-number" data-line-number="657"></td>
        <td id="LC657" class="blob-code js-file-line">       ]</td>
      </tr>
      <tr>
        <td id="L658" class="blob-num js-line-number" data-line-number="658"></td>
        <td id="LC658" class="blob-code js-file-line">      }</td>
      </tr>
      <tr>
        <td id="L659" class="blob-num js-line-number" data-line-number="659"></td>
        <td id="LC659" class="blob-code js-file-line">     ],</td>
      </tr>
      <tr>
        <td id="L660" class="blob-num js-line-number" data-line-number="660"></td>
        <td id="LC660" class="blob-code js-file-line">     &quot;prompt_number&quot;: 13</td>
      </tr>
      <tr>
        <td id="L661" class="blob-num js-line-number" data-line-number="661"></td>
        <td id="LC661" class="blob-code js-file-line">    },</td>
      </tr>
      <tr>
        <td id="L662" class="blob-num js-line-number" data-line-number="662"></td>
        <td id="LC662" class="blob-code js-file-line">    {</td>
      </tr>
      <tr>
        <td id="L663" class="blob-num js-line-number" data-line-number="663"></td>
        <td id="LC663" class="blob-code js-file-line">     &quot;cell_type&quot;: &quot;markdown&quot;,</td>
      </tr>
      <tr>
        <td id="L664" class="blob-num js-line-number" data-line-number="664"></td>
        <td id="LC664" class="blob-code js-file-line">     &quot;metadata&quot;: {},</td>
      </tr>
      <tr>
        <td id="L665" class="blob-num js-line-number" data-line-number="665"></td>
        <td id="LC665" class="blob-code js-file-line">     &quot;source&quot;: [</td>
      </tr>
      <tr>
        <td id="L666" class="blob-num js-line-number" data-line-number="666"></td>
        <td id="LC666" class="blob-code js-file-line">      &quot;We can also subset the data based on the value of other rows:&quot;</td>
      </tr>
      <tr>
        <td id="L667" class="blob-num js-line-number" data-line-number="667"></td>
        <td id="LC667" class="blob-code js-file-line">     ]</td>
      </tr>
      <tr>
        <td id="L668" class="blob-num js-line-number" data-line-number="668"></td>
        <td id="LC668" class="blob-code js-file-line">    },</td>
      </tr>
      <tr>
        <td id="L669" class="blob-num js-line-number" data-line-number="669"></td>
        <td id="LC669" class="blob-code js-file-line">    {</td>
      </tr>
      <tr>
        <td id="L670" class="blob-num js-line-number" data-line-number="670"></td>
        <td id="LC670" class="blob-code js-file-line">     &quot;cell_type&quot;: &quot;code&quot;,</td>
      </tr>
      <tr>
        <td id="L671" class="blob-num js-line-number" data-line-number="671"></td>
        <td id="LC671" class="blob-code js-file-line">     &quot;collapsed&quot;: false,</td>
      </tr>
      <tr>
        <td id="L672" class="blob-num js-line-number" data-line-number="672"></td>
        <td id="LC672" class="blob-code js-file-line">     &quot;input&quot;: [</td>
      </tr>
      <tr>
        <td id="L673" class="blob-num js-line-number" data-line-number="673"></td>
        <td id="LC673" class="blob-code js-file-line">      &quot;print data[&#39;temperature&#39;][data[&#39;year&#39;] &gt; 2005]&quot;</td>
      </tr>
      <tr>
        <td id="L674" class="blob-num js-line-number" data-line-number="674"></td>
        <td id="LC674" class="blob-code js-file-line">     ],</td>
      </tr>
      <tr>
        <td id="L675" class="blob-num js-line-number" data-line-number="675"></td>
        <td id="LC675" class="blob-code js-file-line">     &quot;language&quot;: &quot;python&quot;,</td>
      </tr>
      <tr>
        <td id="L676" class="blob-num js-line-number" data-line-number="676"></td>
        <td id="LC676" class="blob-code js-file-line">     &quot;metadata&quot;: {},</td>
      </tr>
      <tr>
        <td id="L677" class="blob-num js-line-number" data-line-number="677"></td>
        <td id="LC677" class="blob-code js-file-line">     &quot;outputs&quot;: [</td>
      </tr>
      <tr>
        <td id="L678" class="blob-num js-line-number" data-line-number="678"></td>
        <td id="LC678" class="blob-code js-file-line">      {</td>
      </tr>
      <tr>
        <td id="L679" class="blob-num js-line-number" data-line-number="679"></td>
        <td id="LC679" class="blob-code js-file-line">       &quot;output_type&quot;: &quot;stream&quot;,</td>
      </tr>
      <tr>
        <td id="L680" class="blob-num js-line-number" data-line-number="680"></td>
        <td id="LC680" class="blob-code js-file-line">       &quot;stream&quot;: &quot;stdout&quot;,</td>
      </tr>
      <tr>
        <td id="L681" class="blob-num js-line-number" data-line-number="681"></td>
        <td id="LC681" class="blob-code js-file-line">       &quot;text&quot;: [</td>
      </tr>
      <tr>
        <td id="L682" class="blob-num js-line-number" data-line-number="682"></td>
        <td id="LC682" class="blob-code js-file-line">        &quot;5    89\n&quot;,</td>
      </tr>
      <tr>
        <td id="L683" class="blob-num js-line-number" data-line-number="683"></td>
        <td id="LC683" class="blob-code js-file-line">        &quot;6    71\n&quot;,</td>
      </tr>
      <tr>
        <td id="L684" class="blob-num js-line-number" data-line-number="684"></td>
        <td id="LC684" class="blob-code js-file-line">        &quot;7    88\n&quot;,</td>
      </tr>
      <tr>
        <td id="L685" class="blob-num js-line-number" data-line-number="685"></td>
        <td id="LC685" class="blob-code js-file-line">        &quot;8    85\n&quot;,</td>
      </tr>
      <tr>
        <td id="L686" class="blob-num js-line-number" data-line-number="686"></td>
        <td id="LC686" class="blob-code js-file-line">        &quot;9    75\n&quot;,</td>
      </tr>
      <tr>
        <td id="L687" class="blob-num js-line-number" data-line-number="687"></td>
        <td id="LC687" class="blob-code js-file-line">        &quot;Name: temperature, dtype: int64\n&quot;</td>
      </tr>
      <tr>
        <td id="L688" class="blob-num js-line-number" data-line-number="688"></td>
        <td id="LC688" class="blob-code js-file-line">       ]</td>
      </tr>
      <tr>
        <td id="L689" class="blob-num js-line-number" data-line-number="689"></td>
        <td id="LC689" class="blob-code js-file-line">      }</td>
      </tr>
      <tr>
        <td id="L690" class="blob-num js-line-number" data-line-number="690"></td>
        <td id="LC690" class="blob-code js-file-line">     ],</td>
      </tr>
      <tr>
        <td id="L691" class="blob-num js-line-number" data-line-number="691"></td>
        <td id="LC691" class="blob-code js-file-line">     &quot;prompt_number&quot;: 14</td>
      </tr>
      <tr>
        <td id="L692" class="blob-num js-line-number" data-line-number="692"></td>
        <td id="LC692" class="blob-code js-file-line">    },</td>
      </tr>
      <tr>
        <td id="L693" class="blob-num js-line-number" data-line-number="693"></td>
        <td id="LC693" class="blob-code js-file-line">    {</td>
      </tr>
      <tr>
        <td id="L694" class="blob-num js-line-number" data-line-number="694"></td>
        <td id="LC694" class="blob-code js-file-line">     &quot;cell_type&quot;: &quot;markdown&quot;,</td>
      </tr>
      <tr>
        <td id="L695" class="blob-num js-line-number" data-line-number="695"></td>
        <td id="LC695" class="blob-code js-file-line">     &quot;metadata&quot;: {},</td>
      </tr>
      <tr>
        <td id="L696" class="blob-num js-line-number" data-line-number="696"></td>
        <td id="LC696" class="blob-code js-file-line">     &quot;source&quot;: [</td>
      </tr>
      <tr>
        <td id="L697" class="blob-num js-line-number" data-line-number="697"></td>
        <td id="LC697" class="blob-code js-file-line">      &quot;Data frames also know how to perform common mathematical operations on their values. If we want to find the average value for each variable, we can just ask the data frame for its mean values&quot;</td>
      </tr>
      <tr>
        <td id="L698" class="blob-num js-line-number" data-line-number="698"></td>
        <td id="LC698" class="blob-code js-file-line">     ]</td>
      </tr>
      <tr>
        <td id="L699" class="blob-num js-line-number" data-line-number="699"></td>
        <td id="LC699" class="blob-code js-file-line">    },</td>
      </tr>
      <tr>
        <td id="L700" class="blob-num js-line-number" data-line-number="700"></td>
        <td id="LC700" class="blob-code js-file-line">    {</td>
      </tr>
      <tr>
        <td id="L701" class="blob-num js-line-number" data-line-number="701"></td>
        <td id="LC701" class="blob-code js-file-line">     &quot;cell_type&quot;: &quot;code&quot;,</td>
      </tr>
      <tr>
        <td id="L702" class="blob-num js-line-number" data-line-number="702"></td>
        <td id="LC702" class="blob-code js-file-line">     &quot;collapsed&quot;: false,</td>
      </tr>
      <tr>
        <td id="L703" class="blob-num js-line-number" data-line-number="703"></td>
        <td id="LC703" class="blob-code js-file-line">     &quot;input&quot;: [</td>
      </tr>
      <tr>
        <td id="L704" class="blob-num js-line-number" data-line-number="704"></td>
        <td id="LC704" class="blob-code js-file-line">      &quot;print data.mean()&quot;</td>
      </tr>
      <tr>
        <td id="L705" class="blob-num js-line-number" data-line-number="705"></td>
        <td id="LC705" class="blob-code js-file-line">     ],</td>
      </tr>
      <tr>
        <td id="L706" class="blob-num js-line-number" data-line-number="706"></td>
        <td id="LC706" class="blob-code js-file-line">     &quot;language&quot;: &quot;python&quot;,</td>
      </tr>
      <tr>
        <td id="L707" class="blob-num js-line-number" data-line-number="707"></td>
        <td id="LC707" class="blob-code js-file-line">     &quot;metadata&quot;: {},</td>
      </tr>
      <tr>
        <td id="L708" class="blob-num js-line-number" data-line-number="708"></td>
        <td id="LC708" class="blob-code js-file-line">     &quot;outputs&quot;: [</td>
      </tr>
      <tr>
        <td id="L709" class="blob-num js-line-number" data-line-number="709"></td>
        <td id="LC709" class="blob-code js-file-line">      {</td>
      </tr>
      <tr>
        <td id="L710" class="blob-num js-line-number" data-line-number="710"></td>
        <td id="LC710" class="blob-code js-file-line">       &quot;output_type&quot;: &quot;stream&quot;,</td>
      </tr>
      <tr>
        <td id="L711" class="blob-num js-line-number" data-line-number="711"></td>
        <td id="LC711" class="blob-code js-file-line">       &quot;stream&quot;: &quot;stdout&quot;,</td>
      </tr>
      <tr>
        <td id="L712" class="blob-num js-line-number" data-line-number="712"></td>
        <td id="LC712" class="blob-code js-file-line">       &quot;text&quot;: [</td>
      </tr>
      <tr>
        <td id="L713" class="blob-num js-line-number" data-line-number="713"></td>
        <td id="LC713" class="blob-code js-file-line">        &quot;year           2005.5\n&quot;,</td>
      </tr>
      <tr>
        <td id="L714" class="blob-num js-line-number" data-line-number="714"></td>
        <td id="LC714" class="blob-code js-file-line">        &quot;temperature      82.1\n&quot;,</td>
      </tr>
      <tr>
        <td id="L715" class="blob-num js-line-number" data-line-number="715"></td>
        <td id="LC715" class="blob-code js-file-line">        &quot;rainfall        187.1\n&quot;,</td>
      </tr>
      <tr>
        <td id="L716" class="blob-num js-line-number" data-line-number="716"></td>
        <td id="LC716" class="blob-code js-file-line">        &quot;mosquitos       171.4\n&quot;,</td>
      </tr>
      <tr>
        <td id="L717" class="blob-num js-line-number" data-line-number="717"></td>
        <td id="LC717" class="blob-code js-file-line">        &quot;dtype: float64\n&quot;</td>
      </tr>
      <tr>
        <td id="L718" class="blob-num js-line-number" data-line-number="718"></td>
        <td id="LC718" class="blob-code js-file-line">       ]</td>
      </tr>
      <tr>
        <td id="L719" class="blob-num js-line-number" data-line-number="719"></td>
        <td id="LC719" class="blob-code js-file-line">      }</td>
      </tr>
      <tr>
        <td id="L720" class="blob-num js-line-number" data-line-number="720"></td>
        <td id="LC720" class="blob-code js-file-line">     ],</td>
      </tr>
      <tr>
        <td id="L721" class="blob-num js-line-number" data-line-number="721"></td>
        <td id="LC721" class="blob-code js-file-line">     &quot;prompt_number&quot;: 15</td>
      </tr>
      <tr>
        <td id="L722" class="blob-num js-line-number" data-line-number="722"></td>
        <td id="LC722" class="blob-code js-file-line">    },</td>
      </tr>
      <tr>
        <td id="L723" class="blob-num js-line-number" data-line-number="723"></td>
        <td id="LC723" class="blob-code js-file-line">    {</td>
      </tr>
      <tr>
        <td id="L724" class="blob-num js-line-number" data-line-number="724"></td>
        <td id="LC724" class="blob-code js-file-line">     &quot;cell_type&quot;: &quot;markdown&quot;,</td>
      </tr>
      <tr>
        <td id="L725" class="blob-num js-line-number" data-line-number="725"></td>
        <td id="LC725" class="blob-code js-file-line">     &quot;metadata&quot;: {},</td>
      </tr>
      <tr>
        <td id="L726" class="blob-num js-line-number" data-line-number="726"></td>
        <td id="LC726" class="blob-code js-file-line">     &quot;source&quot;: [</td>
      </tr>
      <tr>
        <td id="L727" class="blob-num js-line-number" data-line-number="727"></td>
        <td id="LC727" class="blob-code js-file-line">      &quot;Data frames have lots of useful methods:&quot;</td>
      </tr>
      <tr>
        <td id="L728" class="blob-num js-line-number" data-line-number="728"></td>
        <td id="LC728" class="blob-code js-file-line">     ]</td>
      </tr>
      <tr>
        <td id="L729" class="blob-num js-line-number" data-line-number="729"></td>
        <td id="LC729" class="blob-code js-file-line">    },</td>
      </tr>
      <tr>
        <td id="L730" class="blob-num js-line-number" data-line-number="730"></td>
        <td id="LC730" class="blob-code js-file-line">    {</td>
      </tr>
      <tr>
        <td id="L731" class="blob-num js-line-number" data-line-number="731"></td>
        <td id="LC731" class="blob-code js-file-line">     &quot;cell_type&quot;: &quot;code&quot;,</td>
      </tr>
      <tr>
        <td id="L732" class="blob-num js-line-number" data-line-number="732"></td>
        <td id="LC732" class="blob-code js-file-line">     &quot;collapsed&quot;: false,</td>
      </tr>
      <tr>
        <td id="L733" class="blob-num js-line-number" data-line-number="733"></td>
        <td id="LC733" class="blob-code js-file-line">     &quot;input&quot;: [</td>
      </tr>
      <tr>
        <td id="L734" class="blob-num js-line-number" data-line-number="734"></td>
        <td id="LC734" class="blob-code js-file-line">      &quot;print data.max()&quot;</td>
      </tr>
      <tr>
        <td id="L735" class="blob-num js-line-number" data-line-number="735"></td>
        <td id="LC735" class="blob-code js-file-line">     ],</td>
      </tr>
      <tr>
        <td id="L736" class="blob-num js-line-number" data-line-number="736"></td>
        <td id="LC736" class="blob-code js-file-line">     &quot;language&quot;: &quot;python&quot;,</td>
      </tr>
      <tr>
        <td id="L737" class="blob-num js-line-number" data-line-number="737"></td>
        <td id="LC737" class="blob-code js-file-line">     &quot;metadata&quot;: {},</td>
      </tr>
      <tr>
        <td id="L738" class="blob-num js-line-number" data-line-number="738"></td>
        <td id="LC738" class="blob-code js-file-line">     &quot;outputs&quot;: [</td>
      </tr>
      <tr>
        <td id="L739" class="blob-num js-line-number" data-line-number="739"></td>
        <td id="LC739" class="blob-code js-file-line">      {</td>
      </tr>
      <tr>
        <td id="L740" class="blob-num js-line-number" data-line-number="740"></td>
        <td id="LC740" class="blob-code js-file-line">       &quot;output_type&quot;: &quot;stream&quot;,</td>
      </tr>
      <tr>
        <td id="L741" class="blob-num js-line-number" data-line-number="741"></td>
        <td id="LC741" class="blob-code js-file-line">       &quot;stream&quot;: &quot;stdout&quot;,</td>
      </tr>
      <tr>
        <td id="L742" class="blob-num js-line-number" data-line-number="742"></td>
        <td id="LC742" class="blob-code js-file-line">       &quot;text&quot;: [</td>
      </tr>
      <tr>
        <td id="L743" class="blob-num js-line-number" data-line-number="743"></td>
        <td id="LC743" class="blob-code js-file-line">        &quot;year           2010\n&quot;,</td>
      </tr>
      <tr>
        <td id="L744" class="blob-num js-line-number" data-line-number="744"></td>
        <td id="LC744" class="blob-code js-file-line">        &quot;temperature      89\n&quot;,</td>
      </tr>
      <tr>
        <td id="L745" class="blob-num js-line-number" data-line-number="745"></td>
        <td id="LC745" class="blob-code js-file-line">        &quot;rainfall        283\n&quot;,</td>
      </tr>
      <tr>
        <td id="L746" class="blob-num js-line-number" data-line-number="746"></td>
        <td id="LC746" class="blob-code js-file-line">        &quot;mosquitos       242\n&quot;,</td>
      </tr>
      <tr>
        <td id="L747" class="blob-num js-line-number" data-line-number="747"></td>
        <td id="LC747" class="blob-code js-file-line">        &quot;dtype: int64\n&quot;</td>
      </tr>
      <tr>
        <td id="L748" class="blob-num js-line-number" data-line-number="748"></td>
        <td id="LC748" class="blob-code js-file-line">       ]</td>
      </tr>
      <tr>
        <td id="L749" class="blob-num js-line-number" data-line-number="749"></td>
        <td id="LC749" class="blob-code js-file-line">      }</td>
      </tr>
      <tr>
        <td id="L750" class="blob-num js-line-number" data-line-number="750"></td>
        <td id="LC750" class="blob-code js-file-line">     ],</td>
      </tr>
      <tr>
        <td id="L751" class="blob-num js-line-number" data-line-number="751"></td>
        <td id="LC751" class="blob-code js-file-line">     &quot;prompt_number&quot;: 16</td>
      </tr>
      <tr>
        <td id="L752" class="blob-num js-line-number" data-line-number="752"></td>
        <td id="LC752" class="blob-code js-file-line">    },</td>
      </tr>
      <tr>
        <td id="L753" class="blob-num js-line-number" data-line-number="753"></td>
        <td id="LC753" class="blob-code js-file-line">    {</td>
      </tr>
      <tr>
        <td id="L754" class="blob-num js-line-number" data-line-number="754"></td>
        <td id="LC754" class="blob-code js-file-line">     &quot;cell_type&quot;: &quot;code&quot;,</td>
      </tr>
      <tr>
        <td id="L755" class="blob-num js-line-number" data-line-number="755"></td>
        <td id="LC755" class="blob-code js-file-line">     &quot;collapsed&quot;: false,</td>
      </tr>
      <tr>
        <td id="L756" class="blob-num js-line-number" data-line-number="756"></td>
        <td id="LC756" class="blob-code js-file-line">     &quot;input&quot;: [</td>
      </tr>
      <tr>
        <td id="L757" class="blob-num js-line-number" data-line-number="757"></td>
        <td id="LC757" class="blob-code js-file-line">      &quot;print data[&#39;temperature&#39;].min()&quot;</td>
      </tr>
      <tr>
        <td id="L758" class="blob-num js-line-number" data-line-number="758"></td>
        <td id="LC758" class="blob-code js-file-line">     ],</td>
      </tr>
      <tr>
        <td id="L759" class="blob-num js-line-number" data-line-number="759"></td>
        <td id="LC759" class="blob-code js-file-line">     &quot;language&quot;: &quot;python&quot;,</td>
      </tr>
      <tr>
        <td id="L760" class="blob-num js-line-number" data-line-number="760"></td>
        <td id="LC760" class="blob-code js-file-line">     &quot;metadata&quot;: {},</td>
      </tr>
      <tr>
        <td id="L761" class="blob-num js-line-number" data-line-number="761"></td>
        <td id="LC761" class="blob-code js-file-line">     &quot;outputs&quot;: [</td>
      </tr>
      <tr>
        <td id="L762" class="blob-num js-line-number" data-line-number="762"></td>
        <td id="LC762" class="blob-code js-file-line">      {</td>
      </tr>
      <tr>
        <td id="L763" class="blob-num js-line-number" data-line-number="763"></td>
        <td id="LC763" class="blob-code js-file-line">       &quot;output_type&quot;: &quot;stream&quot;,</td>
      </tr>
      <tr>
        <td id="L764" class="blob-num js-line-number" data-line-number="764"></td>
        <td id="LC764" class="blob-code js-file-line">       &quot;stream&quot;: &quot;stdout&quot;,</td>
      </tr>
      <tr>
        <td id="L765" class="blob-num js-line-number" data-line-number="765"></td>
        <td id="LC765" class="blob-code js-file-line">       &quot;text&quot;: [</td>
      </tr>
      <tr>
        <td id="L766" class="blob-num js-line-number" data-line-number="766"></td>
        <td id="LC766" class="blob-code js-file-line">        &quot;71\n&quot;</td>
      </tr>
      <tr>
        <td id="L767" class="blob-num js-line-number" data-line-number="767"></td>
        <td id="LC767" class="blob-code js-file-line">       ]</td>
      </tr>
      <tr>
        <td id="L768" class="blob-num js-line-number" data-line-number="768"></td>
        <td id="LC768" class="blob-code js-file-line">      }</td>
      </tr>
      <tr>
        <td id="L769" class="blob-num js-line-number" data-line-number="769"></td>
        <td id="LC769" class="blob-code js-file-line">     ],</td>
      </tr>
      <tr>
        <td id="L770" class="blob-num js-line-number" data-line-number="770"></td>
        <td id="LC770" class="blob-code js-file-line">     &quot;prompt_number&quot;: 17</td>
      </tr>
      <tr>
        <td id="L771" class="blob-num js-line-number" data-line-number="771"></td>
        <td id="LC771" class="blob-code js-file-line">    },</td>
      </tr>
      <tr>
        <td id="L772" class="blob-num js-line-number" data-line-number="772"></td>
        <td id="LC772" class="blob-code js-file-line">    {</td>
      </tr>
      <tr>
        <td id="L773" class="blob-num js-line-number" data-line-number="773"></td>
        <td id="LC773" class="blob-code js-file-line">     &quot;cell_type&quot;: &quot;code&quot;,</td>
      </tr>
      <tr>
        <td id="L774" class="blob-num js-line-number" data-line-number="774"></td>
        <td id="LC774" class="blob-code js-file-line">     &quot;collapsed&quot;: false,</td>
      </tr>
      <tr>
        <td id="L775" class="blob-num js-line-number" data-line-number="775"></td>
        <td id="LC775" class="blob-code js-file-line">     &quot;input&quot;: [</td>
      </tr>
      <tr>
        <td id="L776" class="blob-num js-line-number" data-line-number="776"></td>
        <td id="LC776" class="blob-code js-file-line">      &quot;print data[&#39;mosquitos&#39;][1:3].std()&quot;</td>
      </tr>
      <tr>
        <td id="L777" class="blob-num js-line-number" data-line-number="777"></td>
        <td id="LC777" class="blob-code js-file-line">     ],</td>
      </tr>
      <tr>
        <td id="L778" class="blob-num js-line-number" data-line-number="778"></td>
        <td id="LC778" class="blob-code js-file-line">     &quot;language&quot;: &quot;python&quot;,</td>
      </tr>
      <tr>
        <td id="L779" class="blob-num js-line-number" data-line-number="779"></td>
        <td id="LC779" class="blob-code js-file-line">     &quot;metadata&quot;: {},</td>
      </tr>
      <tr>
        <td id="L780" class="blob-num js-line-number" data-line-number="780"></td>
        <td id="LC780" class="blob-code js-file-line">     &quot;outputs&quot;: [</td>
      </tr>
      <tr>
        <td id="L781" class="blob-num js-line-number" data-line-number="781"></td>
        <td id="LC781" class="blob-code js-file-line">      {</td>
      </tr>
      <tr>
        <td id="L782" class="blob-num js-line-number" data-line-number="782"></td>
        <td id="LC782" class="blob-code js-file-line">       &quot;output_type&quot;: &quot;stream&quot;,</td>
      </tr>
      <tr>
        <td id="L783" class="blob-num js-line-number" data-line-number="783"></td>
        <td id="LC783" class="blob-code js-file-line">       &quot;stream&quot;: &quot;stdout&quot;,</td>
      </tr>
      <tr>
        <td id="L784" class="blob-num js-line-number" data-line-number="784"></td>
        <td id="LC784" class="blob-code js-file-line">       &quot;text&quot;: [</td>
      </tr>
      <tr>
        <td id="L785" class="blob-num js-line-number" data-line-number="785"></td>
        <td id="LC785" class="blob-code js-file-line">        &quot;43.1335136524\n&quot;</td>
      </tr>
      <tr>
        <td id="L786" class="blob-num js-line-number" data-line-number="786"></td>
        <td id="LC786" class="blob-code js-file-line">       ]</td>
      </tr>
      <tr>
        <td id="L787" class="blob-num js-line-number" data-line-number="787"></td>
        <td id="LC787" class="blob-code js-file-line">      }</td>
      </tr>
      <tr>
        <td id="L788" class="blob-num js-line-number" data-line-number="788"></td>
        <td id="LC788" class="blob-code js-file-line">     ],</td>
      </tr>
      <tr>
        <td id="L789" class="blob-num js-line-number" data-line-number="789"></td>
        <td id="LC789" class="blob-code js-file-line">     &quot;prompt_number&quot;: 18</td>
      </tr>
      <tr>
        <td id="L790" class="blob-num js-line-number" data-line-number="790"></td>
        <td id="LC790" class="blob-code js-file-line">    },</td>
      </tr>
      <tr>
        <td id="L791" class="blob-num js-line-number" data-line-number="791"></td>
        <td id="LC791" class="blob-code js-file-line">    {</td>
      </tr>
      <tr>
        <td id="L792" class="blob-num js-line-number" data-line-number="792"></td>
        <td id="LC792" class="blob-code js-file-line">     &quot;cell_type&quot;: &quot;heading&quot;,</td>
      </tr>
      <tr>
        <td id="L793" class="blob-num js-line-number" data-line-number="793"></td>
        <td id="LC793" class="blob-code js-file-line">     &quot;level&quot;: 3,</td>
      </tr>
      <tr>
        <td id="L794" class="blob-num js-line-number" data-line-number="794"></td>
        <td id="LC794" class="blob-code js-file-line">     &quot;metadata&quot;: {},</td>
      </tr>
      <tr>
        <td id="L795" class="blob-num js-line-number" data-line-number="795"></td>
        <td id="LC795" class="blob-code js-file-line">     &quot;source&quot;: [</td>
      </tr>
      <tr>
        <td id="L796" class="blob-num js-line-number" data-line-number="796"></td>
        <td id="LC796" class="blob-code js-file-line">      &quot;Challenge&quot;</td>
      </tr>
      <tr>
        <td id="L797" class="blob-num js-line-number" data-line-number="797"></td>
        <td id="LC797" class="blob-code js-file-line">     ]</td>
      </tr>
      <tr>
        <td id="L798" class="blob-num js-line-number" data-line-number="798"></td>
        <td id="LC798" class="blob-code js-file-line">    },</td>
      </tr>
      <tr>
        <td id="L799" class="blob-num js-line-number" data-line-number="799"></td>
        <td id="LC799" class="blob-code js-file-line">    {</td>
      </tr>
      <tr>
        <td id="L800" class="blob-num js-line-number" data-line-number="800"></td>
        <td id="LC800" class="blob-code js-file-line">     &quot;cell_type&quot;: &quot;markdown&quot;,</td>
      </tr>
      <tr>
        <td id="L801" class="blob-num js-line-number" data-line-number="801"></td>
        <td id="LC801" class="blob-code js-file-line">     &quot;metadata&quot;: {},</td>
      </tr>
      <tr>
        <td id="L802" class="blob-num js-line-number" data-line-number="802"></td>
        <td id="LC802" class="blob-code js-file-line">     &quot;source&quot;: [</td>
      </tr>
      <tr>
        <td id="L803" class="blob-num js-line-number" data-line-number="803"></td>
        <td id="LC803" class="blob-code js-file-line">      &quot;Import the data from `mosquito_data_A2.csv`, create a new variable that holds a data frame with only the weather data, and print the means and standard deviations for the weather variables.&quot;</td>
      </tr>
      <tr>
        <td id="L804" class="blob-num js-line-number" data-line-number="804"></td>
        <td id="LC804" class="blob-code js-file-line">     ]</td>
      </tr>
      <tr>
        <td id="L805" class="blob-num js-line-number" data-line-number="805"></td>
        <td id="LC805" class="blob-code js-file-line">    },</td>
      </tr>
      <tr>
        <td id="L806" class="blob-num js-line-number" data-line-number="806"></td>
        <td id="LC806" class="blob-code js-file-line">    {</td>
      </tr>
      <tr>
        <td id="L807" class="blob-num js-line-number" data-line-number="807"></td>
        <td id="LC807" class="blob-code js-file-line">     &quot;cell_type&quot;: &quot;heading&quot;,</td>
      </tr>
      <tr>
        <td id="L808" class="blob-num js-line-number" data-line-number="808"></td>
        <td id="LC808" class="blob-code js-file-line">     &quot;level&quot;: 2,</td>
      </tr>
      <tr>
        <td id="L809" class="blob-num js-line-number" data-line-number="809"></td>
        <td id="LC809" class="blob-code js-file-line">     &quot;metadata&quot;: {},</td>
      </tr>
      <tr>
        <td id="L810" class="blob-num js-line-number" data-line-number="810"></td>
        <td id="LC810" class="blob-code js-file-line">     &quot;source&quot;: [</td>
      </tr>
      <tr>
        <td id="L811" class="blob-num js-line-number" data-line-number="811"></td>
        <td id="LC811" class="blob-code js-file-line">      &quot;Loops&quot;</td>
      </tr>
      <tr>
        <td id="L812" class="blob-num js-line-number" data-line-number="812"></td>
        <td id="LC812" class="blob-code js-file-line">     ]</td>
      </tr>
      <tr>
        <td id="L813" class="blob-num js-line-number" data-line-number="813"></td>
        <td id="LC813" class="blob-code js-file-line">    },</td>
      </tr>
      <tr>
        <td id="L814" class="blob-num js-line-number" data-line-number="814"></td>
        <td id="LC814" class="blob-code js-file-line">    {</td>
      </tr>
      <tr>
        <td id="L815" class="blob-num js-line-number" data-line-number="815"></td>
        <td id="LC815" class="blob-code js-file-line">     &quot;cell_type&quot;: &quot;markdown&quot;,</td>
      </tr>
      <tr>
        <td id="L816" class="blob-num js-line-number" data-line-number="816"></td>
        <td id="LC816" class="blob-code js-file-line">     &quot;metadata&quot;: {},</td>
      </tr>
      <tr>
        <td id="L817" class="blob-num js-line-number" data-line-number="817"></td>
        <td id="LC817" class="blob-code js-file-line">     &quot;source&quot;: [</td>
      </tr>
      <tr>
        <td id="L818" class="blob-num js-line-number" data-line-number="818"></td>
        <td id="LC818" class="blob-code js-file-line">      &quot;Once we have some data we often want to be able to loop over it to perform the same operation repeatedly.\n&quot;,</td>
      </tr>
      <tr>
        <td id="L819" class="blob-num js-line-number" data-line-number="819"></td>
        <td id="LC819" class="blob-code js-file-line">      &quot;A `for` loop in Python takes the general form\n&quot;,</td>
      </tr>
      <tr>
        <td id="L820" class="blob-num js-line-number" data-line-number="820"></td>
        <td id="LC820" class="blob-code js-file-line">      &quot;\n&quot;,</td>
      </tr>
      <tr>
        <td id="L821" class="blob-num js-line-number" data-line-number="821"></td>
        <td id="LC821" class="blob-code js-file-line">      &quot;~~~\n&quot;,</td>
      </tr>
      <tr>
        <td id="L822" class="blob-num js-line-number" data-line-number="822"></td>
        <td id="LC822" class="blob-code js-file-line">      &quot;for item in list:\n&quot;,</td>
      </tr>
      <tr>
        <td id="L823" class="blob-num js-line-number" data-line-number="823"></td>
        <td id="LC823" class="blob-code js-file-line">      &quot;    do_something\n&quot;,</td>
      </tr>
      <tr>
        <td id="L824" class="blob-num js-line-number" data-line-number="824"></td>
        <td id="LC824" class="blob-code js-file-line">      &quot;~~~\n&quot;,</td>
      </tr>
      <tr>
        <td id="L825" class="blob-num js-line-number" data-line-number="825"></td>
        <td id="LC825" class="blob-code js-file-line">      &quot;\n&quot;,</td>
      </tr>
      <tr>
        <td id="L826" class="blob-num js-line-number" data-line-number="826"></td>
        <td id="LC826" class="blob-code js-file-line">      &quot;So if we want to loop over the temperatures and print out there values in degrees Celcius (instead of Farenheit) we can use:&quot;</td>
      </tr>
      <tr>
        <td id="L827" class="blob-num js-line-number" data-line-number="827"></td>
        <td id="LC827" class="blob-code js-file-line">     ]</td>
      </tr>
      <tr>
        <td id="L828" class="blob-num js-line-number" data-line-number="828"></td>
        <td id="LC828" class="blob-code js-file-line">    },</td>
      </tr>
      <tr>
        <td id="L829" class="blob-num js-line-number" data-line-number="829"></td>
        <td id="LC829" class="blob-code js-file-line">    {</td>
      </tr>
      <tr>
        <td id="L830" class="blob-num js-line-number" data-line-number="830"></td>
        <td id="LC830" class="blob-code js-file-line">     &quot;cell_type&quot;: &quot;code&quot;,</td>
      </tr>
      <tr>
        <td id="L831" class="blob-num js-line-number" data-line-number="831"></td>
        <td id="LC831" class="blob-code js-file-line">     &quot;collapsed&quot;: false,</td>
      </tr>
      <tr>
        <td id="L832" class="blob-num js-line-number" data-line-number="832"></td>
        <td id="LC832" class="blob-code js-file-line">     &quot;input&quot;: [</td>
      </tr>
      <tr>
        <td id="L833" class="blob-num js-line-number" data-line-number="833"></td>
        <td id="LC833" class="blob-code js-file-line">      &quot;temps = data[&#39;temperature&#39;]\n&quot;,</td>
      </tr>
      <tr>
        <td id="L834" class="blob-num js-line-number" data-line-number="834"></td>
        <td id="LC834" class="blob-code js-file-line">      &quot;for temp_in_f in temps:\n&quot;,</td>
      </tr>
      <tr>
        <td id="L835" class="blob-num js-line-number" data-line-number="835"></td>
        <td id="LC835" class="blob-code js-file-line">      &quot;    temp_in_c = (temp_in_f - 32) * 5 / 9.0\n&quot;,</td>
      </tr>
      <tr>
        <td id="L836" class="blob-num js-line-number" data-line-number="836"></td>
        <td id="LC836" class="blob-code js-file-line">      &quot;    print temp_in_c&quot;</td>
      </tr>
      <tr>
        <td id="L837" class="blob-num js-line-number" data-line-number="837"></td>
        <td id="LC837" class="blob-code js-file-line">     ],</td>
      </tr>
      <tr>
        <td id="L838" class="blob-num js-line-number" data-line-number="838"></td>
        <td id="LC838" class="blob-code js-file-line">     &quot;language&quot;: &quot;python&quot;,</td>
      </tr>
      <tr>
        <td id="L839" class="blob-num js-line-number" data-line-number="839"></td>
        <td id="LC839" class="blob-code js-file-line">     &quot;metadata&quot;: {},</td>
      </tr>
      <tr>
        <td id="L840" class="blob-num js-line-number" data-line-number="840"></td>
        <td id="LC840" class="blob-code js-file-line">     &quot;outputs&quot;: [</td>
      </tr>
      <tr>
        <td id="L841" class="blob-num js-line-number" data-line-number="841"></td>
        <td id="LC841" class="blob-code js-file-line">      {</td>
      </tr>
      <tr>
        <td id="L842" class="blob-num js-line-number" data-line-number="842"></td>
        <td id="LC842" class="blob-code js-file-line">       &quot;output_type&quot;: &quot;stream&quot;,</td>
      </tr>
      <tr>
        <td id="L843" class="blob-num js-line-number" data-line-number="843"></td>
        <td id="LC843" class="blob-code js-file-line">       &quot;stream&quot;: &quot;stdout&quot;,</td>
      </tr>
      <tr>
        <td id="L844" class="blob-num js-line-number" data-line-number="844"></td>
        <td id="LC844" class="blob-code js-file-line">       &quot;text&quot;: [</td>
      </tr>
      <tr>
        <td id="L845" class="blob-num js-line-number" data-line-number="845"></td>
        <td id="LC845" class="blob-code js-file-line">        &quot;30.5555555556\n&quot;,</td>
      </tr>
      <tr>
        <td id="L846" class="blob-num js-line-number" data-line-number="846"></td>
        <td id="LC846" class="blob-code js-file-line">        &quot;22.2222222222\n&quot;,</td>
      </tr>
      <tr>
        <td id="L847" class="blob-num js-line-number" data-line-number="847"></td>
        <td id="LC847" class="blob-code js-file-line">        &quot;25.0\n&quot;,</td>
      </tr>
      <tr>
        <td id="L848" class="blob-num js-line-number" data-line-number="848"></td>
        <td id="LC848" class="blob-code js-file-line">        &quot;31.6666666667\n&quot;,</td>
      </tr>
      <tr>
        <td id="L849" class="blob-num js-line-number" data-line-number="849"></td>
        <td id="LC849" class="blob-code js-file-line">        &quot;31.1111111111\n&quot;,</td>
      </tr>
      <tr>
        <td id="L850" class="blob-num js-line-number" data-line-number="850"></td>
        <td id="LC850" class="blob-code js-file-line">        &quot;31.6666666667\n&quot;,</td>
      </tr>
      <tr>
        <td id="L851" class="blob-num js-line-number" data-line-number="851"></td>
        <td id="LC851" class="blob-code js-file-line">        &quot;21.6666666667\n&quot;,</td>
      </tr>
      <tr>
        <td id="L852" class="blob-num js-line-number" data-line-number="852"></td>
        <td id="LC852" class="blob-code js-file-line">        &quot;31.1111111111\n&quot;,</td>
      </tr>
      <tr>
        <td id="L853" class="blob-num js-line-number" data-line-number="853"></td>
        <td id="LC853" class="blob-code js-file-line">        &quot;29.4444444444\n&quot;,</td>
      </tr>
      <tr>
        <td id="L854" class="blob-num js-line-number" data-line-number="854"></td>
        <td id="LC854" class="blob-code js-file-line">        &quot;23.8888888889\n&quot;</td>
      </tr>
      <tr>
        <td id="L855" class="blob-num js-line-number" data-line-number="855"></td>
        <td id="LC855" class="blob-code js-file-line">       ]</td>
      </tr>
      <tr>
        <td id="L856" class="blob-num js-line-number" data-line-number="856"></td>
        <td id="LC856" class="blob-code js-file-line">      }</td>
      </tr>
      <tr>
        <td id="L857" class="blob-num js-line-number" data-line-number="857"></td>
        <td id="LC857" class="blob-code js-file-line">     ],</td>
      </tr>
      <tr>
        <td id="L858" class="blob-num js-line-number" data-line-number="858"></td>
        <td id="LC858" class="blob-code js-file-line">     &quot;prompt_number&quot;: 19</td>
      </tr>
      <tr>
        <td id="L859" class="blob-num js-line-number" data-line-number="859"></td>
        <td id="LC859" class="blob-code js-file-line">    },</td>
      </tr>
      <tr>
        <td id="L860" class="blob-num js-line-number" data-line-number="860"></td>
        <td id="LC860" class="blob-code js-file-line">    {</td>
      </tr>
      <tr>
        <td id="L861" class="blob-num js-line-number" data-line-number="861"></td>
        <td id="LC861" class="blob-code js-file-line">     &quot;cell_type&quot;: &quot;markdown&quot;,</td>
      </tr>
      <tr>
        <td id="L862" class="blob-num js-line-number" data-line-number="862"></td>
        <td id="LC862" class="blob-code js-file-line">     &quot;metadata&quot;: {},</td>
      </tr>
      <tr>
        <td id="L863" class="blob-num js-line-number" data-line-number="863"></td>
        <td id="LC863" class="blob-code js-file-line">     &quot;source&quot;: [</td>
      </tr>
      <tr>
        <td id="L864" class="blob-num js-line-number" data-line-number="864"></td>
        <td id="LC864" class="blob-code js-file-line">      &quot;That looks good, but why did we use 9.0 instead of 9? The reason is that computers store integers and numbers with decimals as different types: integers and floating point numbers (or floats). Addition, subtraction and multiplication work on both as we&#39;d expect, but division works differently. If we divide one integer by another, we get the quotient without the remainder:&quot;</td>
      </tr>
      <tr>
        <td id="L865" class="blob-num js-line-number" data-line-number="865"></td>
        <td id="LC865" class="blob-code js-file-line">     ]</td>
      </tr>
      <tr>
        <td id="L866" class="blob-num js-line-number" data-line-number="866"></td>
        <td id="LC866" class="blob-code js-file-line">    },</td>
      </tr>
      <tr>
        <td id="L867" class="blob-num js-line-number" data-line-number="867"></td>
        <td id="LC867" class="blob-code js-file-line">    {</td>
      </tr>
      <tr>
        <td id="L868" class="blob-num js-line-number" data-line-number="868"></td>
        <td id="LC868" class="blob-code js-file-line">     &quot;cell_type&quot;: &quot;code&quot;,</td>
      </tr>
      <tr>
        <td id="L869" class="blob-num js-line-number" data-line-number="869"></td>
        <td id="LC869" class="blob-code js-file-line">     &quot;collapsed&quot;: false,</td>
      </tr>
      <tr>
        <td id="L870" class="blob-num js-line-number" data-line-number="870"></td>
        <td id="LC870" class="blob-code js-file-line">     &quot;input&quot;: [</td>
      </tr>
      <tr>
        <td id="L871" class="blob-num js-line-number" data-line-number="871"></td>
        <td id="LC871" class="blob-code js-file-line">      &quot;print &#39;10/3 is:&#39;, 10 / 3&quot;</td>
      </tr>
      <tr>
        <td id="L872" class="blob-num js-line-number" data-line-number="872"></td>
        <td id="LC872" class="blob-code js-file-line">     ],</td>
      </tr>
      <tr>
        <td id="L873" class="blob-num js-line-number" data-line-number="873"></td>
        <td id="LC873" class="blob-code js-file-line">     &quot;language&quot;: &quot;python&quot;,</td>
      </tr>
      <tr>
        <td id="L874" class="blob-num js-line-number" data-line-number="874"></td>
        <td id="LC874" class="blob-code js-file-line">     &quot;metadata&quot;: {},</td>
      </tr>
      <tr>
        <td id="L875" class="blob-num js-line-number" data-line-number="875"></td>
        <td id="LC875" class="blob-code js-file-line">     &quot;outputs&quot;: [</td>
      </tr>
      <tr>
        <td id="L876" class="blob-num js-line-number" data-line-number="876"></td>
        <td id="LC876" class="blob-code js-file-line">      {</td>
      </tr>
      <tr>
        <td id="L877" class="blob-num js-line-number" data-line-number="877"></td>
        <td id="LC877" class="blob-code js-file-line">       &quot;output_type&quot;: &quot;stream&quot;,</td>
      </tr>
      <tr>
        <td id="L878" class="blob-num js-line-number" data-line-number="878"></td>
        <td id="LC878" class="blob-code js-file-line">       &quot;stream&quot;: &quot;stdout&quot;,</td>
      </tr>
      <tr>
        <td id="L879" class="blob-num js-line-number" data-line-number="879"></td>
        <td id="LC879" class="blob-code js-file-line">       &quot;text&quot;: [</td>
      </tr>
      <tr>
        <td id="L880" class="blob-num js-line-number" data-line-number="880"></td>
        <td id="LC880" class="blob-code js-file-line">        &quot;10/3 is: 3\n&quot;</td>
      </tr>
      <tr>
        <td id="L881" class="blob-num js-line-number" data-line-number="881"></td>
        <td id="LC881" class="blob-code js-file-line">       ]</td>
      </tr>
      <tr>
        <td id="L882" class="blob-num js-line-number" data-line-number="882"></td>
        <td id="LC882" class="blob-code js-file-line">      }</td>
      </tr>
      <tr>
        <td id="L883" class="blob-num js-line-number" data-line-number="883"></td>
        <td id="LC883" class="blob-code js-file-line">     ],</td>
      </tr>
      <tr>
        <td id="L884" class="blob-num js-line-number" data-line-number="884"></td>
        <td id="LC884" class="blob-code js-file-line">     &quot;prompt_number&quot;: 20</td>
      </tr>
      <tr>
        <td id="L885" class="blob-num js-line-number" data-line-number="885"></td>
        <td id="LC885" class="blob-code js-file-line">    },</td>
      </tr>
      <tr>
        <td id="L886" class="blob-num js-line-number" data-line-number="886"></td>
        <td id="LC886" class="blob-code js-file-line">    {</td>
      </tr>
      <tr>
        <td id="L887" class="blob-num js-line-number" data-line-number="887"></td>
        <td id="LC887" class="blob-code js-file-line">     &quot;cell_type&quot;: &quot;markdown&quot;,</td>
      </tr>
      <tr>
        <td id="L888" class="blob-num js-line-number" data-line-number="888"></td>
        <td id="LC888" class="blob-code js-file-line">     &quot;metadata&quot;: {},</td>
      </tr>
      <tr>
        <td id="L889" class="blob-num js-line-number" data-line-number="889"></td>
        <td id="LC889" class="blob-code js-file-line">     &quot;source&quot;: [</td>
      </tr>
      <tr>
        <td id="L890" class="blob-num js-line-number" data-line-number="890"></td>
        <td id="LC890" class="blob-code js-file-line">      &quot;If either part of the division is a float, on the other hand, the computer creates a floating-point answer:&quot;</td>
      </tr>
      <tr>
        <td id="L891" class="blob-num js-line-number" data-line-number="891"></td>
        <td id="LC891" class="blob-code js-file-line">     ]</td>
      </tr>
      <tr>
        <td id="L892" class="blob-num js-line-number" data-line-number="892"></td>
        <td id="LC892" class="blob-code js-file-line">    },</td>
      </tr>
      <tr>
        <td id="L893" class="blob-num js-line-number" data-line-number="893"></td>
        <td id="LC893" class="blob-code js-file-line">    {</td>
      </tr>
      <tr>
        <td id="L894" class="blob-num js-line-number" data-line-number="894"></td>
        <td id="LC894" class="blob-code js-file-line">     &quot;cell_type&quot;: &quot;code&quot;,</td>
      </tr>
      <tr>
        <td id="L895" class="blob-num js-line-number" data-line-number="895"></td>
        <td id="LC895" class="blob-code js-file-line">     &quot;collapsed&quot;: false,</td>
      </tr>
      <tr>
        <td id="L896" class="blob-num js-line-number" data-line-number="896"></td>
        <td id="LC896" class="blob-code js-file-line">     &quot;input&quot;: [</td>
      </tr>
      <tr>
        <td id="L897" class="blob-num js-line-number" data-line-number="897"></td>
        <td id="LC897" class="blob-code js-file-line">      &quot;print &#39;10/3.0 is:&#39;, 10 / 3.0&quot;</td>
      </tr>
      <tr>
        <td id="L898" class="blob-num js-line-number" data-line-number="898"></td>
        <td id="LC898" class="blob-code js-file-line">     ],</td>
      </tr>
      <tr>
        <td id="L899" class="blob-num js-line-number" data-line-number="899"></td>
        <td id="LC899" class="blob-code js-file-line">     &quot;language&quot;: &quot;python&quot;,</td>
      </tr>
      <tr>
        <td id="L900" class="blob-num js-line-number" data-line-number="900"></td>
        <td id="LC900" class="blob-code js-file-line">     &quot;metadata&quot;: {},</td>
      </tr>
      <tr>
        <td id="L901" class="blob-num js-line-number" data-line-number="901"></td>
        <td id="LC901" class="blob-code js-file-line">     &quot;outputs&quot;: [</td>
      </tr>
      <tr>
        <td id="L902" class="blob-num js-line-number" data-line-number="902"></td>
        <td id="LC902" class="blob-code js-file-line">      {</td>
      </tr>
      <tr>
        <td id="L903" class="blob-num js-line-number" data-line-number="903"></td>
        <td id="LC903" class="blob-code js-file-line">       &quot;output_type&quot;: &quot;stream&quot;,</td>
      </tr>
      <tr>
        <td id="L904" class="blob-num js-line-number" data-line-number="904"></td>
        <td id="LC904" class="blob-code js-file-line">       &quot;stream&quot;: &quot;stdout&quot;,</td>
      </tr>
      <tr>
        <td id="L905" class="blob-num js-line-number" data-line-number="905"></td>
        <td id="LC905" class="blob-code js-file-line">       &quot;text&quot;: [</td>
      </tr>
      <tr>
        <td id="L906" class="blob-num js-line-number" data-line-number="906"></td>
        <td id="LC906" class="blob-code js-file-line">        &quot;10/3.0 is: 3.33333333333\n&quot;</td>
      </tr>
      <tr>
        <td id="L907" class="blob-num js-line-number" data-line-number="907"></td>
        <td id="LC907" class="blob-code js-file-line">       ]</td>
      </tr>
      <tr>
        <td id="L908" class="blob-num js-line-number" data-line-number="908"></td>
        <td id="LC908" class="blob-code js-file-line">      }</td>
      </tr>
      <tr>
        <td id="L909" class="blob-num js-line-number" data-line-number="909"></td>
        <td id="LC909" class="blob-code js-file-line">     ],</td>
      </tr>
      <tr>
        <td id="L910" class="blob-num js-line-number" data-line-number="910"></td>
        <td id="LC910" class="blob-code js-file-line">     &quot;prompt_number&quot;: 21</td>
      </tr>
      <tr>
        <td id="L911" class="blob-num js-line-number" data-line-number="911"></td>
        <td id="LC911" class="blob-code js-file-line">    },</td>
      </tr>
      <tr>
        <td id="L912" class="blob-num js-line-number" data-line-number="912"></td>
        <td id="LC912" class="blob-code js-file-line">    {</td>
      </tr>
      <tr>
        <td id="L913" class="blob-num js-line-number" data-line-number="913"></td>
        <td id="LC913" class="blob-code js-file-line">     &quot;cell_type&quot;: &quot;markdown&quot;,</td>
      </tr>
      <tr>
        <td id="L914" class="blob-num js-line-number" data-line-number="914"></td>
        <td id="LC914" class="blob-code js-file-line">     &quot;metadata&quot;: {},</td>
      </tr>
      <tr>
        <td id="L915" class="blob-num js-line-number" data-line-number="915"></td>
        <td id="LC915" class="blob-code js-file-line">     &quot;source&quot;: [</td>
      </tr>
      <tr>
        <td id="L916" class="blob-num js-line-number" data-line-number="916"></td>
        <td id="LC916" class="blob-code js-file-line">      &quot;The computer does this for historical reasons: integer operations were much faster on early machines, and this behavior is actually useful in a lot of situations. However, it&#39;s still confusing, so Python 3 produces a floating-point answer when dividing integers if it needs to. We&#39;re still using Python 2.7 in this class, so if we want 5/9 to give us the right answer, we have to write it as 5.0/9, 5/9.0, or some other variation.&quot;</td>
      </tr>
      <tr>
        <td id="L917" class="blob-num js-line-number" data-line-number="917"></td>
        <td id="LC917" class="blob-code js-file-line">     ]</td>
      </tr>
      <tr>
        <td id="L918" class="blob-num js-line-number" data-line-number="918"></td>
        <td id="LC918" class="blob-code js-file-line">    },</td>
      </tr>
      <tr>
        <td id="L919" class="blob-num js-line-number" data-line-number="919"></td>
        <td id="LC919" class="blob-code js-file-line">    {</td>
      </tr>
      <tr>
        <td id="L920" class="blob-num js-line-number" data-line-number="920"></td>
        <td id="LC920" class="blob-code js-file-line">     &quot;cell_type&quot;: &quot;heading&quot;,</td>
      </tr>
      <tr>
        <td id="L921" class="blob-num js-line-number" data-line-number="921"></td>
        <td id="LC921" class="blob-code js-file-line">     &quot;level&quot;: 2,</td>
      </tr>
      <tr>
        <td id="L922" class="blob-num js-line-number" data-line-number="922"></td>
        <td id="LC922" class="blob-code js-file-line">     &quot;metadata&quot;: {},</td>
      </tr>
      <tr>
        <td id="L923" class="blob-num js-line-number" data-line-number="923"></td>
        <td id="LC923" class="blob-code js-file-line">     &quot;source&quot;: [</td>
      </tr>
      <tr>
        <td id="L924" class="blob-num js-line-number" data-line-number="924"></td>
        <td id="LC924" class="blob-code js-file-line">      &quot;Conditionals&quot;</td>
      </tr>
      <tr>
        <td id="L925" class="blob-num js-line-number" data-line-number="925"></td>
        <td id="LC925" class="blob-code js-file-line">     ]</td>
      </tr>
      <tr>
        <td id="L926" class="blob-num js-line-number" data-line-number="926"></td>
        <td id="LC926" class="blob-code js-file-line">    },</td>
      </tr>
      <tr>
        <td id="L927" class="blob-num js-line-number" data-line-number="927"></td>
        <td id="LC927" class="blob-code js-file-line">    {</td>
      </tr>
      <tr>
        <td id="L928" class="blob-num js-line-number" data-line-number="928"></td>
        <td id="LC928" class="blob-code js-file-line">     &quot;cell_type&quot;: &quot;markdown&quot;,</td>
      </tr>
      <tr>
        <td id="L929" class="blob-num js-line-number" data-line-number="929"></td>
        <td id="LC929" class="blob-code js-file-line">     &quot;metadata&quot;: {},</td>
      </tr>
      <tr>
        <td id="L930" class="blob-num js-line-number" data-line-number="930"></td>
        <td id="LC930" class="blob-code js-file-line">     &quot;source&quot;: [</td>
      </tr>
      <tr>
        <td id="L931" class="blob-num js-line-number" data-line-number="931"></td>
        <td id="LC931" class="blob-code js-file-line">      &quot;The other standard thing we need to know how to do in Python is conditionals, or if/then/else statements. In Python the basic syntax is:\n&quot;,</td>
      </tr>
      <tr>
        <td id="L932" class="blob-num js-line-number" data-line-number="932"></td>
        <td id="LC932" class="blob-code js-file-line">      &quot;\n&quot;,</td>
      </tr>
      <tr>
        <td id="L933" class="blob-num js-line-number" data-line-number="933"></td>
        <td id="LC933" class="blob-code js-file-line">      &quot;~~~python\n&quot;,</td>
      </tr>
      <tr>
        <td id="L934" class="blob-num js-line-number" data-line-number="934"></td>
        <td id="LC934" class="blob-code js-file-line">      &quot;if condition:\n&quot;,</td>
      </tr>
      <tr>
        <td id="L935" class="blob-num js-line-number" data-line-number="935"></td>
        <td id="LC935" class="blob-code js-file-line">      &quot;    do_something\n&quot;,</td>
      </tr>
      <tr>
        <td id="L936" class="blob-num js-line-number" data-line-number="936"></td>
        <td id="LC936" class="blob-code js-file-line">      &quot;~~~\n&quot;,</td>
      </tr>
      <tr>
        <td id="L937" class="blob-num js-line-number" data-line-number="937"></td>
        <td id="LC937" class="blob-code js-file-line">      &quot;\n&quot;,</td>
      </tr>
      <tr>
        <td id="L938" class="blob-num js-line-number" data-line-number="938"></td>
        <td id="LC938" class="blob-code js-file-line">      &quot;So if we want to loop over the temperatures and print out only those temperatures that are greater than 80 degrees we would use:&quot;</td>
      </tr>
      <tr>
        <td id="L939" class="blob-num js-line-number" data-line-number="939"></td>
        <td id="LC939" class="blob-code js-file-line">     ]</td>
      </tr>
      <tr>
        <td id="L940" class="blob-num js-line-number" data-line-number="940"></td>
        <td id="LC940" class="blob-code js-file-line">    },</td>
      </tr>
      <tr>
        <td id="L941" class="blob-num js-line-number" data-line-number="941"></td>
        <td id="LC941" class="blob-code js-file-line">    {</td>
      </tr>
      <tr>
        <td id="L942" class="blob-num js-line-number" data-line-number="942"></td>
        <td id="LC942" class="blob-code js-file-line">     &quot;cell_type&quot;: &quot;code&quot;,</td>
      </tr>
      <tr>
        <td id="L943" class="blob-num js-line-number" data-line-number="943"></td>
        <td id="LC943" class="blob-code js-file-line">     &quot;collapsed&quot;: false,</td>
      </tr>
      <tr>
        <td id="L944" class="blob-num js-line-number" data-line-number="944"></td>
        <td id="LC944" class="blob-code js-file-line">     &quot;input&quot;: [</td>
      </tr>
      <tr>
        <td id="L945" class="blob-num js-line-number" data-line-number="945"></td>
        <td id="LC945" class="blob-code js-file-line">      &quot;temp = data[&#39;temperature&#39;][0]\n&quot;,</td>
      </tr>
      <tr>
        <td id="L946" class="blob-num js-line-number" data-line-number="946"></td>
        <td id="LC946" class="blob-code js-file-line">      &quot;if temp &gt; 80:\n&quot;,</td>
      </tr>
      <tr>
        <td id="L947" class="blob-num js-line-number" data-line-number="947"></td>
        <td id="LC947" class="blob-code js-file-line">      &quot;    print \&quot;The temperature is greater than 80\&quot;&quot;</td>
      </tr>
      <tr>
        <td id="L948" class="blob-num js-line-number" data-line-number="948"></td>
        <td id="LC948" class="blob-code js-file-line">     ],</td>
      </tr>
      <tr>
        <td id="L949" class="blob-num js-line-number" data-line-number="949"></td>
        <td id="LC949" class="blob-code js-file-line">     &quot;language&quot;: &quot;python&quot;,</td>
      </tr>
      <tr>
        <td id="L950" class="blob-num js-line-number" data-line-number="950"></td>
        <td id="LC950" class="blob-code js-file-line">     &quot;metadata&quot;: {},</td>
      </tr>
      <tr>
        <td id="L951" class="blob-num js-line-number" data-line-number="951"></td>
        <td id="LC951" class="blob-code js-file-line">     &quot;outputs&quot;: [</td>
      </tr>
      <tr>
        <td id="L952" class="blob-num js-line-number" data-line-number="952"></td>
        <td id="LC952" class="blob-code js-file-line">      {</td>
      </tr>
      <tr>
        <td id="L953" class="blob-num js-line-number" data-line-number="953"></td>
        <td id="LC953" class="blob-code js-file-line">       &quot;output_type&quot;: &quot;stream&quot;,</td>
      </tr>
      <tr>
        <td id="L954" class="blob-num js-line-number" data-line-number="954"></td>
        <td id="LC954" class="blob-code js-file-line">       &quot;stream&quot;: &quot;stdout&quot;,</td>
      </tr>
      <tr>
        <td id="L955" class="blob-num js-line-number" data-line-number="955"></td>
        <td id="LC955" class="blob-code js-file-line">       &quot;text&quot;: [</td>
      </tr>
      <tr>
        <td id="L956" class="blob-num js-line-number" data-line-number="956"></td>
        <td id="LC956" class="blob-code js-file-line">        &quot;The temperature is greater than 80\n&quot;</td>
      </tr>
      <tr>
        <td id="L957" class="blob-num js-line-number" data-line-number="957"></td>
        <td id="LC957" class="blob-code js-file-line">       ]</td>
      </tr>
      <tr>
        <td id="L958" class="blob-num js-line-number" data-line-number="958"></td>
        <td id="LC958" class="blob-code js-file-line">      }</td>
      </tr>
      <tr>
        <td id="L959" class="blob-num js-line-number" data-line-number="959"></td>
        <td id="LC959" class="blob-code js-file-line">     ],</td>
      </tr>
      <tr>
        <td id="L960" class="blob-num js-line-number" data-line-number="960"></td>
        <td id="LC960" class="blob-code js-file-line">     &quot;prompt_number&quot;: 22</td>
      </tr>
      <tr>
        <td id="L961" class="blob-num js-line-number" data-line-number="961"></td>
        <td id="LC961" class="blob-code js-file-line">    },</td>
      </tr>
      <tr>
        <td id="L962" class="blob-num js-line-number" data-line-number="962"></td>
        <td id="LC962" class="blob-code js-file-line">    {</td>
      </tr>
      <tr>
        <td id="L963" class="blob-num js-line-number" data-line-number="963"></td>
        <td id="LC963" class="blob-code js-file-line">     &quot;cell_type&quot;: &quot;markdown&quot;,</td>
      </tr>
      <tr>
        <td id="L964" class="blob-num js-line-number" data-line-number="964"></td>
        <td id="LC964" class="blob-code js-file-line">     &quot;metadata&quot;: {},</td>
      </tr>
      <tr>
        <td id="L965" class="blob-num js-line-number" data-line-number="965"></td>
        <td id="LC965" class="blob-code js-file-line">     &quot;source&quot;: [</td>
      </tr>
      <tr>
        <td id="L966" class="blob-num js-line-number" data-line-number="966"></td>
        <td id="LC966" class="blob-code js-file-line">      &quot;We can also use `==` for equality, `&lt;=` for less than or equal to, `&gt;=` for greater than or equal to, and `!=` for not equal to.\n&quot;,</td>
      </tr>
      <tr>
        <td id="L967" class="blob-num js-line-number" data-line-number="967"></td>
        <td id="LC967" class="blob-code js-file-line">      &quot;\n&quot;,</td>
      </tr>
      <tr>
        <td id="L968" class="blob-num js-line-number" data-line-number="968"></td>
        <td id="LC968" class="blob-code js-file-line">      &quot;Additional conditions can be handled using `elif` and `else`:&quot;</td>
      </tr>
      <tr>
        <td id="L969" class="blob-num js-line-number" data-line-number="969"></td>
        <td id="LC969" class="blob-code js-file-line">     ]</td>
      </tr>
      <tr>
        <td id="L970" class="blob-num js-line-number" data-line-number="970"></td>
        <td id="LC970" class="blob-code js-file-line">    },</td>
      </tr>
      <tr>
        <td id="L971" class="blob-num js-line-number" data-line-number="971"></td>
        <td id="LC971" class="blob-code js-file-line">    {</td>
      </tr>
      <tr>
        <td id="L972" class="blob-num js-line-number" data-line-number="972"></td>
        <td id="LC972" class="blob-code js-file-line">     &quot;cell_type&quot;: &quot;code&quot;,</td>
      </tr>
      <tr>
        <td id="L973" class="blob-num js-line-number" data-line-number="973"></td>
        <td id="LC973" class="blob-code js-file-line">     &quot;collapsed&quot;: false,</td>
      </tr>
      <tr>
        <td id="L974" class="blob-num js-line-number" data-line-number="974"></td>
        <td id="LC974" class="blob-code js-file-line">     &quot;input&quot;: [</td>
      </tr>
      <tr>
        <td id="L975" class="blob-num js-line-number" data-line-number="975"></td>
        <td id="LC975" class="blob-code js-file-line">      &quot;temp = data[&#39;temperature&#39;][0]\n&quot;,</td>
      </tr>
      <tr>
        <td id="L976" class="blob-num js-line-number" data-line-number="976"></td>
        <td id="LC976" class="blob-code js-file-line">      &quot;if temp &lt; 87:\n&quot;,</td>
      </tr>
      <tr>
        <td id="L977" class="blob-num js-line-number" data-line-number="977"></td>
        <td id="LC977" class="blob-code js-file-line">      &quot;    print \&quot;The temperature is &lt; 87\&quot;\n&quot;,</td>
      </tr>
      <tr>
        <td id="L978" class="blob-num js-line-number" data-line-number="978"></td>
        <td id="LC978" class="blob-code js-file-line">      &quot;elif temp &gt; 87:\n&quot;,</td>
      </tr>
      <tr>
        <td id="L979" class="blob-num js-line-number" data-line-number="979"></td>
        <td id="LC979" class="blob-code js-file-line">      &quot;    print \&quot;The temperature is &gt; 87\&quot;\n&quot;,</td>
      </tr>
      <tr>
        <td id="L980" class="blob-num js-line-number" data-line-number="980"></td>
        <td id="LC980" class="blob-code js-file-line">      &quot;else:\n&quot;,</td>
      </tr>
      <tr>
        <td id="L981" class="blob-num js-line-number" data-line-number="981"></td>
        <td id="LC981" class="blob-code js-file-line">      &quot;    print \&quot; The temperature is equal to 87\&quot;&quot;</td>
      </tr>
      <tr>
        <td id="L982" class="blob-num js-line-number" data-line-number="982"></td>
        <td id="LC982" class="blob-code js-file-line">     ],</td>
      </tr>
      <tr>
        <td id="L983" class="blob-num js-line-number" data-line-number="983"></td>
        <td id="LC983" class="blob-code js-file-line">     &quot;language&quot;: &quot;python&quot;,</td>
      </tr>
      <tr>
        <td id="L984" class="blob-num js-line-number" data-line-number="984"></td>
        <td id="LC984" class="blob-code js-file-line">     &quot;metadata&quot;: {},</td>
      </tr>
      <tr>
        <td id="L985" class="blob-num js-line-number" data-line-number="985"></td>
        <td id="LC985" class="blob-code js-file-line">     &quot;outputs&quot;: [</td>
      </tr>
      <tr>
        <td id="L986" class="blob-num js-line-number" data-line-number="986"></td>
        <td id="LC986" class="blob-code js-file-line">      {</td>
      </tr>
      <tr>
        <td id="L987" class="blob-num js-line-number" data-line-number="987"></td>
        <td id="LC987" class="blob-code js-file-line">       &quot;output_type&quot;: &quot;stream&quot;,</td>
      </tr>
      <tr>
        <td id="L988" class="blob-num js-line-number" data-line-number="988"></td>
        <td id="LC988" class="blob-code js-file-line">       &quot;stream&quot;: &quot;stdout&quot;,</td>
      </tr>
      <tr>
        <td id="L989" class="blob-num js-line-number" data-line-number="989"></td>
        <td id="LC989" class="blob-code js-file-line">       &quot;text&quot;: [</td>
      </tr>
      <tr>
        <td id="L990" class="blob-num js-line-number" data-line-number="990"></td>
        <td id="LC990" class="blob-code js-file-line">        &quot; The temperature is equal to 87\n&quot;</td>
      </tr>
      <tr>
        <td id="L991" class="blob-num js-line-number" data-line-number="991"></td>
        <td id="LC991" class="blob-code js-file-line">       ]</td>
      </tr>
      <tr>
        <td id="L992" class="blob-num js-line-number" data-line-number="992"></td>
        <td id="LC992" class="blob-code js-file-line">      }</td>
      </tr>
      <tr>
        <td id="L993" class="blob-num js-line-number" data-line-number="993"></td>
        <td id="LC993" class="blob-code js-file-line">     ],</td>
      </tr>
      <tr>
        <td id="L994" class="blob-num js-line-number" data-line-number="994"></td>
        <td id="LC994" class="blob-code js-file-line">     &quot;prompt_number&quot;: 23</td>
      </tr>
      <tr>
        <td id="L995" class="blob-num js-line-number" data-line-number="995"></td>
        <td id="LC995" class="blob-code js-file-line">    },</td>
      </tr>
      <tr>
        <td id="L996" class="blob-num js-line-number" data-line-number="996"></td>
        <td id="LC996" class="blob-code js-file-line">    {</td>
      </tr>
      <tr>
        <td id="L997" class="blob-num js-line-number" data-line-number="997"></td>
        <td id="LC997" class="blob-code js-file-line">     &quot;cell_type&quot;: &quot;heading&quot;,</td>
      </tr>
      <tr>
        <td id="L998" class="blob-num js-line-number" data-line-number="998"></td>
        <td id="LC998" class="blob-code js-file-line">     &quot;level&quot;: 3,</td>
      </tr>
      <tr>
        <td id="L999" class="blob-num js-line-number" data-line-number="999"></td>
        <td id="LC999" class="blob-code js-file-line">     &quot;metadata&quot;: {},</td>
      </tr>
      <tr>
        <td id="L1000" class="blob-num js-line-number" data-line-number="1000"></td>
        <td id="LC1000" class="blob-code js-file-line">     &quot;source&quot;: [</td>
      </tr>
      <tr>
        <td id="L1001" class="blob-num js-line-number" data-line-number="1001"></td>
        <td id="LC1001" class="blob-code js-file-line">      &quot;Challenge&quot;</td>
      </tr>
      <tr>
        <td id="L1002" class="blob-num js-line-number" data-line-number="1002"></td>
        <td id="LC1002" class="blob-code js-file-line">     ]</td>
      </tr>
      <tr>
        <td id="L1003" class="blob-num js-line-number" data-line-number="1003"></td>
        <td id="LC1003" class="blob-code js-file-line">    },</td>
      </tr>
      <tr>
        <td id="L1004" class="blob-num js-line-number" data-line-number="1004"></td>
        <td id="LC1004" class="blob-code js-file-line">    {</td>
      </tr>
      <tr>
        <td id="L1005" class="blob-num js-line-number" data-line-number="1005"></td>
        <td id="LC1005" class="blob-code js-file-line">     &quot;cell_type&quot;: &quot;markdown&quot;,</td>
      </tr>
      <tr>
        <td id="L1006" class="blob-num js-line-number" data-line-number="1006"></td>
        <td id="LC1006" class="blob-code js-file-line">     &quot;metadata&quot;: {},</td>
      </tr>
      <tr>
        <td id="L1007" class="blob-num js-line-number" data-line-number="1007"></td>
        <td id="LC1007" class="blob-code js-file-line">     &quot;source&quot;: [</td>
      </tr>
      <tr>
        <td id="L1008" class="blob-num js-line-number" data-line-number="1008"></td>
        <td id="LC1008" class="blob-code js-file-line">      &quot;Import the data from `mosquito_data_A2.csv`, determine the mean temperate, and loop over the temperature values. For each value print out whether it is greater than the mean, less than the mean, or equal to the mean.&quot;</td>
      </tr>
      <tr>
        <td id="L1009" class="blob-num js-line-number" data-line-number="1009"></td>
        <td id="LC1009" class="blob-code js-file-line">     ]</td>
      </tr>
      <tr>
        <td id="L1010" class="blob-num js-line-number" data-line-number="1010"></td>
        <td id="LC1010" class="blob-code js-file-line">    },</td>
      </tr>
      <tr>
        <td id="L1011" class="blob-num js-line-number" data-line-number="1011"></td>
        <td id="LC1011" class="blob-code js-file-line">    {</td>
      </tr>
      <tr>
        <td id="L1012" class="blob-num js-line-number" data-line-number="1012"></td>
        <td id="LC1012" class="blob-code js-file-line">     &quot;cell_type&quot;: &quot;heading&quot;,</td>
      </tr>
      <tr>
        <td id="L1013" class="blob-num js-line-number" data-line-number="1013"></td>
        <td id="LC1013" class="blob-code js-file-line">     &quot;level&quot;: 2,</td>
      </tr>
      <tr>
        <td id="L1014" class="blob-num js-line-number" data-line-number="1014"></td>
        <td id="LC1014" class="blob-code js-file-line">     &quot;metadata&quot;: {},</td>
      </tr>
      <tr>
        <td id="L1015" class="blob-num js-line-number" data-line-number="1015"></td>
        <td id="LC1015" class="blob-code js-file-line">     &quot;source&quot;: [</td>
      </tr>
      <tr>
        <td id="L1016" class="blob-num js-line-number" data-line-number="1016"></td>
        <td id="LC1016" class="blob-code js-file-line">      &quot;Plotting&quot;</td>
      </tr>
      <tr>
        <td id="L1017" class="blob-num js-line-number" data-line-number="1017"></td>
        <td id="LC1017" class="blob-code js-file-line">     ]</td>
      </tr>
      <tr>
        <td id="L1018" class="blob-num js-line-number" data-line-number="1018"></td>
        <td id="LC1018" class="blob-code js-file-line">    },</td>
      </tr>
      <tr>
        <td id="L1019" class="blob-num js-line-number" data-line-number="1019"></td>
        <td id="LC1019" class="blob-code js-file-line">    {</td>
      </tr>
      <tr>
        <td id="L1020" class="blob-num js-line-number" data-line-number="1020"></td>
        <td id="LC1020" class="blob-code js-file-line">     &quot;cell_type&quot;: &quot;markdown&quot;,</td>
      </tr>
      <tr>
        <td id="L1021" class="blob-num js-line-number" data-line-number="1021"></td>
        <td id="LC1021" class="blob-code js-file-line">     &quot;metadata&quot;: {},</td>
      </tr>
      <tr>
        <td id="L1022" class="blob-num js-line-number" data-line-number="1022"></td>
        <td id="LC1022" class="blob-code js-file-line">     &quot;source&quot;: [</td>
      </tr>
      <tr>
        <td id="L1023" class="blob-num js-line-number" data-line-number="1023"></td>
        <td id="LC1023" class="blob-code js-file-line">      &quot;The mathematician Richard Hamming once said, \&quot;The purpose of computing is insight, not numbers,\&quot; and the best way to develop insight is often to visualize data. The main plotting library in Python is `matplotlib`. To get started, let&#39;s tell the IPython Notebook that we want our plots displayed inline, rather than in a separate viewing window:&quot;</td>
      </tr>
      <tr>
        <td id="L1024" class="blob-num js-line-number" data-line-number="1024"></td>
        <td id="LC1024" class="blob-code js-file-line">     ]</td>
      </tr>
      <tr>
        <td id="L1025" class="blob-num js-line-number" data-line-number="1025"></td>
        <td id="LC1025" class="blob-code js-file-line">    },</td>
      </tr>
      <tr>
        <td id="L1026" class="blob-num js-line-number" data-line-number="1026"></td>
        <td id="LC1026" class="blob-code js-file-line">    {</td>
      </tr>
      <tr>
        <td id="L1027" class="blob-num js-line-number" data-line-number="1027"></td>
        <td id="LC1027" class="blob-code js-file-line">     &quot;cell_type&quot;: &quot;code&quot;,</td>
      </tr>
      <tr>
        <td id="L1028" class="blob-num js-line-number" data-line-number="1028"></td>
        <td id="LC1028" class="blob-code js-file-line">     &quot;collapsed&quot;: false,</td>
      </tr>
      <tr>
        <td id="L1029" class="blob-num js-line-number" data-line-number="1029"></td>
        <td id="LC1029" class="blob-code js-file-line">     &quot;input&quot;: [</td>
      </tr>
      <tr>
        <td id="L1030" class="blob-num js-line-number" data-line-number="1030"></td>
        <td id="LC1030" class="blob-code js-file-line">      &quot;%matplotlib inline&quot;</td>
      </tr>
      <tr>
        <td id="L1031" class="blob-num js-line-number" data-line-number="1031"></td>
        <td id="LC1031" class="blob-code js-file-line">     ],</td>
      </tr>
      <tr>
        <td id="L1032" class="blob-num js-line-number" data-line-number="1032"></td>
        <td id="LC1032" class="blob-code js-file-line">     &quot;language&quot;: &quot;python&quot;,</td>
      </tr>
      <tr>
        <td id="L1033" class="blob-num js-line-number" data-line-number="1033"></td>
        <td id="LC1033" class="blob-code js-file-line">     &quot;metadata&quot;: {},</td>
      </tr>
      <tr>
        <td id="L1034" class="blob-num js-line-number" data-line-number="1034"></td>
        <td id="LC1034" class="blob-code js-file-line">     &quot;outputs&quot;: [],</td>
      </tr>
      <tr>
        <td id="L1035" class="blob-num js-line-number" data-line-number="1035"></td>
        <td id="LC1035" class="blob-code js-file-line">     &quot;prompt_number&quot;: 24</td>
      </tr>
      <tr>
        <td id="L1036" class="blob-num js-line-number" data-line-number="1036"></td>
        <td id="LC1036" class="blob-code js-file-line">    },</td>
      </tr>
      <tr>
        <td id="L1037" class="blob-num js-line-number" data-line-number="1037"></td>
        <td id="LC1037" class="blob-code js-file-line">    {</td>
      </tr>
      <tr>
        <td id="L1038" class="blob-num js-line-number" data-line-number="1038"></td>
        <td id="LC1038" class="blob-code js-file-line">     &quot;cell_type&quot;: &quot;markdown&quot;,</td>
      </tr>
      <tr>
        <td id="L1039" class="blob-num js-line-number" data-line-number="1039"></td>
        <td id="LC1039" class="blob-code js-file-line">     &quot;metadata&quot;: {},</td>
      </tr>
      <tr>
        <td id="L1040" class="blob-num js-line-number" data-line-number="1040"></td>
        <td id="LC1040" class="blob-code js-file-line">     &quot;source&quot;: [</td>
      </tr>
      <tr>
        <td id="L1041" class="blob-num js-line-number" data-line-number="1041"></td>
        <td id="LC1041" class="blob-code js-file-line">      &quot;The `%` at the start of the line signals that this is a command for the notebook, rather than a statement in Python. Next, we will import the `pyplot` module from `matplotlib`, but since `pyplot` is a fairly long name to type repeatedly let&#39;s give it an alias.&quot;</td>
      </tr>
      <tr>
        <td id="L1042" class="blob-num js-line-number" data-line-number="1042"></td>
        <td id="LC1042" class="blob-code js-file-line">     ]</td>
      </tr>
      <tr>
        <td id="L1043" class="blob-num js-line-number" data-line-number="1043"></td>
        <td id="LC1043" class="blob-code js-file-line">    },</td>
      </tr>
      <tr>
        <td id="L1044" class="blob-num js-line-number" data-line-number="1044"></td>
        <td id="LC1044" class="blob-code js-file-line">    {</td>
      </tr>
      <tr>
        <td id="L1045" class="blob-num js-line-number" data-line-number="1045"></td>
        <td id="LC1045" class="blob-code js-file-line">     &quot;cell_type&quot;: &quot;code&quot;,</td>
      </tr>
      <tr>
        <td id="L1046" class="blob-num js-line-number" data-line-number="1046"></td>
        <td id="LC1046" class="blob-code js-file-line">     &quot;collapsed&quot;: false,</td>
      </tr>
      <tr>
        <td id="L1047" class="blob-num js-line-number" data-line-number="1047"></td>
        <td id="LC1047" class="blob-code js-file-line">     &quot;input&quot;: [</td>
      </tr>
      <tr>
        <td id="L1048" class="blob-num js-line-number" data-line-number="1048"></td>
        <td id="LC1048" class="blob-code js-file-line">      &quot;from matplotlib import pyplot as plt&quot;</td>
      </tr>
      <tr>
        <td id="L1049" class="blob-num js-line-number" data-line-number="1049"></td>
        <td id="LC1049" class="blob-code js-file-line">     ],</td>
      </tr>
      <tr>
        <td id="L1050" class="blob-num js-line-number" data-line-number="1050"></td>
        <td id="LC1050" class="blob-code js-file-line">     &quot;language&quot;: &quot;python&quot;,</td>
      </tr>
      <tr>
        <td id="L1051" class="blob-num js-line-number" data-line-number="1051"></td>
        <td id="LC1051" class="blob-code js-file-line">     &quot;metadata&quot;: {},</td>
      </tr>
      <tr>
        <td id="L1052" class="blob-num js-line-number" data-line-number="1052"></td>
        <td id="LC1052" class="blob-code js-file-line">     &quot;outputs&quot;: [],</td>
      </tr>
      <tr>
        <td id="L1053" class="blob-num js-line-number" data-line-number="1053"></td>
        <td id="LC1053" class="blob-code js-file-line">     &quot;prompt_number&quot;: 25</td>
      </tr>
      <tr>
        <td id="L1054" class="blob-num js-line-number" data-line-number="1054"></td>
        <td id="LC1054" class="blob-code js-file-line">    },</td>
      </tr>
      <tr>
        <td id="L1055" class="blob-num js-line-number" data-line-number="1055"></td>
        <td id="LC1055" class="blob-code js-file-line">    {</td>
      </tr>
      <tr>
        <td id="L1056" class="blob-num js-line-number" data-line-number="1056"></td>
        <td id="LC1056" class="blob-code js-file-line">     &quot;cell_type&quot;: &quot;markdown&quot;,</td>
      </tr>
      <tr>
        <td id="L1057" class="blob-num js-line-number" data-line-number="1057"></td>
        <td id="LC1057" class="blob-code js-file-line">     &quot;metadata&quot;: {},</td>
      </tr>
      <tr>
        <td id="L1058" class="blob-num js-line-number" data-line-number="1058"></td>
        <td id="LC1058" class="blob-code js-file-line">     &quot;source&quot;: [</td>
      </tr>
      <tr>
        <td id="L1059" class="blob-num js-line-number" data-line-number="1059"></td>
        <td id="LC1059" class="blob-code js-file-line">      &quot;This import statement shows two new things. First, we can import part of a library by using the `from library import submodule` syntax. Second, we can use a different name to refer to the imported library by using `as newname`.\n&quot;,</td>
      </tr>
      <tr>
        <td id="L1060" class="blob-num js-line-number" data-line-number="1060"></td>
        <td id="LC1060" class="blob-code js-file-line">      &quot;\n&quot;,</td>
      </tr>
      <tr>
        <td id="L1061" class="blob-num js-line-number" data-line-number="1061"></td>
        <td id="LC1061" class="blob-code js-file-line">      &quot;Now, let&#39;s make a simple plot showing how the number of mosquitos varies over time. We&#39;ll use the site you&#39;ve been doing exercises with since it has a longer time-series.&quot;</td>
      </tr>
      <tr>
        <td id="L1062" class="blob-num js-line-number" data-line-number="1062"></td>
        <td id="LC1062" class="blob-code js-file-line">     ]</td>
      </tr>
      <tr>
        <td id="L1063" class="blob-num js-line-number" data-line-number="1063"></td>
        <td id="LC1063" class="blob-code js-file-line">    },</td>
      </tr>
      <tr>
        <td id="L1064" class="blob-num js-line-number" data-line-number="1064"></td>
        <td id="LC1064" class="blob-code js-file-line">    {</td>
      </tr>
      <tr>
        <td id="L1065" class="blob-num js-line-number" data-line-number="1065"></td>
        <td id="LC1065" class="blob-code js-file-line">     &quot;cell_type&quot;: &quot;code&quot;,</td>
      </tr>
      <tr>
        <td id="L1066" class="blob-num js-line-number" data-line-number="1066"></td>
        <td id="LC1066" class="blob-code js-file-line">     &quot;collapsed&quot;: false,</td>
      </tr>
      <tr>
        <td id="L1067" class="blob-num js-line-number" data-line-number="1067"></td>
        <td id="LC1067" class="blob-code js-file-line">     &quot;input&quot;: [</td>
      </tr>
      <tr>
        <td id="L1068" class="blob-num js-line-number" data-line-number="1068"></td>
        <td id="LC1068" class="blob-code js-file-line">      &quot;data = pandas.read_csv(&#39;mosquito_data_A2.csv&#39;)\n&quot;,</td>
      </tr>
      <tr>
        <td id="L1069" class="blob-num js-line-number" data-line-number="1069"></td>
        <td id="LC1069" class="blob-code js-file-line">      &quot;plt.plot(data[&#39;year&#39;], data[&#39;mosquitos&#39;])&quot;</td>
      </tr>
      <tr>
        <td id="L1070" class="blob-num js-line-number" data-line-number="1070"></td>
        <td id="LC1070" class="blob-code js-file-line">     ],</td>
      </tr>
      <tr>
        <td id="L1071" class="blob-num js-line-number" data-line-number="1071"></td>
        <td id="LC1071" class="blob-code js-file-line">     &quot;language&quot;: &quot;python&quot;,</td>
      </tr>
      <tr>
        <td id="L1072" class="blob-num js-line-number" data-line-number="1072"></td>
        <td id="LC1072" class="blob-code js-file-line">     &quot;metadata&quot;: {},</td>
      </tr>
      <tr>
        <td id="L1073" class="blob-num js-line-number" data-line-number="1073"></td>
        <td id="LC1073" class="blob-code js-file-line">     &quot;outputs&quot;: [</td>
      </tr>
      <tr>
        <td id="L1074" class="blob-num js-line-number" data-line-number="1074"></td>
        <td id="LC1074" class="blob-code js-file-line">      {</td>
      </tr>
      <tr>
        <td id="L1075" class="blob-num js-line-number" data-line-number="1075"></td>
        <td id="LC1075" class="blob-code js-file-line">       &quot;metadata&quot;: {},</td>
      </tr>
      <tr>
        <td id="L1076" class="blob-num js-line-number" data-line-number="1076"></td>
        <td id="LC1076" class="blob-code js-file-line">       &quot;output_type&quot;: &quot;pyout&quot;,</td>
      </tr>
      <tr>
        <td id="L1077" class="blob-num js-line-number" data-line-number="1077"></td>
        <td id="LC1077" class="blob-code js-file-line">       &quot;prompt_number&quot;: 26,</td>
      </tr>
      <tr>
        <td id="L1078" class="blob-num js-line-number" data-line-number="1078"></td>
        <td id="LC1078" class="blob-code js-file-line">       &quot;text&quot;: [</td>
      </tr>
      <tr>
        <td id="L1079" class="blob-num js-line-number" data-line-number="1079"></td>
        <td id="LC1079" class="blob-code js-file-line">        &quot;[&lt;matplotlib.lines.Line2D at 0x4a88590&gt;]&quot;</td>
      </tr>
      <tr>
        <td id="L1080" class="blob-num js-line-number" data-line-number="1080"></td>
        <td id="LC1080" class="blob-code js-file-line">       ]</td>
      </tr>
      <tr>
        <td id="L1081" class="blob-num js-line-number" data-line-number="1081"></td>
        <td id="LC1081" class="blob-code js-file-line">      },</td>
      </tr>
      <tr>
        <td id="L1082" class="blob-num js-line-number" data-line-number="1082"></td>
        <td id="LC1082" class="blob-code js-file-line">      {</td>
      </tr>
      <tr>
        <td id="L1083" class="blob-num js-line-number" data-line-number="1083"></td>
        <td id="LC1083" class="blob-code js-file-line">       &quot;metadata&quot;: {},</td>
      </tr>
      <tr>
        <td id="L1084" class="blob-num js-line-number" data-line-number="1084"></td>
        <td id="LC1084" class="blob-code js-file-line">       &quot;output_type&quot;: &quot;display_data&quot;,</td>
      </tr>
      <tr>
        <td id="L1085" class="blob-num js-line-number" data-line-number="1085"></td>
        <td id="LC1085" class="blob-code js-file-line">       &quot;png&quot;: &quot;iVBORw0KGgoAAAANSUhEUgAAAX4AAAD9CAYAAAC7iRw+AAAABHNCSVQICAgIfAhkiAAAAAlwSFlz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\n&quot;,</td>
      </tr>
      <tr>
        <td id="L1086" class="blob-num js-line-number" data-line-number="1086"></td>
        <td id="LC1086" class="blob-code js-file-line">       &quot;text&quot;: [</td>
      </tr>
      <tr>
        <td id="L1087" class="blob-num js-line-number" data-line-number="1087"></td>
        <td id="LC1087" class="blob-code js-file-line">        &quot;&lt;matplotlib.figure.Figure at 0x4958290&gt;&quot;</td>
      </tr>
      <tr>
        <td id="L1088" class="blob-num js-line-number" data-line-number="1088"></td>
        <td id="LC1088" class="blob-code js-file-line">       ]</td>
      </tr>
      <tr>
        <td id="L1089" class="blob-num js-line-number" data-line-number="1089"></td>
        <td id="LC1089" class="blob-code js-file-line">      }</td>
      </tr>
      <tr>
        <td id="L1090" class="blob-num js-line-number" data-line-number="1090"></td>
        <td id="LC1090" class="blob-code js-file-line">     ],</td>
      </tr>
      <tr>
        <td id="L1091" class="blob-num js-line-number" data-line-number="1091"></td>
        <td id="LC1091" class="blob-code js-file-line">     &quot;prompt_number&quot;: 26</td>
      </tr>
      <tr>
        <td id="L1092" class="blob-num js-line-number" data-line-number="1092"></td>
        <td id="LC1092" class="blob-code js-file-line">    },</td>
      </tr>
      <tr>
        <td id="L1093" class="blob-num js-line-number" data-line-number="1093"></td>
        <td id="LC1093" class="blob-code js-file-line">    {</td>
      </tr>
      <tr>
        <td id="L1094" class="blob-num js-line-number" data-line-number="1094"></td>
        <td id="LC1094" class="blob-code js-file-line">     &quot;cell_type&quot;: &quot;markdown&quot;,</td>
      </tr>
      <tr>
        <td id="L1095" class="blob-num js-line-number" data-line-number="1095"></td>
        <td id="LC1095" class="blob-code js-file-line">     &quot;metadata&quot;: {},</td>
      </tr>
      <tr>
        <td id="L1096" class="blob-num js-line-number" data-line-number="1096"></td>
        <td id="LC1096" class="blob-code js-file-line">     &quot;source&quot;: [</td>
      </tr>
      <tr>
        <td id="L1097" class="blob-num js-line-number" data-line-number="1097"></td>
        <td id="LC1097" class="blob-code js-file-line">      &quot;More complicated plots can be created by adding a little additional information. Let&#39;s say we want to look at how the different weather variables vary over time.&quot;</td>
      </tr>
      <tr>
        <td id="L1098" class="blob-num js-line-number" data-line-number="1098"></td>
        <td id="LC1098" class="blob-code js-file-line">     ]</td>
      </tr>
      <tr>
        <td id="L1099" class="blob-num js-line-number" data-line-number="1099"></td>
        <td id="LC1099" class="blob-code js-file-line">    },</td>
      </tr>
      <tr>
        <td id="L1100" class="blob-num js-line-number" data-line-number="1100"></td>
        <td id="LC1100" class="blob-code js-file-line">    {</td>
      </tr>
      <tr>
        <td id="L1101" class="blob-num js-line-number" data-line-number="1101"></td>
        <td id="LC1101" class="blob-code js-file-line">     &quot;cell_type&quot;: &quot;code&quot;,</td>
      </tr>
      <tr>
        <td id="L1102" class="blob-num js-line-number" data-line-number="1102"></td>
        <td id="LC1102" class="blob-code js-file-line">     &quot;collapsed&quot;: false,</td>
      </tr>
      <tr>
        <td id="L1103" class="blob-num js-line-number" data-line-number="1103"></td>
        <td id="LC1103" class="blob-code js-file-line">     &quot;input&quot;: [</td>
      </tr>
      <tr>
        <td id="L1104" class="blob-num js-line-number" data-line-number="1104"></td>
        <td id="LC1104" class="blob-code js-file-line">      &quot;plt.figure(figsize=(10.0, 3.0))\n&quot;,</td>
      </tr>
      <tr>
        <td id="L1105" class="blob-num js-line-number" data-line-number="1105"></td>
        <td id="LC1105" class="blob-code js-file-line">      &quot;\n&quot;,</td>
      </tr>
      <tr>
        <td id="L1106" class="blob-num js-line-number" data-line-number="1106"></td>
        <td id="LC1106" class="blob-code js-file-line">      &quot;plt.subplot(1, 2, 1)\n&quot;,</td>
      </tr>
      <tr>
        <td id="L1107" class="blob-num js-line-number" data-line-number="1107"></td>
        <td id="LC1107" class="blob-code js-file-line">      &quot;plt.plot(data[&#39;year&#39;], data[&#39;temperature&#39;], &#39;ro-&#39;)\n&quot;,</td>
      </tr>
      <tr>
        <td id="L1108" class="blob-num js-line-number" data-line-number="1108"></td>
        <td id="LC1108" class="blob-code js-file-line">      &quot;plt.xlabel(&#39;Year&#39;)\n&quot;,</td>
      </tr>
      <tr>
        <td id="L1109" class="blob-num js-line-number" data-line-number="1109"></td>
        <td id="LC1109" class="blob-code js-file-line">      &quot;plt.ylabel(&#39;Temperature&#39;)\n&quot;,</td>
      </tr>
      <tr>
        <td id="L1110" class="blob-num js-line-number" data-line-number="1110"></td>
        <td id="LC1110" class="blob-code js-file-line">      &quot;\n&quot;,</td>
      </tr>
      <tr>
        <td id="L1111" class="blob-num js-line-number" data-line-number="1111"></td>
        <td id="LC1111" class="blob-code js-file-line">      &quot;plt.subplot(1, 2, 2)\n&quot;,</td>
      </tr>
      <tr>
        <td id="L1112" class="blob-num js-line-number" data-line-number="1112"></td>
        <td id="LC1112" class="blob-code js-file-line">      &quot;plt.plot(data[&#39;year&#39;], data[&#39;rainfall&#39;], &#39;bs-&#39;)\n&quot;,</td>
      </tr>
      <tr>
        <td id="L1113" class="blob-num js-line-number" data-line-number="1113"></td>
        <td id="LC1113" class="blob-code js-file-line">      &quot;plt.xlabel(&#39;Year&#39;)\n&quot;,</td>
      </tr>
      <tr>
        <td id="L1114" class="blob-num js-line-number" data-line-number="1114"></td>
        <td id="LC1114" class="blob-code js-file-line">      &quot;plt.ylabel(&#39;Rain Fall&#39;)\n&quot;,</td>
      </tr>
      <tr>
        <td id="L1115" class="blob-num js-line-number" data-line-number="1115"></td>
        <td id="LC1115" class="blob-code js-file-line">      &quot;plt.show()&quot;</td>
      </tr>
      <tr>
        <td id="L1116" class="blob-num js-line-number" data-line-number="1116"></td>
        <td id="LC1116" class="blob-code js-file-line">     ],</td>
      </tr>
      <tr>
        <td id="L1117" class="blob-num js-line-number" data-line-number="1117"></td>
        <td id="LC1117" class="blob-code js-file-line">     &quot;language&quot;: &quot;python&quot;,</td>
      </tr>
      <tr>
        <td id="L1118" class="blob-num js-line-number" data-line-number="1118"></td>
        <td id="LC1118" class="blob-code js-file-line">     &quot;metadata&quot;: {},</td>
      </tr>
      <tr>
        <td id="L1119" class="blob-num js-line-number" data-line-number="1119"></td>
        <td id="LC1119" class="blob-code js-file-line">     &quot;outputs&quot;: [</td>
      </tr>
      <tr>
        <td id="L1120" class="blob-num js-line-number" data-line-number="1120"></td>
        <td id="LC1120" class="blob-code js-file-line">      {</td>
      </tr>
      <tr>
        <td id="L1121" class="blob-num js-line-number" data-line-number="1121"></td>
        <td id="LC1121" class="blob-code js-file-line">       &quot;metadata&quot;: {},</td>
      </tr>
      <tr>
        <td id="L1122" class="blob-num js-line-number" data-line-number="1122"></td>
        <td id="LC1122" class="blob-code js-file-line">       &quot;output_type&quot;: &quot;display_data&quot;,</td>
      </tr>
      <tr>
        <td id="L1123" class="blob-num js-line-number" data-line-number="1123"></td>
        <td id="LC1123" class="blob-code js-file-line">       &quot;png&quot;: &quot;iVBORw0KGgoAAAANSUhEUgAAAmYAAADSCAYAAADg6AzAAAAABHNCSVQICAgIfAhkiAAAAAlwSFlz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\nMcUNQPvbAAAAAElFTkSuQmCC\n&quot;,</td>
      </tr>
      <tr>
        <td id="L1124" class="blob-num js-line-number" data-line-number="1124"></td>
        <td id="LC1124" class="blob-code js-file-line">       &quot;text&quot;: [</td>
      </tr>
      <tr>
        <td id="L1125" class="blob-num js-line-number" data-line-number="1125"></td>
        <td id="LC1125" class="blob-code js-file-line">        &quot;&lt;matplotlib.figure.Figure at 0x4954fd0&gt;&quot;</td>
      </tr>
      <tr>
        <td id="L1126" class="blob-num js-line-number" data-line-number="1126"></td>
        <td id="LC1126" class="blob-code js-file-line">       ]</td>
      </tr>
      <tr>
        <td id="L1127" class="blob-num js-line-number" data-line-number="1127"></td>
        <td id="LC1127" class="blob-code js-file-line">      }</td>
      </tr>
      <tr>
        <td id="L1128" class="blob-num js-line-number" data-line-number="1128"></td>
        <td id="LC1128" class="blob-code js-file-line">     ],</td>
      </tr>
      <tr>
        <td id="L1129" class="blob-num js-line-number" data-line-number="1129"></td>
        <td id="LC1129" class="blob-code js-file-line">     &quot;prompt_number&quot;: 27</td>
      </tr>
      <tr>
        <td id="L1130" class="blob-num js-line-number" data-line-number="1130"></td>
        <td id="LC1130" class="blob-code js-file-line">    },</td>
      </tr>
      <tr>
        <td id="L1131" class="blob-num js-line-number" data-line-number="1131"></td>
        <td id="LC1131" class="blob-code js-file-line">    {</td>
      </tr>
      <tr>
        <td id="L1132" class="blob-num js-line-number" data-line-number="1132"></td>
        <td id="LC1132" class="blob-code js-file-line">     &quot;cell_type&quot;: &quot;heading&quot;,</td>
      </tr>
      <tr>
        <td id="L1133" class="blob-num js-line-number" data-line-number="1133"></td>
        <td id="LC1133" class="blob-code js-file-line">     &quot;level&quot;: 3,</td>
      </tr>
      <tr>
        <td id="L1134" class="blob-num js-line-number" data-line-number="1134"></td>
        <td id="LC1134" class="blob-code js-file-line">     &quot;metadata&quot;: {},</td>
      </tr>
      <tr>
        <td id="L1135" class="blob-num js-line-number" data-line-number="1135"></td>
        <td id="LC1135" class="blob-code js-file-line">     &quot;source&quot;: [</td>
      </tr>
      <tr>
        <td id="L1136" class="blob-num js-line-number" data-line-number="1136"></td>
        <td id="LC1136" class="blob-code js-file-line">      &quot;Challenge&quot;</td>
      </tr>
      <tr>
        <td id="L1137" class="blob-num js-line-number" data-line-number="1137"></td>
        <td id="LC1137" class="blob-code js-file-line">     ]</td>
      </tr>
      <tr>
        <td id="L1138" class="blob-num js-line-number" data-line-number="1138"></td>
        <td id="LC1138" class="blob-code js-file-line">    },</td>
      </tr>
      <tr>
        <td id="L1139" class="blob-num js-line-number" data-line-number="1139"></td>
        <td id="LC1139" class="blob-code js-file-line">    {</td>
      </tr>
      <tr>
        <td id="L1140" class="blob-num js-line-number" data-line-number="1140"></td>
        <td id="LC1140" class="blob-code js-file-line">     &quot;cell_type&quot;: &quot;markdown&quot;,</td>
      </tr>
      <tr>
        <td id="L1141" class="blob-num js-line-number" data-line-number="1141"></td>
        <td id="LC1141" class="blob-code js-file-line">     &quot;metadata&quot;: {},</td>
      </tr>
      <tr>
        <td id="L1142" class="blob-num js-line-number" data-line-number="1142"></td>
        <td id="LC1142" class="blob-code js-file-line">     &quot;source&quot;: [</td>
      </tr>
      <tr>
        <td id="L1143" class="blob-num js-line-number" data-line-number="1143"></td>
        <td id="LC1143" class="blob-code js-file-line">      &quot;Using the data in `mosquito_data_A2.csv` plot the relationship between the number of mosquitos and temperature and the number of mosquitos and rainfall.&quot;</td>
      </tr>
      <tr>
        <td id="L1144" class="blob-num js-line-number" data-line-number="1144"></td>
        <td id="LC1144" class="blob-code js-file-line">     ]</td>
      </tr>
      <tr>
        <td id="L1145" class="blob-num js-line-number" data-line-number="1145"></td>
        <td id="LC1145" class="blob-code js-file-line">    },</td>
      </tr>
      <tr>
        <td id="L1146" class="blob-num js-line-number" data-line-number="1146"></td>
        <td id="LC1146" class="blob-code js-file-line">    {</td>
      </tr>
      <tr>
        <td id="L1147" class="blob-num js-line-number" data-line-number="1147"></td>
        <td id="LC1147" class="blob-code js-file-line">     &quot;cell_type&quot;: &quot;heading&quot;,</td>
      </tr>
      <tr>
        <td id="L1148" class="blob-num js-line-number" data-line-number="1148"></td>
        <td id="LC1148" class="blob-code js-file-line">     &quot;level&quot;: 3,</td>
      </tr>
      <tr>
        <td id="L1149" class="blob-num js-line-number" data-line-number="1149"></td>
        <td id="LC1149" class="blob-code js-file-line">     &quot;metadata&quot;: {},</td>
      </tr>
      <tr>
        <td id="L1150" class="blob-num js-line-number" data-line-number="1150"></td>
        <td id="LC1150" class="blob-code js-file-line">     &quot;source&quot;: [</td>
      </tr>
      <tr>
        <td id="L1151" class="blob-num js-line-number" data-line-number="1151"></td>
        <td id="LC1151" class="blob-code js-file-line">      &quot;Key Points&quot;</td>
      </tr>
      <tr>
        <td id="L1152" class="blob-num js-line-number" data-line-number="1152"></td>
        <td id="LC1152" class="blob-code js-file-line">     ]</td>
      </tr>
      <tr>
        <td id="L1153" class="blob-num js-line-number" data-line-number="1153"></td>
        <td id="LC1153" class="blob-code js-file-line">    },</td>
      </tr>
      <tr>
        <td id="L1154" class="blob-num js-line-number" data-line-number="1154"></td>
        <td id="LC1154" class="blob-code js-file-line">    {</td>
      </tr>
      <tr>
        <td id="L1155" class="blob-num js-line-number" data-line-number="1155"></td>
        <td id="LC1155" class="blob-code js-file-line">     &quot;cell_type&quot;: &quot;markdown&quot;,</td>
      </tr>
      <tr>
        <td id="L1156" class="blob-num js-line-number" data-line-number="1156"></td>
        <td id="LC1156" class="blob-code js-file-line">     &quot;metadata&quot;: {},</td>
      </tr>
      <tr>
        <td id="L1157" class="blob-num js-line-number" data-line-number="1157"></td>
        <td id="LC1157" class="blob-code js-file-line">     &quot;source&quot;: [</td>
      </tr>
      <tr>
        <td id="L1158" class="blob-num js-line-number" data-line-number="1158"></td>
        <td id="LC1158" class="blob-code js-file-line">      &quot;*   Import a library into a program using `import libraryname`.\n&quot;,</td>
      </tr>
      <tr>
        <td id="L1159" class="blob-num js-line-number" data-line-number="1159"></td>
        <td id="LC1159" class="blob-code js-file-line">      &quot;*   Use the `pandas` library to work with data tables in Python.\n&quot;,</td>
      </tr>
      <tr>
        <td id="L1160" class="blob-num js-line-number" data-line-number="1160"></td>
        <td id="LC1160" class="blob-code js-file-line">      &quot;*   Use `variable = value` to assign a value to a variable.\n&quot;,</td>
      </tr>
      <tr>
        <td id="L1161" class="blob-num js-line-number" data-line-number="1161"></td>
        <td id="LC1161" class="blob-code js-file-line">      &quot;*   Use `print something` to display the value of `something`.\n&quot;,</td>
      </tr>
      <tr>
        <td id="L1162" class="blob-num js-line-number" data-line-number="1162"></td>
        <td id="LC1162" class="blob-code js-file-line">      &quot;*   Use `dataframe[&#39;columnname&#39;]` to select a column of data.\n&quot;,</td>
      </tr>
      <tr>
        <td id="L1163" class="blob-num js-line-number" data-line-number="1163"></td>
        <td id="LC1163" class="blob-code js-file-line">      &quot;*   Use `dataframe[start_row:stop_row]` to select rows from a data frame.\n&quot;,</td>
      </tr>
      <tr>
        <td id="L1164" class="blob-num js-line-number" data-line-number="1164"></td>
        <td id="LC1164" class="blob-code js-file-line">      &quot;*   Indices start at 0, not 1.\n&quot;,</td>
      </tr>
      <tr>
        <td id="L1165" class="blob-num js-line-number" data-line-number="1165"></td>
        <td id="LC1165" class="blob-code js-file-line">      &quot;*   Use `dataframe.mean()`, `dataframe.max()`, and `dataframe.min()` to calculate simple statistics.\n&quot;,</td>
      </tr>
      <tr>
        <td id="L1166" class="blob-num js-line-number" data-line-number="1166"></td>
        <td id="LC1166" class="blob-code js-file-line">      &quot;*   Use `for x in list:` to loop over values\n&quot;,</td>
      </tr>
      <tr>
        <td id="L1167" class="blob-num js-line-number" data-line-number="1167"></td>
        <td id="LC1167" class="blob-code js-file-line">      &quot;*   Use `if condition:` to make conditional decisions\n&quot;,</td>
      </tr>
      <tr>
        <td id="L1168" class="blob-num js-line-number" data-line-number="1168"></td>
        <td id="LC1168" class="blob-code js-file-line">      &quot;*   Use the `pyplot` library from `matplotlib` for creating simple visualizations.&quot;</td>
      </tr>
      <tr>
        <td id="L1169" class="blob-num js-line-number" data-line-number="1169"></td>
        <td id="LC1169" class="blob-code js-file-line">     ]</td>
      </tr>
      <tr>
        <td id="L1170" class="blob-num js-line-number" data-line-number="1170"></td>
        <td id="LC1170" class="blob-code js-file-line">    },</td>
      </tr>
      <tr>
        <td id="L1171" class="blob-num js-line-number" data-line-number="1171"></td>
        <td id="LC1171" class="blob-code js-file-line">    {</td>
      </tr>
      <tr>
        <td id="L1172" class="blob-num js-line-number" data-line-number="1172"></td>
        <td id="LC1172" class="blob-code js-file-line">     &quot;cell_type&quot;: &quot;heading&quot;,</td>
      </tr>
      <tr>
        <td id="L1173" class="blob-num js-line-number" data-line-number="1173"></td>
        <td id="LC1173" class="blob-code js-file-line">     &quot;level&quot;: 2,</td>
      </tr>
      <tr>
        <td id="L1174" class="blob-num js-line-number" data-line-number="1174"></td>
        <td id="LC1174" class="blob-code js-file-line">     &quot;metadata&quot;: {},</td>
      </tr>
      <tr>
        <td id="L1175" class="blob-num js-line-number" data-line-number="1175"></td>
        <td id="LC1175" class="blob-code js-file-line">     &quot;source&quot;: [</td>
      </tr>
      <tr>
        <td id="L1176" class="blob-num js-line-number" data-line-number="1176"></td>
        <td id="LC1176" class="blob-code js-file-line">      &quot;Next steps&quot;</td>
      </tr>
      <tr>
        <td id="L1177" class="blob-num js-line-number" data-line-number="1177"></td>
        <td id="LC1177" class="blob-code js-file-line">     ]</td>
      </tr>
      <tr>
        <td id="L1178" class="blob-num js-line-number" data-line-number="1178"></td>
        <td id="LC1178" class="blob-code js-file-line">    },</td>
      </tr>
      <tr>
        <td id="L1179" class="blob-num js-line-number" data-line-number="1179"></td>
        <td id="LC1179" class="blob-code js-file-line">    {</td>
      </tr>
      <tr>
        <td id="L1180" class="blob-num js-line-number" data-line-number="1180"></td>
        <td id="LC1180" class="blob-code js-file-line">     &quot;cell_type&quot;: &quot;markdown&quot;,</td>
      </tr>
      <tr>
        <td id="L1181" class="blob-num js-line-number" data-line-number="1181"></td>
        <td id="LC1181" class="blob-code js-file-line">     &quot;metadata&quot;: {},</td>
      </tr>
      <tr>
        <td id="L1182" class="blob-num js-line-number" data-line-number="1182"></td>
        <td id="LC1182" class="blob-code js-file-line">     &quot;source&quot;: [</td>
      </tr>
      <tr>
        <td id="L1183" class="blob-num js-line-number" data-line-number="1183"></td>
        <td id="LC1183" class="blob-code js-file-line">      &quot;With the requisite Python background out of the way, now we&#39;re ready to dig in to analyzing our data, and along the way learn how to write better code, more efficiently, that is more likely to be correct.&quot;</td>
      </tr>
      <tr>
        <td id="L1184" class="blob-num js-line-number" data-line-number="1184"></td>
        <td id="LC1184" class="blob-code js-file-line">     ]</td>
      </tr>
      <tr>
        <td id="L1185" class="blob-num js-line-number" data-line-number="1185"></td>
        <td id="LC1185" class="blob-code js-file-line">    }</td>
      </tr>
      <tr>
        <td id="L1186" class="blob-num js-line-number" data-line-number="1186"></td>
        <td id="LC1186" class="blob-code js-file-line">   ],</td>
      </tr>
      <tr>
        <td id="L1187" class="blob-num js-line-number" data-line-number="1187"></td>
        <td id="LC1187" class="blob-code js-file-line">   &quot;metadata&quot;: {}</td>
      </tr>
      <tr>
        <td id="L1188" class="blob-num js-line-number" data-line-number="1188"></td>
        <td id="LC1188" class="blob-code js-file-line">  }</td>
      </tr>
      <tr>
        <td id="L1189" class="blob-num js-line-number" data-line-number="1189"></td>
        <td id="LC1189" class="blob-code js-file-line"> ]</td>
      </tr>
      <tr>
        <td id="L1190" class="blob-num js-line-number" data-line-number="1190"></td>
        <td id="LC1190" class="blob-code js-file-line">}</td>
      </tr>
</table>

  </div>

  </div>
</div>

<a href="#jump-to-line" rel="facebox[.linejump]" data-hotkey="l" style="display:none">Jump to Line</a>
<div id="jump-to-line" style="display:none">
  <form accept-charset="UTF-8" class="js-jump-to-line-form">
    <input class="linejump-input js-jump-to-line-field" type="text" placeholder="Jump to line&hellip;" autofocus>
    <button type="submit" class="button">Go</button>
  </form>
</div>

        </div>

      </div><!-- /.repo-container -->
      <div class="modal-backdrop"></div>
    </div><!-- /.container -->
  </div><!-- /.site -->


    </div><!-- /.wrapper -->

      <div class="container">
  <div class="site-footer" role="contentinfo">
    <ul class="site-footer-links right">
      <li><a href="https://status.github.com/">Status</a></li>
      <li><a href="http://developer.github.com">API</a></li>
      <li><a href="http://training.github.com">Training</a></li>
      <li><a href="http://shop.github.com">Shop</a></li>
      <li><a href="/blog">Blog</a></li>
      <li><a href="/about">About</a></li>

    </ul>

    <a href="/" aria-label="Homepage">
      <span class="mega-octicon octicon-mark-github" title="GitHub"></span>
    </a>

    <ul class="site-footer-links">
      <li>&copy; 2014 <span title="0.08559s from github-fe124-cp1-prd.iad.github.net">GitHub</span>, Inc.</li>
        <li><a href="/site/terms">Terms</a></li>
        <li><a href="/site/privacy">Privacy</a></li>
        <li><a href="/security">Security</a></li>
        <li><a href="/contact">Contact</a></li>
    </ul>
  </div><!-- /.site-footer -->
</div><!-- /.container -->


    <div class="fullscreen-overlay js-fullscreen-overlay" id="fullscreen_overlay">
  <div class="fullscreen-container js-suggester-container">
    <div class="textarea-wrap">
      <textarea name="fullscreen-contents" id="fullscreen-contents" class="fullscreen-contents js-fullscreen-contents js-suggester-field" placeholder=""></textarea>
    </div>
  </div>
  <div class="fullscreen-sidebar">
    <a href="#" class="exit-fullscreen js-exit-fullscreen tooltipped tooltipped-w" aria-label="Exit Zen Mode">
      <span class="mega-octicon octicon-screen-normal"></span>
    </a>
    <a href="#" class="theme-switcher js-theme-switcher tooltipped tooltipped-w"
      aria-label="Switch themes">
      <span class="octicon octicon-color-mode"></span>
    </a>
  </div>
</div>



    <div id="ajax-error-message" class="flash flash-error">
      <span class="octicon octicon-alert"></span>
      <a href="#" class="octicon octicon-x flash-close js-ajax-error-dismiss" aria-label="Dismiss error"></a>
      Something went wrong with that request. Please try again.
    </div>


      <script crossorigin="anonymous" src="https://assets-cdn.github.com/assets/frameworks-ba50a1ca41995f0b006425c6db96c5669d18fd98.js" type="text/javascript"></script>
      <script async="async" crossorigin="anonymous" src="https://assets-cdn.github.com/assets/github-5af309392aaffb9fb1c2717d2f8e173ce897168a.js" type="text/javascript"></script>
      
      
        <script async src="https://www.google-analytics.com/analytics.js"></script>
  </body>
</html>

